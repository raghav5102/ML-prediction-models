{
  "nbformat": 4,
  "nbformat_minor": 0,
  "metadata": {
    "colab": {
      "name": "VideoGame.ipynb",
      "provenance": [],
      "mount_file_id": "1-alYJcB8y05m_aopOQCDhAR2yPnohIxt",
      "authorship_tag": "ABX9TyO1tVAel1WZWNP5/AC/FRcJ",
      "include_colab_link": true
    },
    "kernelspec": {
      "name": "python3",
      "display_name": "Python 3"
    }
  },
  "cells": [
    {
      "cell_type": "markdown",
      "metadata": {
        "id": "view-in-github",
        "colab_type": "text"
      },
      "source": [
        "<a href=\"https://colab.research.google.com/github/raghav5102/ML-prediction-models/blob/main/VideoGame.ipynb\" target=\"_parent\"><img src=\"https://colab.research.google.com/assets/colab-badge.svg\" alt=\"Open In Colab\"/></a>"
      ]
    },
    {
      "cell_type": "markdown",
      "metadata": {
        "id": "900S_lI4CIBK"
      },
      "source": [
        "PREDICT VIDEO GAMES SALES (RANK :- 47 IN MACHINEHACK HACKATHON)"
      ]
    },
    {
      "cell_type": "code",
      "metadata": {
        "id": "9SQ6C77xOzL7"
      },
      "source": [
        "import pandas as pd\n",
        "import numpy as np"
      ],
      "execution_count": null,
      "outputs": []
    },
    {
      "cell_type": "code",
      "metadata": {
        "id": "yo3Awni3Piox",
        "colab": {
          "base_uri": "https://localhost:8080/",
          "height": 206
        },
        "outputId": "6656a204-1953-4417-853c-384045dcc3aa"
      },
      "source": [
        "df=pd.read_csv('Train.csv')\n",
        "df.head()"
      ],
      "execution_count": null,
      "outputs": [
        {
          "output_type": "execute_result",
          "data": {
            "text/html": [
              "<div>\n",
              "<style scoped>\n",
              "    .dataframe tbody tr th:only-of-type {\n",
              "        vertical-align: middle;\n",
              "    }\n",
              "\n",
              "    .dataframe tbody tr th {\n",
              "        vertical-align: top;\n",
              "    }\n",
              "\n",
              "    .dataframe thead th {\n",
              "        text-align: right;\n",
              "    }\n",
              "</style>\n",
              "<table border=\"1\" class=\"dataframe\">\n",
              "  <thead>\n",
              "    <tr style=\"text-align: right;\">\n",
              "      <th></th>\n",
              "      <th>ID</th>\n",
              "      <th>CONSOLE</th>\n",
              "      <th>YEAR</th>\n",
              "      <th>CATEGORY</th>\n",
              "      <th>PUBLISHER</th>\n",
              "      <th>RATING</th>\n",
              "      <th>CRITICS_POINTS</th>\n",
              "      <th>USER_POINTS</th>\n",
              "      <th>SalesInMillions</th>\n",
              "    </tr>\n",
              "  </thead>\n",
              "  <tbody>\n",
              "    <tr>\n",
              "      <th>0</th>\n",
              "      <td>2860</td>\n",
              "      <td>ds</td>\n",
              "      <td>2008</td>\n",
              "      <td>role-playing</td>\n",
              "      <td>Nintendo</td>\n",
              "      <td>E</td>\n",
              "      <td>2.833333</td>\n",
              "      <td>0.303704</td>\n",
              "      <td>1.779257</td>\n",
              "    </tr>\n",
              "    <tr>\n",
              "      <th>1</th>\n",
              "      <td>731</td>\n",
              "      <td>wii</td>\n",
              "      <td>2012</td>\n",
              "      <td>simulation</td>\n",
              "      <td>Konami Digital Entertainment</td>\n",
              "      <td>E10+</td>\n",
              "      <td>13.200000</td>\n",
              "      <td>1.640000</td>\n",
              "      <td>0.215050</td>\n",
              "    </tr>\n",
              "    <tr>\n",
              "      <th>2</th>\n",
              "      <td>495</td>\n",
              "      <td>pc</td>\n",
              "      <td>2019</td>\n",
              "      <td>shooter</td>\n",
              "      <td>Activision</td>\n",
              "      <td>M</td>\n",
              "      <td>4.562500</td>\n",
              "      <td>0.006410</td>\n",
              "      <td>0.534402</td>\n",
              "    </tr>\n",
              "    <tr>\n",
              "      <th>3</th>\n",
              "      <td>2641</td>\n",
              "      <td>ps2</td>\n",
              "      <td>2002</td>\n",
              "      <td>sports</td>\n",
              "      <td>Electronic Arts</td>\n",
              "      <td>E</td>\n",
              "      <td>4.181818</td>\n",
              "      <td>0.326923</td>\n",
              "      <td>1.383964</td>\n",
              "    </tr>\n",
              "    <tr>\n",
              "      <th>4</th>\n",
              "      <td>811</td>\n",
              "      <td>ps3</td>\n",
              "      <td>2013</td>\n",
              "      <td>action</td>\n",
              "      <td>Activision</td>\n",
              "      <td>M</td>\n",
              "      <td>2.259259</td>\n",
              "      <td>0.032579</td>\n",
              "      <td>0.082671</td>\n",
              "    </tr>\n",
              "  </tbody>\n",
              "</table>\n",
              "</div>"
            ],
            "text/plain": [
              "     ID CONSOLE  YEAR  ... CRITICS_POINTS USER_POINTS SalesInMillions\n",
              "0  2860      ds  2008  ...       2.833333    0.303704        1.779257\n",
              "1   731     wii  2012  ...      13.200000    1.640000        0.215050\n",
              "2   495      pc  2019  ...       4.562500    0.006410        0.534402\n",
              "3  2641     ps2  2002  ...       4.181818    0.326923        1.383964\n",
              "4   811     ps3  2013  ...       2.259259    0.032579        0.082671\n",
              "\n",
              "[5 rows x 9 columns]"
            ]
          },
          "metadata": {
            "tags": []
          },
          "execution_count": 100
        }
      ]
    },
    {
      "cell_type": "code",
      "metadata": {
        "id": "bipuCh5lPu13",
        "colab": {
          "base_uri": "https://localhost:8080/",
          "height": 206
        },
        "outputId": "f7300f9c-b4ba-4a6e-a9ef-e1f60589590f"
      },
      "source": [
        "dft=pd.read_csv('Test.csv')\n",
        "dft.head()"
      ],
      "execution_count": null,
      "outputs": [
        {
          "output_type": "execute_result",
          "data": {
            "text/html": [
              "<div>\n",
              "<style scoped>\n",
              "    .dataframe tbody tr th:only-of-type {\n",
              "        vertical-align: middle;\n",
              "    }\n",
              "\n",
              "    .dataframe tbody tr th {\n",
              "        vertical-align: top;\n",
              "    }\n",
              "\n",
              "    .dataframe thead th {\n",
              "        text-align: right;\n",
              "    }\n",
              "</style>\n",
              "<table border=\"1\" class=\"dataframe\">\n",
              "  <thead>\n",
              "    <tr style=\"text-align: right;\">\n",
              "      <th></th>\n",
              "      <th>ID</th>\n",
              "      <th>CONSOLE</th>\n",
              "      <th>YEAR</th>\n",
              "      <th>CATEGORY</th>\n",
              "      <th>PUBLISHER</th>\n",
              "      <th>RATING</th>\n",
              "      <th>CRITICS_POINTS</th>\n",
              "      <th>USER_POINTS</th>\n",
              "    </tr>\n",
              "  </thead>\n",
              "  <tbody>\n",
              "    <tr>\n",
              "      <th>0</th>\n",
              "      <td>4310</td>\n",
              "      <td>ps2</td>\n",
              "      <td>2008</td>\n",
              "      <td>action</td>\n",
              "      <td>Tecmo Koei</td>\n",
              "      <td>T</td>\n",
              "      <td>3.928571</td>\n",
              "      <td>0.482353</td>\n",
              "    </tr>\n",
              "    <tr>\n",
              "      <th>1</th>\n",
              "      <td>4011</td>\n",
              "      <td>psp</td>\n",
              "      <td>2007</td>\n",
              "      <td>strategy</td>\n",
              "      <td>Atari</td>\n",
              "      <td>E10+</td>\n",
              "      <td>5.538462</td>\n",
              "      <td>0.071795</td>\n",
              "    </tr>\n",
              "    <tr>\n",
              "      <th>2</th>\n",
              "      <td>2185</td>\n",
              "      <td>ps2</td>\n",
              "      <td>2004</td>\n",
              "      <td>shooter</td>\n",
              "      <td>Electronic Arts</td>\n",
              "      <td>T</td>\n",
              "      <td>3.034483</td>\n",
              "      <td>0.062044</td>\n",
              "    </tr>\n",
              "    <tr>\n",
              "      <th>3</th>\n",
              "      <td>1644</td>\n",
              "      <td>x</td>\n",
              "      <td>2006</td>\n",
              "      <td>action</td>\n",
              "      <td>Electronic Arts</td>\n",
              "      <td>E</td>\n",
              "      <td>2.913043</td>\n",
              "      <td>0.880000</td>\n",
              "    </tr>\n",
              "    <tr>\n",
              "      <th>4</th>\n",
              "      <td>188</td>\n",
              "      <td>3ds</td>\n",
              "      <td>2011</td>\n",
              "      <td>racing</td>\n",
              "      <td>Ubisoft</td>\n",
              "      <td>E10+</td>\n",
              "      <td>1.162162</td>\n",
              "      <td>0.183333</td>\n",
              "    </tr>\n",
              "  </tbody>\n",
              "</table>\n",
              "</div>"
            ],
            "text/plain": [
              "     ID CONSOLE  YEAR  ... RATING CRITICS_POINTS USER_POINTS\n",
              "0  4310     ps2  2008  ...      T       3.928571    0.482353\n",
              "1  4011     psp  2007  ...   E10+       5.538462    0.071795\n",
              "2  2185     ps2  2004  ...      T       3.034483    0.062044\n",
              "3  1644       x  2006  ...      E       2.913043    0.880000\n",
              "4   188     3ds  2011  ...   E10+       1.162162    0.183333\n",
              "\n",
              "[5 rows x 8 columns]"
            ]
          },
          "metadata": {
            "tags": []
          },
          "execution_count": 101
        }
      ]
    },
    {
      "cell_type": "code",
      "metadata": {
        "id": "T3WFf7ZoP5qJ"
      },
      "source": [
        "y_train=df['SalesInMillions']\n",
        "X_train=df.drop('SalesInMillions',axis=1)\n",
        "\n",
        "X_test=dft"
      ],
      "execution_count": null,
      "outputs": []
    },
    {
      "cell_type": "code",
      "metadata": {
        "id": "DmS3f5ZsQKl_"
      },
      "source": [
        "X_train=X_train.drop('ID',axis=1)\n",
        "X_test=X_test.drop('ID',axis=1)"
      ],
      "execution_count": null,
      "outputs": []
    },
    {
      "cell_type": "code",
      "metadata": {
        "id": "VwawnOIaQZNL",
        "colab": {
          "base_uri": "https://localhost:8080/",
          "height": 206
        },
        "outputId": "778167a6-a5df-404a-c12f-e28476cd268a"
      },
      "source": [
        "X_train.head()"
      ],
      "execution_count": null,
      "outputs": [
        {
          "output_type": "execute_result",
          "data": {
            "text/html": [
              "<div>\n",
              "<style scoped>\n",
              "    .dataframe tbody tr th:only-of-type {\n",
              "        vertical-align: middle;\n",
              "    }\n",
              "\n",
              "    .dataframe tbody tr th {\n",
              "        vertical-align: top;\n",
              "    }\n",
              "\n",
              "    .dataframe thead th {\n",
              "        text-align: right;\n",
              "    }\n",
              "</style>\n",
              "<table border=\"1\" class=\"dataframe\">\n",
              "  <thead>\n",
              "    <tr style=\"text-align: right;\">\n",
              "      <th></th>\n",
              "      <th>CONSOLE</th>\n",
              "      <th>YEAR</th>\n",
              "      <th>CATEGORY</th>\n",
              "      <th>PUBLISHER</th>\n",
              "      <th>RATING</th>\n",
              "      <th>CRITICS_POINTS</th>\n",
              "      <th>USER_POINTS</th>\n",
              "    </tr>\n",
              "  </thead>\n",
              "  <tbody>\n",
              "    <tr>\n",
              "      <th>0</th>\n",
              "      <td>ds</td>\n",
              "      <td>2008</td>\n",
              "      <td>role-playing</td>\n",
              "      <td>Nintendo</td>\n",
              "      <td>E</td>\n",
              "      <td>2.833333</td>\n",
              "      <td>0.303704</td>\n",
              "    </tr>\n",
              "    <tr>\n",
              "      <th>1</th>\n",
              "      <td>wii</td>\n",
              "      <td>2012</td>\n",
              "      <td>simulation</td>\n",
              "      <td>Konami Digital Entertainment</td>\n",
              "      <td>E10+</td>\n",
              "      <td>13.200000</td>\n",
              "      <td>1.640000</td>\n",
              "    </tr>\n",
              "    <tr>\n",
              "      <th>2</th>\n",
              "      <td>pc</td>\n",
              "      <td>2019</td>\n",
              "      <td>shooter</td>\n",
              "      <td>Activision</td>\n",
              "      <td>M</td>\n",
              "      <td>4.562500</td>\n",
              "      <td>0.006410</td>\n",
              "    </tr>\n",
              "    <tr>\n",
              "      <th>3</th>\n",
              "      <td>ps2</td>\n",
              "      <td>2002</td>\n",
              "      <td>sports</td>\n",
              "      <td>Electronic Arts</td>\n",
              "      <td>E</td>\n",
              "      <td>4.181818</td>\n",
              "      <td>0.326923</td>\n",
              "    </tr>\n",
              "    <tr>\n",
              "      <th>4</th>\n",
              "      <td>ps3</td>\n",
              "      <td>2013</td>\n",
              "      <td>action</td>\n",
              "      <td>Activision</td>\n",
              "      <td>M</td>\n",
              "      <td>2.259259</td>\n",
              "      <td>0.032579</td>\n",
              "    </tr>\n",
              "  </tbody>\n",
              "</table>\n",
              "</div>"
            ],
            "text/plain": [
              "  CONSOLE  YEAR      CATEGORY  ... RATING CRITICS_POINTS  USER_POINTS\n",
              "0      ds  2008  role-playing  ...      E       2.833333     0.303704\n",
              "1     wii  2012    simulation  ...   E10+      13.200000     1.640000\n",
              "2      pc  2019       shooter  ...      M       4.562500     0.006410\n",
              "3     ps2  2002        sports  ...      E       4.181818     0.326923\n",
              "4     ps3  2013        action  ...      M       2.259259     0.032579\n",
              "\n",
              "[5 rows x 7 columns]"
            ]
          },
          "metadata": {
            "tags": []
          },
          "execution_count": 104
        }
      ]
    },
    {
      "cell_type": "code",
      "metadata": {
        "id": "_PGBWIl4QbwW",
        "colab": {
          "base_uri": "https://localhost:8080/",
          "height": 206
        },
        "outputId": "1d37d158-cf20-4475-ba71-3ac7b6a90756"
      },
      "source": [
        "X_test.head()"
      ],
      "execution_count": null,
      "outputs": [
        {
          "output_type": "execute_result",
          "data": {
            "text/html": [
              "<div>\n",
              "<style scoped>\n",
              "    .dataframe tbody tr th:only-of-type {\n",
              "        vertical-align: middle;\n",
              "    }\n",
              "\n",
              "    .dataframe tbody tr th {\n",
              "        vertical-align: top;\n",
              "    }\n",
              "\n",
              "    .dataframe thead th {\n",
              "        text-align: right;\n",
              "    }\n",
              "</style>\n",
              "<table border=\"1\" class=\"dataframe\">\n",
              "  <thead>\n",
              "    <tr style=\"text-align: right;\">\n",
              "      <th></th>\n",
              "      <th>CONSOLE</th>\n",
              "      <th>YEAR</th>\n",
              "      <th>CATEGORY</th>\n",
              "      <th>PUBLISHER</th>\n",
              "      <th>RATING</th>\n",
              "      <th>CRITICS_POINTS</th>\n",
              "      <th>USER_POINTS</th>\n",
              "    </tr>\n",
              "  </thead>\n",
              "  <tbody>\n",
              "    <tr>\n",
              "      <th>0</th>\n",
              "      <td>ps2</td>\n",
              "      <td>2008</td>\n",
              "      <td>action</td>\n",
              "      <td>Tecmo Koei</td>\n",
              "      <td>T</td>\n",
              "      <td>3.928571</td>\n",
              "      <td>0.482353</td>\n",
              "    </tr>\n",
              "    <tr>\n",
              "      <th>1</th>\n",
              "      <td>psp</td>\n",
              "      <td>2007</td>\n",
              "      <td>strategy</td>\n",
              "      <td>Atari</td>\n",
              "      <td>E10+</td>\n",
              "      <td>5.538462</td>\n",
              "      <td>0.071795</td>\n",
              "    </tr>\n",
              "    <tr>\n",
              "      <th>2</th>\n",
              "      <td>ps2</td>\n",
              "      <td>2004</td>\n",
              "      <td>shooter</td>\n",
              "      <td>Electronic Arts</td>\n",
              "      <td>T</td>\n",
              "      <td>3.034483</td>\n",
              "      <td>0.062044</td>\n",
              "    </tr>\n",
              "    <tr>\n",
              "      <th>3</th>\n",
              "      <td>x</td>\n",
              "      <td>2006</td>\n",
              "      <td>action</td>\n",
              "      <td>Electronic Arts</td>\n",
              "      <td>E</td>\n",
              "      <td>2.913043</td>\n",
              "      <td>0.880000</td>\n",
              "    </tr>\n",
              "    <tr>\n",
              "      <th>4</th>\n",
              "      <td>3ds</td>\n",
              "      <td>2011</td>\n",
              "      <td>racing</td>\n",
              "      <td>Ubisoft</td>\n",
              "      <td>E10+</td>\n",
              "      <td>1.162162</td>\n",
              "      <td>0.183333</td>\n",
              "    </tr>\n",
              "  </tbody>\n",
              "</table>\n",
              "</div>"
            ],
            "text/plain": [
              "  CONSOLE  YEAR  CATEGORY        PUBLISHER RATING  CRITICS_POINTS  USER_POINTS\n",
              "0     ps2  2008    action       Tecmo Koei      T        3.928571     0.482353\n",
              "1     psp  2007  strategy            Atari   E10+        5.538462     0.071795\n",
              "2     ps2  2004   shooter  Electronic Arts      T        3.034483     0.062044\n",
              "3       x  2006    action  Electronic Arts      E        2.913043     0.880000\n",
              "4     3ds  2011    racing          Ubisoft   E10+        1.162162     0.183333"
            ]
          },
          "metadata": {
            "tags": []
          },
          "execution_count": 105
        }
      ]
    },
    {
      "cell_type": "code",
      "metadata": {
        "id": "IcjGpwqiQeE0"
      },
      "source": [
        "X_train=X_train.fillna(method='pad')\n",
        "X_test=X_test.fillna(method='pad')"
      ],
      "execution_count": null,
      "outputs": []
    },
    {
      "cell_type": "code",
      "metadata": {
        "id": "BgN-ea40QwyH"
      },
      "source": [
        "def unique_items(list1, list2):\n",
        "  a = list1\n",
        "  b = list2\n",
        "  a.extend(b)\n",
        "  return list(set(a))"
      ],
      "execution_count": null,
      "outputs": []
    },
    {
      "cell_type": "code",
      "metadata": {
        "id": "EcWtAwseQ0iT",
        "colab": {
          "base_uri": "https://localhost:8080/",
          "height": 35
        },
        "outputId": "1c69aa93-2ea8-4fcb-e8e9-ac642c8a72a9"
      },
      "source": [
        "from sklearn.preprocessing import LabelEncoder\n",
        "from sklearn.exceptions import NotFittedError\n",
        "\n",
        "le_t1v = LabelEncoder()\n",
        "all_t1v= unique_items(list(X_train['CONSOLE']),list(X_test['CONSOLE']))\n",
        "le_t1v.fit(all_t1v)\n",
        "\n",
        "le_t2v= LabelEncoder()\n",
        "all_t2v = unique_items(list(X_train['CATEGORY']),list(X_test['CATEGORY']))\n",
        "le_t2v.fit(all_t2v)\n",
        "\n",
        "le_t1i = LabelEncoder()\n",
        "all_t1i = unique_items(list(X_train['PUBLISHER']),list(X_test['PUBLISHER']))\n",
        "le_t1i.fit(all_t1i)\n",
        "\n",
        "le_t2i = LabelEncoder()\n",
        "all_t2i = unique_items(list(X_train['RATING']),list(X_test['RATING']))\n",
        "le_t2i.fit(all_t2i)\n"
      ],
      "execution_count": null,
      "outputs": [
        {
          "output_type": "execute_result",
          "data": {
            "text/plain": [
              "LabelEncoder()"
            ]
          },
          "metadata": {
            "tags": []
          },
          "execution_count": 108
        }
      ]
    },
    {
      "cell_type": "code",
      "metadata": {
        "id": "AWv6z9YERUfY"
      },
      "source": [
        "X_train['CONSOLE'] = le_t1v.transform(X_train['CONSOLE'])\n",
        "\n",
        "X_train['CATEGORY'] = le_t2v.transform(X_train['CATEGORY'])\n",
        "\n",
        "X_train['PUBLISHER'] = le_t1i.transform(X_train['PUBLISHER'])\n",
        "\n",
        "X_train['RATING'] = le_t2i.transform(X_train['RATING'])"
      ],
      "execution_count": null,
      "outputs": []
    },
    {
      "cell_type": "code",
      "metadata": {
        "id": "y-kwB3ohRu8C",
        "colab": {
          "base_uri": "https://localhost:8080/",
          "height": 206
        },
        "outputId": "2d99cec9-5bff-4f3b-907d-1880035a927c"
      },
      "source": [
        "X_train.head()"
      ],
      "execution_count": null,
      "outputs": [
        {
          "output_type": "execute_result",
          "data": {
            "text/html": [
              "<div>\n",
              "<style scoped>\n",
              "    .dataframe tbody tr th:only-of-type {\n",
              "        vertical-align: middle;\n",
              "    }\n",
              "\n",
              "    .dataframe tbody tr th {\n",
              "        vertical-align: top;\n",
              "    }\n",
              "\n",
              "    .dataframe thead th {\n",
              "        text-align: right;\n",
              "    }\n",
              "</style>\n",
              "<table border=\"1\" class=\"dataframe\">\n",
              "  <thead>\n",
              "    <tr style=\"text-align: right;\">\n",
              "      <th></th>\n",
              "      <th>CONSOLE</th>\n",
              "      <th>YEAR</th>\n",
              "      <th>CATEGORY</th>\n",
              "      <th>PUBLISHER</th>\n",
              "      <th>RATING</th>\n",
              "      <th>CRITICS_POINTS</th>\n",
              "      <th>USER_POINTS</th>\n",
              "    </tr>\n",
              "  </thead>\n",
              "  <tbody>\n",
              "    <tr>\n",
              "      <th>0</th>\n",
              "      <td>2</td>\n",
              "      <td>2008</td>\n",
              "      <td>7</td>\n",
              "      <td>140</td>\n",
              "      <td>1</td>\n",
              "      <td>2.833333</td>\n",
              "      <td>0.303704</td>\n",
              "    </tr>\n",
              "    <tr>\n",
              "      <th>1</th>\n",
              "      <td>12</td>\n",
              "      <td>2012</td>\n",
              "      <td>9</td>\n",
              "      <td>110</td>\n",
              "      <td>2</td>\n",
              "      <td>13.200000</td>\n",
              "      <td>1.640000</td>\n",
              "    </tr>\n",
              "    <tr>\n",
              "      <th>2</th>\n",
              "      <td>5</td>\n",
              "      <td>2019</td>\n",
              "      <td>8</td>\n",
              "      <td>8</td>\n",
              "      <td>4</td>\n",
              "      <td>4.562500</td>\n",
              "      <td>0.006410</td>\n",
              "    </tr>\n",
              "    <tr>\n",
              "      <th>3</th>\n",
              "      <td>7</td>\n",
              "      <td>2002</td>\n",
              "      <td>10</td>\n",
              "      <td>56</td>\n",
              "      <td>1</td>\n",
              "      <td>4.181818</td>\n",
              "      <td>0.326923</td>\n",
              "    </tr>\n",
              "    <tr>\n",
              "      <th>4</th>\n",
              "      <td>8</td>\n",
              "      <td>2013</td>\n",
              "      <td>0</td>\n",
              "      <td>8</td>\n",
              "      <td>4</td>\n",
              "      <td>2.259259</td>\n",
              "      <td>0.032579</td>\n",
              "    </tr>\n",
              "  </tbody>\n",
              "</table>\n",
              "</div>"
            ],
            "text/plain": [
              "   CONSOLE  YEAR  CATEGORY  PUBLISHER  RATING  CRITICS_POINTS  USER_POINTS\n",
              "0        2  2008         7        140       1        2.833333     0.303704\n",
              "1       12  2012         9        110       2       13.200000     1.640000\n",
              "2        5  2019         8          8       4        4.562500     0.006410\n",
              "3        7  2002        10         56       1        4.181818     0.326923\n",
              "4        8  2013         0          8       4        2.259259     0.032579"
            ]
          },
          "metadata": {
            "tags": []
          },
          "execution_count": 110
        }
      ]
    },
    {
      "cell_type": "code",
      "metadata": {
        "id": "wa4ogpD2Rw9Y"
      },
      "source": [
        "X_test['CONSOLE'] = le_t1v.transform(X_test['CONSOLE'])\n",
        "\n",
        "X_test['CATEGORY'] = le_t2v.transform(X_test['CATEGORY'])\n",
        "\n",
        "X_test['PUBLISHER'] = le_t1i.transform(X_test['PUBLISHER'])\n",
        "\n",
        "X_test['RATING'] = le_t2i.transform(X_test['RATING'])"
      ],
      "execution_count": null,
      "outputs": []
    },
    {
      "cell_type": "code",
      "metadata": {
        "id": "EYRCKr0_R-zq",
        "colab": {
          "base_uri": "https://localhost:8080/",
          "height": 206
        },
        "outputId": "67804ed3-3af0-4f3d-cd56-4cc01b75096b"
      },
      "source": [
        "X_test.head()"
      ],
      "execution_count": null,
      "outputs": [
        {
          "output_type": "execute_result",
          "data": {
            "text/html": [
              "<div>\n",
              "<style scoped>\n",
              "    .dataframe tbody tr th:only-of-type {\n",
              "        vertical-align: middle;\n",
              "    }\n",
              "\n",
              "    .dataframe tbody tr th {\n",
              "        vertical-align: top;\n",
              "    }\n",
              "\n",
              "    .dataframe thead th {\n",
              "        text-align: right;\n",
              "    }\n",
              "</style>\n",
              "<table border=\"1\" class=\"dataframe\">\n",
              "  <thead>\n",
              "    <tr style=\"text-align: right;\">\n",
              "      <th></th>\n",
              "      <th>CONSOLE</th>\n",
              "      <th>YEAR</th>\n",
              "      <th>CATEGORY</th>\n",
              "      <th>PUBLISHER</th>\n",
              "      <th>RATING</th>\n",
              "      <th>CRITICS_POINTS</th>\n",
              "      <th>USER_POINTS</th>\n",
              "    </tr>\n",
              "  </thead>\n",
              "  <tbody>\n",
              "    <tr>\n",
              "      <th>0</th>\n",
              "      <td>7</td>\n",
              "      <td>2008</td>\n",
              "      <td>0</td>\n",
              "      <td>202</td>\n",
              "      <td>6</td>\n",
              "      <td>3.928571</td>\n",
              "      <td>0.482353</td>\n",
              "    </tr>\n",
              "    <tr>\n",
              "      <th>1</th>\n",
              "      <td>10</td>\n",
              "      <td>2007</td>\n",
              "      <td>11</td>\n",
              "      <td>21</td>\n",
              "      <td>2</td>\n",
              "      <td>5.538462</td>\n",
              "      <td>0.071795</td>\n",
              "    </tr>\n",
              "    <tr>\n",
              "      <th>2</th>\n",
              "      <td>7</td>\n",
              "      <td>2004</td>\n",
              "      <td>8</td>\n",
              "      <td>56</td>\n",
              "      <td>6</td>\n",
              "      <td>3.034483</td>\n",
              "      <td>0.062044</td>\n",
              "    </tr>\n",
              "    <tr>\n",
              "      <th>3</th>\n",
              "      <td>14</td>\n",
              "      <td>2006</td>\n",
              "      <td>0</td>\n",
              "      <td>56</td>\n",
              "      <td>1</td>\n",
              "      <td>2.913043</td>\n",
              "      <td>0.880000</td>\n",
              "    </tr>\n",
              "    <tr>\n",
              "      <th>4</th>\n",
              "      <td>0</td>\n",
              "      <td>2011</td>\n",
              "      <td>6</td>\n",
              "      <td>212</td>\n",
              "      <td>2</td>\n",
              "      <td>1.162162</td>\n",
              "      <td>0.183333</td>\n",
              "    </tr>\n",
              "  </tbody>\n",
              "</table>\n",
              "</div>"
            ],
            "text/plain": [
              "   CONSOLE  YEAR  CATEGORY  PUBLISHER  RATING  CRITICS_POINTS  USER_POINTS\n",
              "0        7  2008         0        202       6        3.928571     0.482353\n",
              "1       10  2007        11         21       2        5.538462     0.071795\n",
              "2        7  2004         8         56       6        3.034483     0.062044\n",
              "3       14  2006         0         56       1        2.913043     0.880000\n",
              "4        0  2011         6        212       2        1.162162     0.183333"
            ]
          },
          "metadata": {
            "tags": []
          },
          "execution_count": 112
        }
      ]
    },
    {
      "cell_type": "code",
      "metadata": {
        "id": "6j_j7nf2SAfo"
      },
      "source": [
        "from sklearn.ensemble import RandomForestRegressor"
      ],
      "execution_count": null,
      "outputs": []
    },
    {
      "cell_type": "code",
      "metadata": {
        "id": "XuUM6YdDSRet"
      },
      "source": [
        "clf=RandomForestRegressor(n_estimators=5000)"
      ],
      "execution_count": null,
      "outputs": []
    },
    {
      "cell_type": "code",
      "metadata": {
        "id": "oD2RwusASX_s",
        "colab": {
          "base_uri": "https://localhost:8080/",
          "height": 144
        },
        "outputId": "33a1e94d-6040-4618-aa02-8c46f4898633"
      },
      "source": [
        "clf.fit(X_train,y_train)"
      ],
      "execution_count": null,
      "outputs": [
        {
          "output_type": "execute_result",
          "data": {
            "text/plain": [
              "RandomForestRegressor(bootstrap=True, ccp_alpha=0.0, criterion='mse',\n",
              "                      max_depth=None, max_features='auto', max_leaf_nodes=None,\n",
              "                      max_samples=None, min_impurity_decrease=0.0,\n",
              "                      min_impurity_split=None, min_samples_leaf=1,\n",
              "                      min_samples_split=2, min_weight_fraction_leaf=0.0,\n",
              "                      n_estimators=5000, n_jobs=None, oob_score=False,\n",
              "                      random_state=None, verbose=0, warm_start=False)"
            ]
          },
          "metadata": {
            "tags": []
          },
          "execution_count": 121
        }
      ]
    },
    {
      "cell_type": "code",
      "metadata": {
        "id": "ajbkNNk3Sa8X"
      },
      "source": [
        "y_test=clf.predict(X_test)"
      ],
      "execution_count": null,
      "outputs": []
    },
    {
      "cell_type": "code",
      "metadata": {
        "id": "pmtcGF3WSnvV"
      },
      "source": [
        "dft['SalesInMillions']=y_test"
      ],
      "execution_count": null,
      "outputs": []
    },
    {
      "cell_type": "code",
      "metadata": {
        "id": "Lp8GX26hSuL5",
        "colab": {
          "base_uri": "https://localhost:8080/",
          "height": 206
        },
        "outputId": "e9850f44-b713-4e59-e077-41c03e0d828d"
      },
      "source": [
        "dft.head()"
      ],
      "execution_count": null,
      "outputs": [
        {
          "output_type": "execute_result",
          "data": {
            "text/html": [
              "<div>\n",
              "<style scoped>\n",
              "    .dataframe tbody tr th:only-of-type {\n",
              "        vertical-align: middle;\n",
              "    }\n",
              "\n",
              "    .dataframe tbody tr th {\n",
              "        vertical-align: top;\n",
              "    }\n",
              "\n",
              "    .dataframe thead th {\n",
              "        text-align: right;\n",
              "    }\n",
              "</style>\n",
              "<table border=\"1\" class=\"dataframe\">\n",
              "  <thead>\n",
              "    <tr style=\"text-align: right;\">\n",
              "      <th></th>\n",
              "      <th>ID</th>\n",
              "      <th>CONSOLE</th>\n",
              "      <th>YEAR</th>\n",
              "      <th>CATEGORY</th>\n",
              "      <th>PUBLISHER</th>\n",
              "      <th>RATING</th>\n",
              "      <th>CRITICS_POINTS</th>\n",
              "      <th>USER_POINTS</th>\n",
              "      <th>SalesInMillions</th>\n",
              "    </tr>\n",
              "  </thead>\n",
              "  <tbody>\n",
              "    <tr>\n",
              "      <th>0</th>\n",
              "      <td>4310</td>\n",
              "      <td>ps2</td>\n",
              "      <td>2008</td>\n",
              "      <td>action</td>\n",
              "      <td>Tecmo Koei</td>\n",
              "      <td>T</td>\n",
              "      <td>3.928571</td>\n",
              "      <td>0.482353</td>\n",
              "      <td>1.747499</td>\n",
              "    </tr>\n",
              "    <tr>\n",
              "      <th>1</th>\n",
              "      <td>4011</td>\n",
              "      <td>psp</td>\n",
              "      <td>2007</td>\n",
              "      <td>strategy</td>\n",
              "      <td>Atari</td>\n",
              "      <td>E10+</td>\n",
              "      <td>5.538462</td>\n",
              "      <td>0.071795</td>\n",
              "      <td>2.763480</td>\n",
              "    </tr>\n",
              "    <tr>\n",
              "      <th>2</th>\n",
              "      <td>2185</td>\n",
              "      <td>ps2</td>\n",
              "      <td>2004</td>\n",
              "      <td>shooter</td>\n",
              "      <td>Electronic Arts</td>\n",
              "      <td>T</td>\n",
              "      <td>3.034483</td>\n",
              "      <td>0.062044</td>\n",
              "      <td>2.492136</td>\n",
              "    </tr>\n",
              "    <tr>\n",
              "      <th>3</th>\n",
              "      <td>1644</td>\n",
              "      <td>x</td>\n",
              "      <td>2006</td>\n",
              "      <td>action</td>\n",
              "      <td>Electronic Arts</td>\n",
              "      <td>E</td>\n",
              "      <td>2.913043</td>\n",
              "      <td>0.880000</td>\n",
              "      <td>2.203211</td>\n",
              "    </tr>\n",
              "    <tr>\n",
              "      <th>4</th>\n",
              "      <td>188</td>\n",
              "      <td>3ds</td>\n",
              "      <td>2011</td>\n",
              "      <td>racing</td>\n",
              "      <td>Ubisoft</td>\n",
              "      <td>E10+</td>\n",
              "      <td>1.162162</td>\n",
              "      <td>0.183333</td>\n",
              "      <td>1.947347</td>\n",
              "    </tr>\n",
              "  </tbody>\n",
              "</table>\n",
              "</div>"
            ],
            "text/plain": [
              "     ID CONSOLE  YEAR  ... CRITICS_POINTS USER_POINTS SalesInMillions\n",
              "0  4310     ps2  2008  ...       3.928571    0.482353        1.747499\n",
              "1  4011     psp  2007  ...       5.538462    0.071795        2.763480\n",
              "2  2185     ps2  2004  ...       3.034483    0.062044        2.492136\n",
              "3  1644       x  2006  ...       2.913043    0.880000        2.203211\n",
              "4   188     3ds  2011  ...       1.162162    0.183333        1.947347\n",
              "\n",
              "[5 rows x 9 columns]"
            ]
          },
          "metadata": {
            "tags": []
          },
          "execution_count": 124
        }
      ]
    },
    {
      "cell_type": "code",
      "metadata": {
        "id": "6efw9G8_Sv8y"
      },
      "source": [
        "res=pd.DataFrame(y_test)"
      ],
      "execution_count": null,
      "outputs": []
    },
    {
      "cell_type": "code",
      "metadata": {
        "id": "_ZnwzZb4TA33",
        "colab": {
          "base_uri": "https://localhost:8080/",
          "height": 206
        },
        "outputId": "da33f426-3b27-4e8a-bb9a-eb31643fa033"
      },
      "source": [
        "res.head()"
      ],
      "execution_count": null,
      "outputs": [
        {
          "output_type": "execute_result",
          "data": {
            "text/html": [
              "<div>\n",
              "<style scoped>\n",
              "    .dataframe tbody tr th:only-of-type {\n",
              "        vertical-align: middle;\n",
              "    }\n",
              "\n",
              "    .dataframe tbody tr th {\n",
              "        vertical-align: top;\n",
              "    }\n",
              "\n",
              "    .dataframe thead th {\n",
              "        text-align: right;\n",
              "    }\n",
              "</style>\n",
              "<table border=\"1\" class=\"dataframe\">\n",
              "  <thead>\n",
              "    <tr style=\"text-align: right;\">\n",
              "      <th></th>\n",
              "      <th>0</th>\n",
              "    </tr>\n",
              "  </thead>\n",
              "  <tbody>\n",
              "    <tr>\n",
              "      <th>0</th>\n",
              "      <td>1.747499</td>\n",
              "    </tr>\n",
              "    <tr>\n",
              "      <th>1</th>\n",
              "      <td>2.763480</td>\n",
              "    </tr>\n",
              "    <tr>\n",
              "      <th>2</th>\n",
              "      <td>2.492136</td>\n",
              "    </tr>\n",
              "    <tr>\n",
              "      <th>3</th>\n",
              "      <td>2.203211</td>\n",
              "    </tr>\n",
              "    <tr>\n",
              "      <th>4</th>\n",
              "      <td>1.947347</td>\n",
              "    </tr>\n",
              "  </tbody>\n",
              "</table>\n",
              "</div>"
            ],
            "text/plain": [
              "          0\n",
              "0  1.747499\n",
              "1  2.763480\n",
              "2  2.492136\n",
              "3  2.203211\n",
              "4  1.947347"
            ]
          },
          "metadata": {
            "tags": []
          },
          "execution_count": 126
        }
      ]
    },
    {
      "cell_type": "code",
      "metadata": {
        "id": "t7fvikPrTjbQ"
      },
      "source": [
        "res.to_csv('Videogame.csv',index=False)\n",
        "!cp Videogame.csv \"drive/My Drive/\""
      ],
      "execution_count": null,
      "outputs": []
    },
    {
      "cell_type": "code",
      "metadata": {
        "id": "bAqWqkYlTsI1",
        "colab": {
          "base_uri": "https://localhost:8080/",
          "height": 269
        },
        "outputId": "e0b89837-854b-4922-b19a-16ec18ed106e"
      },
      "source": [
        "def rf_feat_importance(m, df):\n",
        "    return pd.DataFrame({'cols':df.columns, 'imp':m.feature_importances_}\n",
        "                       ).sort_values('imp', ascending=False)\n",
        "fi = rf_feat_importance(clf, X_train); \n",
        "fi"
      ],
      "execution_count": null,
      "outputs": [
        {
          "output_type": "execute_result",
          "data": {
            "text/html": [
              "<div>\n",
              "<style scoped>\n",
              "    .dataframe tbody tr th:only-of-type {\n",
              "        vertical-align: middle;\n",
              "    }\n",
              "\n",
              "    .dataframe tbody tr th {\n",
              "        vertical-align: top;\n",
              "    }\n",
              "\n",
              "    .dataframe thead th {\n",
              "        text-align: right;\n",
              "    }\n",
              "</style>\n",
              "<table border=\"1\" class=\"dataframe\">\n",
              "  <thead>\n",
              "    <tr style=\"text-align: right;\">\n",
              "      <th></th>\n",
              "      <th>cols</th>\n",
              "      <th>imp</th>\n",
              "    </tr>\n",
              "  </thead>\n",
              "  <tbody>\n",
              "    <tr>\n",
              "      <th>6</th>\n",
              "      <td>USER_POINTS</td>\n",
              "      <td>0.355645</td>\n",
              "    </tr>\n",
              "    <tr>\n",
              "      <th>1</th>\n",
              "      <td>YEAR</td>\n",
              "      <td>0.153728</td>\n",
              "    </tr>\n",
              "    <tr>\n",
              "      <th>5</th>\n",
              "      <td>CRITICS_POINTS</td>\n",
              "      <td>0.153703</td>\n",
              "    </tr>\n",
              "    <tr>\n",
              "      <th>2</th>\n",
              "      <td>CATEGORY</td>\n",
              "      <td>0.107916</td>\n",
              "    </tr>\n",
              "    <tr>\n",
              "      <th>0</th>\n",
              "      <td>CONSOLE</td>\n",
              "      <td>0.100886</td>\n",
              "    </tr>\n",
              "    <tr>\n",
              "      <th>4</th>\n",
              "      <td>RATING</td>\n",
              "      <td>0.068475</td>\n",
              "    </tr>\n",
              "    <tr>\n",
              "      <th>3</th>\n",
              "      <td>PUBLISHER</td>\n",
              "      <td>0.059646</td>\n",
              "    </tr>\n",
              "  </tbody>\n",
              "</table>\n",
              "</div>"
            ],
            "text/plain": [
              "             cols       imp\n",
              "6     USER_POINTS  0.355645\n",
              "1            YEAR  0.153728\n",
              "5  CRITICS_POINTS  0.153703\n",
              "2        CATEGORY  0.107916\n",
              "0         CONSOLE  0.100886\n",
              "4          RATING  0.068475\n",
              "3       PUBLISHER  0.059646"
            ]
          },
          "metadata": {
            "tags": []
          },
          "execution_count": 128
        }
      ]
    },
    {
      "cell_type": "code",
      "metadata": {
        "id": "VRB8VbxZZPeD"
      },
      "source": [
        "to_d=['RATING','PUBLISHER']"
      ],
      "execution_count": null,
      "outputs": []
    },
    {
      "cell_type": "code",
      "metadata": {
        "id": "8AY7fudlZo_r"
      },
      "source": [
        "X_train=X_train.drop(to_d,axis=1)\n",
        "X_test=X_test.drop(to_d,axis=1)"
      ],
      "execution_count": null,
      "outputs": []
    },
    {
      "cell_type": "code",
      "metadata": {
        "id": "kHEwBzHmZ2m0",
        "colab": {
          "base_uri": "https://localhost:8080/",
          "height": 206
        },
        "outputId": "cb8eca5c-5a6a-46a2-f828-4974634ac654"
      },
      "source": [
        "X_train.head()"
      ],
      "execution_count": null,
      "outputs": [
        {
          "output_type": "execute_result",
          "data": {
            "text/html": [
              "<div>\n",
              "<style scoped>\n",
              "    .dataframe tbody tr th:only-of-type {\n",
              "        vertical-align: middle;\n",
              "    }\n",
              "\n",
              "    .dataframe tbody tr th {\n",
              "        vertical-align: top;\n",
              "    }\n",
              "\n",
              "    .dataframe thead th {\n",
              "        text-align: right;\n",
              "    }\n",
              "</style>\n",
              "<table border=\"1\" class=\"dataframe\">\n",
              "  <thead>\n",
              "    <tr style=\"text-align: right;\">\n",
              "      <th></th>\n",
              "      <th>CONSOLE</th>\n",
              "      <th>YEAR</th>\n",
              "      <th>CATEGORY</th>\n",
              "      <th>CRITICS_POINTS</th>\n",
              "      <th>USER_POINTS</th>\n",
              "    </tr>\n",
              "  </thead>\n",
              "  <tbody>\n",
              "    <tr>\n",
              "      <th>0</th>\n",
              "      <td>2</td>\n",
              "      <td>2008</td>\n",
              "      <td>7</td>\n",
              "      <td>2.833333</td>\n",
              "      <td>0.303704</td>\n",
              "    </tr>\n",
              "    <tr>\n",
              "      <th>1</th>\n",
              "      <td>12</td>\n",
              "      <td>2012</td>\n",
              "      <td>9</td>\n",
              "      <td>13.200000</td>\n",
              "      <td>1.640000</td>\n",
              "    </tr>\n",
              "    <tr>\n",
              "      <th>2</th>\n",
              "      <td>5</td>\n",
              "      <td>2019</td>\n",
              "      <td>8</td>\n",
              "      <td>4.562500</td>\n",
              "      <td>0.006410</td>\n",
              "    </tr>\n",
              "    <tr>\n",
              "      <th>3</th>\n",
              "      <td>7</td>\n",
              "      <td>2002</td>\n",
              "      <td>10</td>\n",
              "      <td>4.181818</td>\n",
              "      <td>0.326923</td>\n",
              "    </tr>\n",
              "    <tr>\n",
              "      <th>4</th>\n",
              "      <td>8</td>\n",
              "      <td>2013</td>\n",
              "      <td>0</td>\n",
              "      <td>2.259259</td>\n",
              "      <td>0.032579</td>\n",
              "    </tr>\n",
              "  </tbody>\n",
              "</table>\n",
              "</div>"
            ],
            "text/plain": [
              "   CONSOLE  YEAR  CATEGORY  CRITICS_POINTS  USER_POINTS\n",
              "0        2  2008         7        2.833333     0.303704\n",
              "1       12  2012         9       13.200000     1.640000\n",
              "2        5  2019         8        4.562500     0.006410\n",
              "3        7  2002        10        4.181818     0.326923\n",
              "4        8  2013         0        2.259259     0.032579"
            ]
          },
          "metadata": {
            "tags": []
          },
          "execution_count": 131
        }
      ]
    },
    {
      "cell_type": "code",
      "metadata": {
        "id": "SQ7uysVjZ65e",
        "colab": {
          "base_uri": "https://localhost:8080/",
          "height": 144
        },
        "outputId": "1404012e-1028-4625-9cb1-2ce152f7e598"
      },
      "source": [
        "clf.fit(X_train,y_train)"
      ],
      "execution_count": null,
      "outputs": [
        {
          "output_type": "execute_result",
          "data": {
            "text/plain": [
              "RandomForestRegressor(bootstrap=True, ccp_alpha=0.0, criterion='mse',\n",
              "                      max_depth=None, max_features='auto', max_leaf_nodes=None,\n",
              "                      max_samples=None, min_impurity_decrease=0.0,\n",
              "                      min_impurity_split=None, min_samples_leaf=1,\n",
              "                      min_samples_split=2, min_weight_fraction_leaf=0.0,\n",
              "                      n_estimators=5000, n_jobs=None, oob_score=False,\n",
              "                      random_state=None, verbose=0, warm_start=False)"
            ]
          },
          "metadata": {
            "tags": []
          },
          "execution_count": 132
        }
      ]
    },
    {
      "cell_type": "code",
      "metadata": {
        "id": "wsMKdVdEaEAx"
      },
      "source": [
        "y_test=clf.predict(X_test)"
      ],
      "execution_count": null,
      "outputs": []
    },
    {
      "cell_type": "code",
      "metadata": {
        "id": "0ntHy4m5aXTW"
      },
      "source": [
        "res=pd.DataFrame(y_test)"
      ],
      "execution_count": null,
      "outputs": []
    },
    {
      "cell_type": "code",
      "metadata": {
        "id": "VzygfbPDabJd",
        "colab": {
          "base_uri": "https://localhost:8080/",
          "height": 206
        },
        "outputId": "5972a0a1-e789-4799-fb6b-842208411901"
      },
      "source": [
        "res.head()"
      ],
      "execution_count": null,
      "outputs": [
        {
          "output_type": "execute_result",
          "data": {
            "text/html": [
              "<div>\n",
              "<style scoped>\n",
              "    .dataframe tbody tr th:only-of-type {\n",
              "        vertical-align: middle;\n",
              "    }\n",
              "\n",
              "    .dataframe tbody tr th {\n",
              "        vertical-align: top;\n",
              "    }\n",
              "\n",
              "    .dataframe thead th {\n",
              "        text-align: right;\n",
              "    }\n",
              "</style>\n",
              "<table border=\"1\" class=\"dataframe\">\n",
              "  <thead>\n",
              "    <tr style=\"text-align: right;\">\n",
              "      <th></th>\n",
              "      <th>0</th>\n",
              "    </tr>\n",
              "  </thead>\n",
              "  <tbody>\n",
              "    <tr>\n",
              "      <th>0</th>\n",
              "      <td>1.605370</td>\n",
              "    </tr>\n",
              "    <tr>\n",
              "      <th>1</th>\n",
              "      <td>2.379776</td>\n",
              "    </tr>\n",
              "    <tr>\n",
              "      <th>2</th>\n",
              "      <td>2.795622</td>\n",
              "    </tr>\n",
              "    <tr>\n",
              "      <th>3</th>\n",
              "      <td>1.882698</td>\n",
              "    </tr>\n",
              "    <tr>\n",
              "      <th>4</th>\n",
              "      <td>1.880694</td>\n",
              "    </tr>\n",
              "  </tbody>\n",
              "</table>\n",
              "</div>"
            ],
            "text/plain": [
              "          0\n",
              "0  1.605370\n",
              "1  2.379776\n",
              "2  2.795622\n",
              "3  1.882698\n",
              "4  1.880694"
            ]
          },
          "metadata": {
            "tags": []
          },
          "execution_count": 135
        }
      ]
    },
    {
      "cell_type": "code",
      "metadata": {
        "id": "EYfPnLpJa2Rj"
      },
      "source": [
        "res.to_csv('Videogame.csv',index=False)\n",
        "!cp Videogame.csv \"drive/My Drive/\""
      ],
      "execution_count": null,
      "outputs": []
    },
    {
      "cell_type": "code",
      "metadata": {
        "id": "q11h3ZrebD7i"
      },
      "source": [
        "from sklearn.ensemble import GradientBoostingRegressor"
      ],
      "execution_count": null,
      "outputs": []
    },
    {
      "cell_type": "code",
      "metadata": {
        "id": "lRHsFV7KfNH4"
      },
      "source": [
        "clfd=GradientBoostingRegressor()"
      ],
      "execution_count": null,
      "outputs": []
    },
    {
      "cell_type": "code",
      "metadata": {
        "id": "UbvsnP5pfO5A",
        "colab": {
          "base_uri": "https://localhost:8080/",
          "height": 181
        },
        "outputId": "ac74b939-21eb-4356-bc30-e6fbf3435b6f"
      },
      "source": [
        "clfd.fit(X_train,y_train)"
      ],
      "execution_count": null,
      "outputs": [
        {
          "output_type": "execute_result",
          "data": {
            "text/plain": [
              "GradientBoostingRegressor(alpha=0.9, ccp_alpha=0.0, criterion='friedman_mse',\n",
              "                          init=None, learning_rate=0.1, loss='ls', max_depth=3,\n",
              "                          max_features=None, max_leaf_nodes=None,\n",
              "                          min_impurity_decrease=0.0, min_impurity_split=None,\n",
              "                          min_samples_leaf=1, min_samples_split=2,\n",
              "                          min_weight_fraction_leaf=0.0, n_estimators=100,\n",
              "                          n_iter_no_change=None, presort='deprecated',\n",
              "                          random_state=None, subsample=1.0, tol=0.0001,\n",
              "                          validation_fraction=0.1, verbose=0, warm_start=False)"
            ]
          },
          "metadata": {
            "tags": []
          },
          "execution_count": 65
        }
      ]
    },
    {
      "cell_type": "code",
      "metadata": {
        "id": "9-cy1U8ufUza"
      },
      "source": [
        "y_test=clfd.predict(X_test)"
      ],
      "execution_count": null,
      "outputs": []
    },
    {
      "cell_type": "code",
      "metadata": {
        "id": "3YI6XCnIfZLP"
      },
      "source": [
        "res=pd.DataFrame(y_test)"
      ],
      "execution_count": null,
      "outputs": []
    },
    {
      "cell_type": "code",
      "metadata": {
        "id": "NalfM8fefeCd",
        "colab": {
          "base_uri": "https://localhost:8080/",
          "height": 206
        },
        "outputId": "7fc6de08-d7c0-4102-875d-7a25c2eb5294"
      },
      "source": [
        "res.head()"
      ],
      "execution_count": null,
      "outputs": [
        {
          "output_type": "execute_result",
          "data": {
            "text/html": [
              "<div>\n",
              "<style scoped>\n",
              "    .dataframe tbody tr th:only-of-type {\n",
              "        vertical-align: middle;\n",
              "    }\n",
              "\n",
              "    .dataframe tbody tr th {\n",
              "        vertical-align: top;\n",
              "    }\n",
              "\n",
              "    .dataframe thead th {\n",
              "        text-align: right;\n",
              "    }\n",
              "</style>\n",
              "<table border=\"1\" class=\"dataframe\">\n",
              "  <thead>\n",
              "    <tr style=\"text-align: right;\">\n",
              "      <th></th>\n",
              "      <th>0</th>\n",
              "    </tr>\n",
              "  </thead>\n",
              "  <tbody>\n",
              "    <tr>\n",
              "      <th>0</th>\n",
              "      <td>1.625227</td>\n",
              "    </tr>\n",
              "    <tr>\n",
              "      <th>1</th>\n",
              "      <td>2.831041</td>\n",
              "    </tr>\n",
              "    <tr>\n",
              "      <th>2</th>\n",
              "      <td>3.108104</td>\n",
              "    </tr>\n",
              "    <tr>\n",
              "      <th>3</th>\n",
              "      <td>2.041267</td>\n",
              "    </tr>\n",
              "    <tr>\n",
              "      <th>4</th>\n",
              "      <td>1.893825</td>\n",
              "    </tr>\n",
              "  </tbody>\n",
              "</table>\n",
              "</div>"
            ],
            "text/plain": [
              "          0\n",
              "0  1.625227\n",
              "1  2.831041\n",
              "2  3.108104\n",
              "3  2.041267\n",
              "4  1.893825"
            ]
          },
          "metadata": {
            "tags": []
          },
          "execution_count": 20
        }
      ]
    },
    {
      "cell_type": "code",
      "metadata": {
        "id": "IcbQc7YdffWy"
      },
      "source": [
        "res.to_csv('Videogame.csv',index=False)\n",
        "!cp Videogame.csv \"drive/My Drive/\""
      ],
      "execution_count": null,
      "outputs": []
    },
    {
      "cell_type": "code",
      "metadata": {
        "id": "iIzS4SV5fld1",
        "colab": {
          "base_uri": "https://localhost:8080/",
          "height": 269
        },
        "outputId": "9b3e6c4b-fa55-4d48-84d2-251c0cdfb93e"
      },
      "source": [
        "def rf_feat_importance(m, df):\n",
        "    return pd.DataFrame({'cols':df.columns, 'imp':m.feature_importances_}\n",
        "                       ).sort_values('imp', ascending=False)\n",
        "fi = rf_feat_importance(clfd, X_train); \n",
        "fi"
      ],
      "execution_count": null,
      "outputs": [
        {
          "output_type": "execute_result",
          "data": {
            "text/html": [
              "<div>\n",
              "<style scoped>\n",
              "    .dataframe tbody tr th:only-of-type {\n",
              "        vertical-align: middle;\n",
              "    }\n",
              "\n",
              "    .dataframe tbody tr th {\n",
              "        vertical-align: top;\n",
              "    }\n",
              "\n",
              "    .dataframe thead th {\n",
              "        text-align: right;\n",
              "    }\n",
              "</style>\n",
              "<table border=\"1\" class=\"dataframe\">\n",
              "  <thead>\n",
              "    <tr style=\"text-align: right;\">\n",
              "      <th></th>\n",
              "      <th>cols</th>\n",
              "      <th>imp</th>\n",
              "    </tr>\n",
              "  </thead>\n",
              "  <tbody>\n",
              "    <tr>\n",
              "      <th>6</th>\n",
              "      <td>USER_POINTS</td>\n",
              "      <td>0.546137</td>\n",
              "    </tr>\n",
              "    <tr>\n",
              "      <th>1</th>\n",
              "      <td>YEAR</td>\n",
              "      <td>0.129010</td>\n",
              "    </tr>\n",
              "    <tr>\n",
              "      <th>4</th>\n",
              "      <td>RATING</td>\n",
              "      <td>0.116825</td>\n",
              "    </tr>\n",
              "    <tr>\n",
              "      <th>5</th>\n",
              "      <td>CRITICS_POINTS</td>\n",
              "      <td>0.084297</td>\n",
              "    </tr>\n",
              "    <tr>\n",
              "      <th>0</th>\n",
              "      <td>CONSOLE</td>\n",
              "      <td>0.071551</td>\n",
              "    </tr>\n",
              "    <tr>\n",
              "      <th>3</th>\n",
              "      <td>PUBLISHER</td>\n",
              "      <td>0.028632</td>\n",
              "    </tr>\n",
              "    <tr>\n",
              "      <th>2</th>\n",
              "      <td>CATEGORY</td>\n",
              "      <td>0.023548</td>\n",
              "    </tr>\n",
              "  </tbody>\n",
              "</table>\n",
              "</div>"
            ],
            "text/plain": [
              "             cols       imp\n",
              "6     USER_POINTS  0.546137\n",
              "1            YEAR  0.129010\n",
              "4          RATING  0.116825\n",
              "5  CRITICS_POINTS  0.084297\n",
              "0         CONSOLE  0.071551\n",
              "3       PUBLISHER  0.028632\n",
              "2        CATEGORY  0.023548"
            ]
          },
          "metadata": {
            "tags": []
          },
          "execution_count": 40
        }
      ]
    },
    {
      "cell_type": "code",
      "metadata": {
        "id": "3m9_5T76WmY3"
      },
      "source": [
        "to_d=['CATEGORY']"
      ],
      "execution_count": null,
      "outputs": []
    },
    {
      "cell_type": "code",
      "metadata": {
        "id": "-Ladd-VqW51S"
      },
      "source": [
        "X_train=X_train.drop(to_d,axis=1)\n",
        "X_test=X_test.drop(to_d,axis=1)"
      ],
      "execution_count": null,
      "outputs": []
    },
    {
      "cell_type": "code",
      "metadata": {
        "id": "OLdeRHLTXA3f",
        "colab": {
          "base_uri": "https://localhost:8080/",
          "height": 181
        },
        "outputId": "c52a6712-8be3-4b63-ee2a-7017f7bae160"
      },
      "source": [
        "clfd.fit(X_train,y_train)"
      ],
      "execution_count": null,
      "outputs": [
        {
          "output_type": "execute_result",
          "data": {
            "text/plain": [
              "GradientBoostingRegressor(alpha=0.9, ccp_alpha=0.0, criterion='friedman_mse',\n",
              "                          init=None, learning_rate=0.1, loss='ls', max_depth=3,\n",
              "                          max_features=None, max_leaf_nodes=None,\n",
              "                          min_impurity_decrease=0.0, min_impurity_split=None,\n",
              "                          min_samples_leaf=1, min_samples_split=2,\n",
              "                          min_weight_fraction_leaf=0.0, n_estimators=100,\n",
              "                          n_iter_no_change=None, presort='deprecated',\n",
              "                          random_state=None, subsample=1.0, tol=0.0001,\n",
              "                          validation_fraction=0.1, verbose=0, warm_start=False)"
            ]
          },
          "metadata": {
            "tags": []
          },
          "execution_count": 115
        }
      ]
    },
    {
      "cell_type": "code",
      "metadata": {
        "id": "QQZ5nR_wXGH5",
        "colab": {
          "base_uri": "https://localhost:8080/",
          "height": 206
        },
        "outputId": "4f6fa7da-83e4-4c37-c82e-ea7c6daa4017"
      },
      "source": [
        "X_train.head()"
      ],
      "execution_count": null,
      "outputs": [
        {
          "output_type": "execute_result",
          "data": {
            "text/html": [
              "<div>\n",
              "<style scoped>\n",
              "    .dataframe tbody tr th:only-of-type {\n",
              "        vertical-align: middle;\n",
              "    }\n",
              "\n",
              "    .dataframe tbody tr th {\n",
              "        vertical-align: top;\n",
              "    }\n",
              "\n",
              "    .dataframe thead th {\n",
              "        text-align: right;\n",
              "    }\n",
              "</style>\n",
              "<table border=\"1\" class=\"dataframe\">\n",
              "  <thead>\n",
              "    <tr style=\"text-align: right;\">\n",
              "      <th></th>\n",
              "      <th>CONSOLE</th>\n",
              "      <th>YEAR</th>\n",
              "      <th>PUBLISHER</th>\n",
              "      <th>RATING</th>\n",
              "      <th>CRITICS_POINTS</th>\n",
              "      <th>USER_POINTS</th>\n",
              "    </tr>\n",
              "  </thead>\n",
              "  <tbody>\n",
              "    <tr>\n",
              "      <th>0</th>\n",
              "      <td>2</td>\n",
              "      <td>2008</td>\n",
              "      <td>140</td>\n",
              "      <td>1</td>\n",
              "      <td>2.833333</td>\n",
              "      <td>0.303704</td>\n",
              "    </tr>\n",
              "    <tr>\n",
              "      <th>1</th>\n",
              "      <td>12</td>\n",
              "      <td>2012</td>\n",
              "      <td>110</td>\n",
              "      <td>2</td>\n",
              "      <td>13.200000</td>\n",
              "      <td>1.640000</td>\n",
              "    </tr>\n",
              "    <tr>\n",
              "      <th>2</th>\n",
              "      <td>5</td>\n",
              "      <td>2019</td>\n",
              "      <td>8</td>\n",
              "      <td>4</td>\n",
              "      <td>4.562500</td>\n",
              "      <td>0.006410</td>\n",
              "    </tr>\n",
              "    <tr>\n",
              "      <th>3</th>\n",
              "      <td>7</td>\n",
              "      <td>2002</td>\n",
              "      <td>56</td>\n",
              "      <td>1</td>\n",
              "      <td>4.181818</td>\n",
              "      <td>0.326923</td>\n",
              "    </tr>\n",
              "    <tr>\n",
              "      <th>4</th>\n",
              "      <td>8</td>\n",
              "      <td>2013</td>\n",
              "      <td>8</td>\n",
              "      <td>4</td>\n",
              "      <td>2.259259</td>\n",
              "      <td>0.032579</td>\n",
              "    </tr>\n",
              "  </tbody>\n",
              "</table>\n",
              "</div>"
            ],
            "text/plain": [
              "   CONSOLE  YEAR  PUBLISHER  RATING  CRITICS_POINTS  USER_POINTS\n",
              "0        2  2008        140       1        2.833333     0.303704\n",
              "1       12  2012        110       2       13.200000     1.640000\n",
              "2        5  2019          8       4        4.562500     0.006410\n",
              "3        7  2002         56       1        4.181818     0.326923\n",
              "4        8  2013          8       4        2.259259     0.032579"
            ]
          },
          "metadata": {
            "tags": []
          },
          "execution_count": 116
        }
      ]
    },
    {
      "cell_type": "code",
      "metadata": {
        "id": "JMUC5xlkXI_U"
      },
      "source": [
        "y_test=clfd.predict(X_test)"
      ],
      "execution_count": null,
      "outputs": []
    },
    {
      "cell_type": "code",
      "metadata": {
        "id": "6fmY8RXRXQRv"
      },
      "source": [
        "res=pd.DataFrame(y_test)"
      ],
      "execution_count": null,
      "outputs": []
    },
    {
      "cell_type": "code",
      "metadata": {
        "id": "cKtY2Xg0XWU7",
        "colab": {
          "base_uri": "https://localhost:8080/",
          "height": 206
        },
        "outputId": "23ae370a-ad4c-4c91-a36a-e5e75d3afc1a"
      },
      "source": [
        "res.head()"
      ],
      "execution_count": null,
      "outputs": [
        {
          "output_type": "execute_result",
          "data": {
            "text/html": [
              "<div>\n",
              "<style scoped>\n",
              "    .dataframe tbody tr th:only-of-type {\n",
              "        vertical-align: middle;\n",
              "    }\n",
              "\n",
              "    .dataframe tbody tr th {\n",
              "        vertical-align: top;\n",
              "    }\n",
              "\n",
              "    .dataframe thead th {\n",
              "        text-align: right;\n",
              "    }\n",
              "</style>\n",
              "<table border=\"1\" class=\"dataframe\">\n",
              "  <thead>\n",
              "    <tr style=\"text-align: right;\">\n",
              "      <th></th>\n",
              "      <th>0</th>\n",
              "    </tr>\n",
              "  </thead>\n",
              "  <tbody>\n",
              "    <tr>\n",
              "      <th>0</th>\n",
              "      <td>1.773037</td>\n",
              "    </tr>\n",
              "    <tr>\n",
              "      <th>1</th>\n",
              "      <td>2.479962</td>\n",
              "    </tr>\n",
              "    <tr>\n",
              "      <th>2</th>\n",
              "      <td>2.559632</td>\n",
              "    </tr>\n",
              "    <tr>\n",
              "      <th>3</th>\n",
              "      <td>1.806418</td>\n",
              "    </tr>\n",
              "    <tr>\n",
              "      <th>4</th>\n",
              "      <td>1.545569</td>\n",
              "    </tr>\n",
              "  </tbody>\n",
              "</table>\n",
              "</div>"
            ],
            "text/plain": [
              "          0\n",
              "0  1.773037\n",
              "1  2.479962\n",
              "2  2.559632\n",
              "3  1.806418\n",
              "4  1.545569"
            ]
          },
          "metadata": {
            "tags": []
          },
          "execution_count": 119
        }
      ]
    },
    {
      "cell_type": "code",
      "metadata": {
        "id": "WbluNKJ_XXYF"
      },
      "source": [
        "res.to_csv('Videogame.csv',index=False)\n",
        "!cp Videogame.csv \"drive/My Drive/\""
      ],
      "execution_count": null,
      "outputs": []
    },
    {
      "cell_type": "code",
      "metadata": {
        "id": "haTlShdcXeDY"
      },
      "source": [
        ""
      ],
      "execution_count": null,
      "outputs": []
    }
  ]
}