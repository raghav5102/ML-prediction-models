{
  "nbformat": 4,
  "nbformat_minor": 0,
  "metadata": {
    "colab": {
      "name": "Electronics.ipynb",
      "provenance": [],
      "collapsed_sections": [],
      "mount_file_id": "1XiWnCIQPylp_S4U4sEFkkPJDHDMDWVZI",
      "authorship_tag": "ABX9TyOds4zaDr0VHwXyE67r0qMi",
      "include_colab_link": true
    },
    "kernelspec": {
      "name": "python3",
      "display_name": "Python 3"
    }
  },
  "cells": [
    {
      "cell_type": "markdown",
      "metadata": {
        "id": "view-in-github",
        "colab_type": "text"
      },
      "source": [
        "<a href=\"https://colab.research.google.com/github/raghav5102/ML-prediction-models/blob/main/Electronics.ipynb\" target=\"_parent\"><img src=\"https://colab.research.google.com/assets/colab-badge.svg\" alt=\"Open In Colab\"/></a>"
      ]
    },
    {
      "cell_type": "markdown",
      "metadata": {
        "id": "Lca7zzEsD8ic"
      },
      "source": [
        "ELECTRONICS PRICE PREDICTION"
      ]
    },
    {
      "cell_type": "code",
      "metadata": {
        "id": "0-5ItUWrJZYZ"
      },
      "source": [
        "from fastai.imports import *"
      ],
      "execution_count": null,
      "outputs": []
    },
    {
      "cell_type": "code",
      "metadata": {
        "id": "kYxCrnq9JvAn",
        "colab": {
          "base_uri": "https://localhost:8080/",
          "height": 206
        },
        "outputId": "546ef8a6-9f03-4555-fc4f-fde460fb1c35"
      },
      "source": [
        "df=pd.read_csv('Train.csv')\n",
        "df.head()"
      ],
      "execution_count": null,
      "outputs": [
        {
          "output_type": "execute_result",
          "data": {
            "text/html": [
              "<div>\n",
              "<style scoped>\n",
              "    .dataframe tbody tr th:only-of-type {\n",
              "        vertical-align: middle;\n",
              "    }\n",
              "\n",
              "    .dataframe tbody tr th {\n",
              "        vertical-align: top;\n",
              "    }\n",
              "\n",
              "    .dataframe thead th {\n",
              "        text-align: right;\n",
              "    }\n",
              "</style>\n",
              "<table border=\"1\" class=\"dataframe\">\n",
              "  <thead>\n",
              "    <tr style=\"text-align: right;\">\n",
              "      <th></th>\n",
              "      <th>Brand</th>\n",
              "      <th>Model_Info</th>\n",
              "      <th>Additional_Description</th>\n",
              "      <th>Locality</th>\n",
              "      <th>City</th>\n",
              "      <th>State</th>\n",
              "      <th>Price</th>\n",
              "    </tr>\n",
              "  </thead>\n",
              "  <tbody>\n",
              "    <tr>\n",
              "      <th>0</th>\n",
              "      <td>1</td>\n",
              "      <td>name0 name234 64gb space grey</td>\n",
              "      <td>1yesr old mobile number 999two905two99 bill c...</td>\n",
              "      <td>878</td>\n",
              "      <td>8</td>\n",
              "      <td>2</td>\n",
              "      <td>15000</td>\n",
              "    </tr>\n",
              "    <tr>\n",
              "      <th>1</th>\n",
              "      <td>1</td>\n",
              "      <td>phone 7 name42 name453 new condition box acce...</td>\n",
              "      <td>101004800 1010065900 7000</td>\n",
              "      <td>1081</td>\n",
              "      <td>4</td>\n",
              "      <td>0</td>\n",
              "      <td>18800</td>\n",
              "    </tr>\n",
              "    <tr>\n",
              "      <th>2</th>\n",
              "      <td>1</td>\n",
              "      <td>name0 x 256gb leess used good condition</td>\n",
              "      <td>1010010000 seperate screen guard 3 back cover...</td>\n",
              "      <td>495</td>\n",
              "      <td>11</td>\n",
              "      <td>4</td>\n",
              "      <td>50000</td>\n",
              "    </tr>\n",
              "    <tr>\n",
              "      <th>3</th>\n",
              "      <td>1</td>\n",
              "      <td>name0 6s plus 64 gb space grey</td>\n",
              "      <td>without 1010020100 id 1010010300 colour 10100...</td>\n",
              "      <td>287</td>\n",
              "      <td>10</td>\n",
              "      <td>7</td>\n",
              "      <td>16500</td>\n",
              "    </tr>\n",
              "    <tr>\n",
              "      <th>4</th>\n",
              "      <td>1</td>\n",
              "      <td>phone 7 sealed pack brand new factory outet p...</td>\n",
              "      <td>101008700 10100000 xs max 64 gb made 10100850...</td>\n",
              "      <td>342</td>\n",
              "      <td>4</td>\n",
              "      <td>0</td>\n",
              "      <td>26499</td>\n",
              "    </tr>\n",
              "  </tbody>\n",
              "</table>\n",
              "</div>"
            ],
            "text/plain": [
              "   Brand                                         Model_Info  ... State  Price\n",
              "0      1                      name0 name234 64gb space grey  ...     2  15000\n",
              "1      1   phone 7 name42 name453 new condition box acce...  ...     0  18800\n",
              "2      1            name0 x 256gb leess used good condition  ...     4  50000\n",
              "3      1                     name0 6s plus 64 gb space grey  ...     7  16500\n",
              "4      1   phone 7 sealed pack brand new factory outet p...  ...     0  26499\n",
              "\n",
              "[5 rows x 7 columns]"
            ]
          },
          "metadata": {
            "tags": []
          },
          "execution_count": 11
        }
      ]
    },
    {
      "cell_type": "code",
      "metadata": {
        "id": "FZck9MpmKbpH",
        "colab": {
          "base_uri": "https://localhost:8080/",
          "height": 206
        },
        "outputId": "f3315521-7e8a-41bf-8e00-c75e7ea909e7"
      },
      "source": [
        "dft=pd.read_csv('Test.csv')\n",
        "dft.head()"
      ],
      "execution_count": null,
      "outputs": [
        {
          "output_type": "execute_result",
          "data": {
            "text/html": [
              "<div>\n",
              "<style scoped>\n",
              "    .dataframe tbody tr th:only-of-type {\n",
              "        vertical-align: middle;\n",
              "    }\n",
              "\n",
              "    .dataframe tbody tr th {\n",
              "        vertical-align: top;\n",
              "    }\n",
              "\n",
              "    .dataframe thead th {\n",
              "        text-align: right;\n",
              "    }\n",
              "</style>\n",
              "<table border=\"1\" class=\"dataframe\">\n",
              "  <thead>\n",
              "    <tr style=\"text-align: right;\">\n",
              "      <th></th>\n",
              "      <th>Brand</th>\n",
              "      <th>Model_Info</th>\n",
              "      <th>Additional_Description</th>\n",
              "      <th>Locality</th>\n",
              "      <th>City</th>\n",
              "      <th>State</th>\n",
              "    </tr>\n",
              "  </thead>\n",
              "  <tbody>\n",
              "    <tr>\n",
              "      <th>0</th>\n",
              "      <td>1</td>\n",
              "      <td>name0 55s66s66s778xxsxsmax etc</td>\n",
              "      <td>good condition 11months old single scratch we...</td>\n",
              "      <td>570</td>\n",
              "      <td>11</td>\n",
              "      <td>4</td>\n",
              "    </tr>\n",
              "    <tr>\n",
              "      <th>1</th>\n",
              "      <td>1</td>\n",
              "      <td>slightly used excellent condition name0 5 sale</td>\n",
              "      <td>101008700 1010030600 1010034300 10100192200 1...</td>\n",
              "      <td>762</td>\n",
              "      <td>8</td>\n",
              "      <td>2</td>\n",
              "    </tr>\n",
              "    <tr>\n",
              "      <th>2</th>\n",
              "      <td>1</td>\n",
              "      <td>name0 sx ios12 top letast model bill call</td>\n",
              "      <td>1010017300 delivery</td>\n",
              "      <td>60</td>\n",
              "      <td>13</td>\n",
              "      <td>5</td>\n",
              "    </tr>\n",
              "    <tr>\n",
              "      <th>3</th>\n",
              "      <td>1</td>\n",
              "      <td>name87 name0 x 64gb going lowest 41900</td>\n",
              "      <td>phone 1010023400 64 gb excellent condition sale</td>\n",
              "      <td>640</td>\n",
              "      <td>15</td>\n",
              "      <td>5</td>\n",
              "    </tr>\n",
              "    <tr>\n",
              "      <th>4</th>\n",
              "      <td>1</td>\n",
              "      <td>name0 5s proper condition one handedly used</td>\n",
              "      <td>full kit available 10100248300 condition 4gb ...</td>\n",
              "      <td>816</td>\n",
              "      <td>2</td>\n",
              "      <td>6</td>\n",
              "    </tr>\n",
              "  </tbody>\n",
              "</table>\n",
              "</div>"
            ],
            "text/plain": [
              "   Brand                                       Model_Info  ... City  State\n",
              "0      1                   name0 55s66s66s778xxsxsmax etc  ...   11      4\n",
              "1      1   slightly used excellent condition name0 5 sale  ...    8      2\n",
              "2      1        name0 sx ios12 top letast model bill call  ...   13      5\n",
              "3      1           name87 name0 x 64gb going lowest 41900  ...   15      5\n",
              "4      1      name0 5s proper condition one handedly used  ...    2      6\n",
              "\n",
              "[5 rows x 6 columns]"
            ]
          },
          "metadata": {
            "tags": []
          },
          "execution_count": 12
        }
      ]
    },
    {
      "cell_type": "code",
      "metadata": {
        "id": "el7cqDe5K9cM"
      },
      "source": [
        "def apply_cats(df, trn):\n",
        "    \"\"\"Changes any columns of strings in df into categorical variables using trn as\n",
        "    a template for the category codes.\n",
        "    Parameters:\n",
        "    -----------\n",
        "    df: A pandas dataframe. Any columns of strings will be changed to\n",
        "        categorical values. The category codes are determined by trn.\n",
        "    trn: A pandas dataframe. When creating a category for df, it looks up the\n",
        "        what the category's code were in trn and makes those the category codes\n",
        "        for df.\n",
        "    Examples:\n",
        "    ---------\n",
        "    >>> df = pd.DataFrame({'col1' : [1, 2, 3], 'col2' : ['a', 'b', 'a']})\n",
        "    >>> df\n",
        "       col1 col2\n",
        "    0     1    a\n",
        "    1     2    b\n",
        "    2     3    a\n",
        "    note the type of col2 is string\n",
        "    >>> train_cats(df)\n",
        "    >>> df\n",
        "       col1 col2\n",
        "    0     1    a\n",
        "    1     2    b\n",
        "    2     3    a\n",
        "    now the type of col2 is category {a : 1, b : 2}\n",
        "    >>> df2 = pd.DataFrame({'col1' : [1, 2, 3], 'col2' : ['b', 'a', 'a']})\n",
        "    >>> apply_cats(df2, df)\n",
        "           col1 col2\n",
        "        0     1    b\n",
        "        1     2    a\n",
        "        2     3    a\n",
        "    now the type of col is category {a : 1, b : 2}\n",
        "    \"\"\"\n",
        "    for n,c in df.items():\n",
        "        if (n in trn.columns) and (trn[n].dtype.name=='category'):\n",
        "            df[n] = c.astype('category').cat.as_ordered()\n",
        "            df[n].cat.set_categories(trn[n].cat.categories, ordered=True, inplace=True)\n"
      ],
      "execution_count": null,
      "outputs": []
    },
    {
      "cell_type": "code",
      "metadata": {
        "id": "iRJvA0qyL836"
      },
      "source": [
        "apply_cats(df,dft)"
      ],
      "execution_count": null,
      "outputs": []
    },
    {
      "cell_type": "code",
      "metadata": {
        "id": "NAyp3Se2L_k9",
        "colab": {
          "base_uri": "https://localhost:8080/",
          "height": 162
        },
        "outputId": "1ed6ff8d-b39e-4ba7-dec3-5544231ebc2c"
      },
      "source": [
        "df.dtypes"
      ],
      "execution_count": null,
      "outputs": [
        {
          "output_type": "execute_result",
          "data": {
            "text/plain": [
              "Brand                      int64\n",
              "Model_Info                object\n",
              "Additional_Description    object\n",
              "Locality                   int64\n",
              "City                       int64\n",
              "State                      int64\n",
              "Price                      int64\n",
              "dtype: object"
            ]
          },
          "metadata": {
            "tags": []
          },
          "execution_count": 6
        }
      ]
    },
    {
      "cell_type": "code",
      "metadata": {
        "id": "DUz35YumMkxW"
      },
      "source": [
        ""
      ],
      "execution_count": null,
      "outputs": []
    },
    {
      "cell_type": "code",
      "metadata": {
        "id": "ChizPeG5NLvg"
      },
      "source": [
        "for col_name in df.columns:\n",
        "    if(df[col_name].dtype == 'object'):\n",
        "        df[col_name]= df[col_name].astype('category')\n",
        "        df[col_name] = df[col_name].cat.codes\n",
        "\n",
        "df.fillna(method='pad',inplace=True)"
      ],
      "execution_count": null,
      "outputs": []
    },
    {
      "cell_type": "code",
      "metadata": {
        "id": "M_T96K0nNPcz"
      },
      "source": [
        "for col_name in dft.columns:\n",
        "    if(dft[col_name].dtype == 'object'):\n",
        "        dft[col_name]= dft[col_name].astype('category')\n",
        "        dft[col_name] = dft[col_name].cat.codes\n",
        "\n",
        "dft.fillna(method='pad',inplace=True)"
      ],
      "execution_count": null,
      "outputs": []
    },
    {
      "cell_type": "code",
      "metadata": {
        "id": "VOa41yKgNaDw"
      },
      "source": [
        "from sklearn.ensemble import RandomForestRegressor"
      ],
      "execution_count": null,
      "outputs": []
    },
    {
      "cell_type": "code",
      "metadata": {
        "id": "31rtc1sBNd7H",
        "colab": {
          "base_uri": "https://localhost:8080/",
          "height": 206
        },
        "outputId": "15ed3d58-f09a-42e5-fe31-606ede15c5b0"
      },
      "source": [
        "df.head()"
      ],
      "execution_count": null,
      "outputs": [
        {
          "output_type": "execute_result",
          "data": {
            "text/html": [
              "<div>\n",
              "<style scoped>\n",
              "    .dataframe tbody tr th:only-of-type {\n",
              "        vertical-align: middle;\n",
              "    }\n",
              "\n",
              "    .dataframe tbody tr th {\n",
              "        vertical-align: top;\n",
              "    }\n",
              "\n",
              "    .dataframe thead th {\n",
              "        text-align: right;\n",
              "    }\n",
              "</style>\n",
              "<table border=\"1\" class=\"dataframe\">\n",
              "  <thead>\n",
              "    <tr style=\"text-align: right;\">\n",
              "      <th></th>\n",
              "      <th>Brand</th>\n",
              "      <th>Model_Info</th>\n",
              "      <th>Additional_Description</th>\n",
              "      <th>Locality</th>\n",
              "      <th>City</th>\n",
              "      <th>State</th>\n",
              "      <th>Price</th>\n",
              "    </tr>\n",
              "  </thead>\n",
              "  <tbody>\n",
              "    <tr>\n",
              "      <th>0</th>\n",
              "      <td>1</td>\n",
              "      <td>992</td>\n",
              "      <td>987</td>\n",
              "      <td>878</td>\n",
              "      <td>8</td>\n",
              "      <td>2</td>\n",
              "      <td>15000</td>\n",
              "    </tr>\n",
              "    <tr>\n",
              "      <th>1</th>\n",
              "      <td>1</td>\n",
              "      <td>1892</td>\n",
              "      <td>521</td>\n",
              "      <td>1081</td>\n",
              "      <td>4</td>\n",
              "      <td>0</td>\n",
              "      <td>18800</td>\n",
              "    </tr>\n",
              "    <tr>\n",
              "      <th>2</th>\n",
              "      <td>1</td>\n",
              "      <td>1045</td>\n",
              "      <td>232</td>\n",
              "      <td>495</td>\n",
              "      <td>11</td>\n",
              "      <td>4</td>\n",
              "      <td>50000</td>\n",
              "    </tr>\n",
              "    <tr>\n",
              "      <th>3</th>\n",
              "      <td>1</td>\n",
              "      <td>695</td>\n",
              "      <td>2075</td>\n",
              "      <td>287</td>\n",
              "      <td>10</td>\n",
              "      <td>7</td>\n",
              "      <td>16500</td>\n",
              "    </tr>\n",
              "    <tr>\n",
              "      <th>4</th>\n",
              "      <td>1</td>\n",
              "      <td>1901</td>\n",
              "      <td>901</td>\n",
              "      <td>342</td>\n",
              "      <td>4</td>\n",
              "      <td>0</td>\n",
              "      <td>26499</td>\n",
              "    </tr>\n",
              "  </tbody>\n",
              "</table>\n",
              "</div>"
            ],
            "text/plain": [
              "   Brand  Model_Info  Additional_Description  Locality  City  State  Price\n",
              "0      1         992                     987       878     8      2  15000\n",
              "1      1        1892                     521      1081     4      0  18800\n",
              "2      1        1045                     232       495    11      4  50000\n",
              "3      1         695                    2075       287    10      7  16500\n",
              "4      1        1901                     901       342     4      0  26499"
            ]
          },
          "metadata": {
            "tags": []
          },
          "execution_count": 35
        }
      ]
    },
    {
      "cell_type": "code",
      "metadata": {
        "id": "Y0odq-6nQdyi"
      },
      "source": [
        ""
      ],
      "execution_count": null,
      "outputs": []
    },
    {
      "cell_type": "code",
      "metadata": {
        "id": "aPjj7XQnQmCJ"
      },
      "source": [
        ""
      ],
      "execution_count": null,
      "outputs": []
    },
    {
      "cell_type": "code",
      "metadata": {
        "id": "O77J2SHbQzyA",
        "colab": {
          "base_uri": "https://localhost:8080/",
          "height": 144
        },
        "outputId": "39e8f316-fa27-4dee-8345-855c3dfa8cff"
      },
      "source": [
        ""
      ],
      "execution_count": null,
      "outputs": [
        {
          "output_type": "execute_result",
          "data": {
            "text/plain": [
              "RandomForestRegressor(bootstrap=True, ccp_alpha=0.0, criterion='mse',\n",
              "                      max_depth=None, max_features='auto', max_leaf_nodes=None,\n",
              "                      max_samples=None, min_impurity_decrease=0.0,\n",
              "                      min_impurity_split=None, min_samples_leaf=1,\n",
              "                      min_samples_split=2, min_weight_fraction_leaf=0.0,\n",
              "                      n_estimators=1000, n_jobs=None, oob_score=False,\n",
              "                      random_state=None, verbose=0, warm_start=False)"
            ]
          },
          "metadata": {
            "tags": []
          },
          "execution_count": 38
        }
      ]
    },
    {
      "cell_type": "code",
      "metadata": {
        "id": "wEp10zAMQ3bk"
      },
      "source": [
        ""
      ],
      "execution_count": null,
      "outputs": []
    },
    {
      "cell_type": "code",
      "metadata": {
        "id": "3ndiTYG7RGO7",
        "colab": {
          "base_uri": "https://localhost:8080/",
          "height": 1000
        },
        "outputId": "a06c721a-81aa-4392-a725-d1692ff03231"
      },
      "source": [
        ""
      ],
      "execution_count": null,
      "outputs": [
        {
          "output_type": "execute_result",
          "data": {
            "text/plain": [
              "array([ 14396.578,  35195.762,  64074.213,  22152.111,  19864.698,\n",
              "        41753.758,  19839.348,  57464.552,  27749.028,  21240.719,\n",
              "        26105.884,  13788.361,  16011.817,  54192.15 ,  32517.907,\n",
              "        10812.62 ,  39752.844,  16171.875,   4944.825,  22944.172,\n",
              "        26621.482,  13671.81 ,  19487.523,  53446.596,  30537.298,\n",
              "        23088.913,  25214.933,  34506.461,  21021.348,  18254.325,\n",
              "        10135.214,  18192.309,  32190.428,  26337.308,  15645.079,\n",
              "        10816.463,  20992.037,  27736.07 ,  24207.952,  42086.596,\n",
              "        15306.173,  44867.711,   3622.803,  44117.345,  24989.713,\n",
              "        16601.8  ,  19147.134,  33782.362,  16384.438,  10016.963,\n",
              "         9146.219,   3700.9  ,  17869.986,  30540.198,  11054.908,\n",
              "        34903.498,  15416.439,  27493.383,  42255.743,  13592.874,\n",
              "         5837.086,  18709.924,  10506.442,  28670.976,  22009.523,\n",
              "        25787.65 ,  68552.331,  48707.133,  13899.576,  11037.048,\n",
              "        36325.871,  12299.701,  22034.803,   3535.14 ,  11768.76 ,\n",
              "        22859.115,  27173.385,  21896.49 ,   6975.432,  36406.738,\n",
              "        17556.353,  22265.691,  17432.614,  27070.868,  16779.27 ,\n",
              "        10768.197,  25975.552,   6131.391,  23615.351,  66686.703,\n",
              "        24190.649,  15750.795,  23443.174,  30596.129,  11507.045,\n",
              "        67827.2  ,  25152.914,  19897.422,  17063.953,  25477.985,\n",
              "        29103.646,  26037.639,  12208.291,  12589.193,  34304.833,\n",
              "        21134.374,  46725.107,  25919.045,   3521.806,  27469.786,\n",
              "        33815.159,  50857.272,  31371.965,  25917.165,  71540.295,\n",
              "        12527.848,  19132.925,  11999.228,  19968.136,   9019.541,\n",
              "        10307.14 ,  27682.666,  29147.968,  16317.905,   4111.092,\n",
              "        12421.391,  41951.273,  22710.528,  15495.842,  10623.238,\n",
              "        47666.168,  20734.46 ,  32694.82 ,  16930.426,  30342.472,\n",
              "        38481.653,  71280.251,  29718.026,  24923.45 ,   4227.277,\n",
              "        12051.98 ,  49841.344,  62726.602,  24867.863,   5969.708,\n",
              "        20391.09 ,  17950.237,  25610.227,  14475.012,  10754.609,\n",
              "        30040.168,  20945.241,  16577.884,  11302.151,  11160.985,\n",
              "         7708.569,  19011.894,  21478.969,  19337.747,  13426.042,\n",
              "        16362.43 ,  22380.924,   9248.688,  15866.678,  25789.686,\n",
              "        25251.252,   4824.407,  12501.654,  31367.64 ,  17120.091,\n",
              "        12812.026,  27839.644,  17224.844,  14195.881,  20016.078,\n",
              "        26480.594,  19238.376,  21495.871,  18939.422,   3794.241,\n",
              "        25250.536,   3867.111,  24231.047,  14759.606,   7849.698,\n",
              "        27550.417,   3667.075,   3845.993,  21546.759,  12460.604,\n",
              "        16012.29 ,  37313.788,  14124.272,  29482.475,   9898.463,\n",
              "        27445.936,  38556.717,  28161.705,  65963.009,   6166.292,\n",
              "        13288.587,  25906.685,  25583.912,  76488.846,  12308.061,\n",
              "         9514.373,  25383.085,  26383.34 , 113016.197,   3840.116,\n",
              "        25750.283,  24153.292,  13417.196,  22545.89 ,  27196.796,\n",
              "        17884.388,  34146.596,  27526.236,  14847.237,  13032.538,\n",
              "        19757.623,  25077.366,  26567.354,  20136.217,  15787.384,\n",
              "        26820.472,  24141.904,  14800.844,  20602.419,  12084.587,\n",
              "        36688.231,  25618.317,  17929.639,  27080.15 ,  15895.057,\n",
              "        22273.234,  20993.96 ,  27846.688,  24958.626,  12794.266,\n",
              "        26987.356,  23656.055,  14715.596,  24196.988,  34161.013,\n",
              "        21293.988,  28974.417,  12438.329,  28863.151,  23810.031,\n",
              "        17074.427,  36448.824,   3535.488,  24282.706,  29142.058,\n",
              "         4575.96 ,  94371.046,  10190.244,  67536.732,  37869.326,\n",
              "        17937.715,  20399.975,  21384.639,  19278.47 ,  25506.584,\n",
              "        18349.072,  28425.138,   3581.165,  26261.462,  17990.32 ,\n",
              "        35626.03 ,  17448.572,  25647.68 ,  11153.245,   5647.697,\n",
              "        28002.526,  33546.7  ,  20447.773,  20469.35 ,  33562.98 ,\n",
              "        18565.97 ,  13920.105,  26152.594,  19997.625,  27194.014,\n",
              "        35416.437,  26854.222,  18854.969,  33033.663,  36968.296,\n",
              "        13187.487,  31987.095,  21561.985,  24631.917,  34576.11 ,\n",
              "        61008.692,  17575.162,  23028.582,  21912.858,  30764.111,\n",
              "        37370.415,  13145.371,  32673.469,  21725.228,  15324.659,\n",
              "        30772.181,  12441.888,  15571.739,  12898.585,  19745.658,\n",
              "        12732.315,  15849.469,  13041.236,  18187.923,  20301.081,\n",
              "        19978.626,  15539.345,  19710.913,  15945.661,  10216.641,\n",
              "        38077.748,  28723.75 ,  63747.762,  20343.831,   4016.071,\n",
              "        11442.009,  94859.306,  12771.461,  17474.175,  21624.832,\n",
              "        28755.314,  11721.336,  13850.971,  25405.8  ,  13128.868,\n",
              "         4031.168,  19837.013,  16737.976,  27198.113,  19674.978,\n",
              "        26135.969,  15583.183,   5277.392,  22484.489,  27254.946,\n",
              "        26972.988,  20321.735,  18517.76 ,   6061.446,  15460.64 ,\n",
              "        20092.799,  26873.355,  13627.323,  21243.078,  12261.848,\n",
              "        17434.394,  87018.009,  23949.264,  25110.063,  40952.584,\n",
              "        19240.359,  14094.717,   3125.5  ,  23613.22 ,  28413.788,\n",
              "        13168.807,  21804.627,  25021.94 ,  14518.308,  16032.816,\n",
              "        19861.079,  14595.524,  23489.496,   3940.826,  15511.074,\n",
              "        28856.398,  10579.462,  16905.239,  25533.202,  29508.886,\n",
              "        24900.815,  13428.305,  15084.416,  15334.218,  17980.354,\n",
              "        15525.89 ,  18222.576,   4468.175,   6857.348,  18099.111,\n",
              "         7093.785,  25559.673,  27052.361,  25893.025,  16789.747,\n",
              "         3673.897,  13821.474,  18951.538,  24637.227,  24899.016,\n",
              "        18088.404,   6205.199,  22114.062,  29177.4  ,  11703.487,\n",
              "        17522.889,  12975.866,  18069.856,  13919.704,  12777.297,\n",
              "        22358.676,  18885.709,  15709.093,  36313.695,  25715.043,\n",
              "        28772.336,  13466.621,  19040.833,   8618.94 ,  17276.531,\n",
              "        21307.918,  11593.073,  31997.818,  26144.703,  27084.367,\n",
              "        15715.362,  58054.443,  28907.772,  15465.045,  21946.183,\n",
              "        26496.252,  23534.966,  13040.776,  23564.795,  14552.706,\n",
              "        18919.426,  22409.604,  57892.243,   4304.507,  23404.094,\n",
              "        26363.687,  29440.805,  57506.382,  20781.016,   4263.889,\n",
              "        21379.874,   5522.778,  10637.89 ,   6405.511,  26010.601,\n",
              "        30527.839,  10170.223,  32181.398,  38426.487,  33229.166,\n",
              "        19507.053,  15832.265,  39623.413,  25179.128,  30849.918,\n",
              "        26613.407,  23005.293,  21008.063,  14490.36 ,  26436.787,\n",
              "        14895.247,   4212.601,  30787.631,  28460.773,  15896.445,\n",
              "        19086.627,  25526.749,  28917.313,  22682.141,  26011.901,\n",
              "        16611.548,   7232.28 ,  15695.187,  12843.717,  23967.82 ,\n",
              "        13241.653,  25745.944,  55392.055,  28808.164,  19756.273,\n",
              "        25027.317,  16723.802,   4021.5  ,  19061.412,  15700.917,\n",
              "        23056.691,  26798.457,  22805.224,  18322.486,  26573.603,\n",
              "        23776.328,  12689.396,  11718.074,   7819.328,  23211.288,\n",
              "        28900.565,   8711.164,  30736.825,  21229.57 ,  20452.32 ,\n",
              "        14403.794,  22314.947,  16481.185,  27683.726,   3858.874,\n",
              "        13935.814,  19550.291,  41594.359,  29240.521,  16558.962,\n",
              "        15674.434,  13792.398,  15717.66 ,  16610.347,   5808.167,\n",
              "        31670.311,  16819.218,  17781.888,  19685.449,  23092.591,\n",
              "         3882.776,  28896.742,  30528.83 ,  15296.378,  15079.222,\n",
              "        23716.671,  17108.134,  10845.494,  29375.652,  28741.046,\n",
              "        18349.964,  15056.992,  19849.241,  45699.677,  33104.363,\n",
              "        24411.872,  73381.587,  27685.891,  19941.09 ,  19710.779,\n",
              "        14490.426,  19071.76 ,  17238.145,  27394.193,  11677.808,\n",
              "        39389.934,  29118.987,  23348.441,  34759.884,  22325.273,\n",
              "        13117.608,  10137.04 ,  83169.799,  27301.449,  39413.966,\n",
              "         4268.551,  13135.295,  24290.106,  23851.181,  17075.721,\n",
              "        58913.799,  24414.784,   3821.64 ,   8644.904,  42448.876,\n",
              "        14551.926,  17607.227,  41482.617,  21348.666,  25781.212,\n",
              "        17545.681,  23638.703,   4456.774,  27983.603,  21622.482,\n",
              "        25059.842,   5340.999,  20883.246,  19697.987,  27327.41 ,\n",
              "         3611.105,  19993.654,  18235.316,  14365.779,  18430.318,\n",
              "        16877.843,  14935.713,  25600.355, 110974.124,  23515.953,\n",
              "         3916.655,  19886.993,   6936.003,  30296.687,  18115.989,\n",
              "        22801.324,  18860.611,  20643.766,  95627.839,  17990.738,\n",
              "        27191.352,  44667.813,  18991.58 ,  27263.945,  52753.727,\n",
              "        12488.422,  25964.216,  35538.134,  26917.02 ,  14778.998,\n",
              "        87167.595,   4099.312,   7709.974,   4125.432,   4078.446,\n",
              "        20426.097,  10485.027,  20834.569,  23712.242,  12028.519,\n",
              "        17992.779,  21219.478,  19453.942,  25792.792,  27308.392,\n",
              "        29541.967,  14524.235,  14447.251,   3940.39 ,  19670.129,\n",
              "        16889.172,  13034.152,  11001.175,  55524.392,  12055.09 ,\n",
              "        26770.098,  11715.409,   5837.393,  17524.315,  33805.264,\n",
              "        18736.8  ,  14963.901,  33033.73 ,  14898.349,  30086.018,\n",
              "        71094.635,  20797.496,  21684.916,  22550.494,  17402.929,\n",
              "        28426.157,  31803.293,  26372.666,  17331.508,  23314.57 ,\n",
              "        26481.462,   4140.8  ,  11739.409,  23510.73 ,  15554.816,\n",
              "        17954.132,   3598.881,  42646.762,  24153.979,  20311.942,\n",
              "        29631.414,  24708.166,  14436.578,  18510.014,  24988.493,\n",
              "        11987.925,  16991.335,  29116.848,  25126.774,  19209.426,\n",
              "        21610.223,  21974.348,  16883.866,   6292.414,  15940.537,\n",
              "        30922.365,  26494.976,  20309.911,  23499.039,  24723.453,\n",
              "        12836.152,  15460.518,  27031.149,  30343.564,  21880.468,\n",
              "        21277.575,  22659.454,   6923.585,  10987.375,  12128.717,\n",
              "        28886.998,   8343.231,  13923.959,  22728.85 ,   4937.098,\n",
              "        61410.111,  22176.515,  11631.23 ,  13254.911,   3980.165,\n",
              "        24998.004,  18848.791,  30551.84 ,   3610.641,  14050.67 ,\n",
              "        22385.162,  24262.963,  32882.561,  14047.241,  25142.187,\n",
              "        86342.191,  11087.864,  11271.282,  26990.32 ,  13524.543,\n",
              "        15985.362,  18101.318,  13241.961,  27139.009,   7223.4  ,\n",
              "        31413.885,  21189.683,  25789.686,  12573.952,  26651.256,\n",
              "        64029.194,   4773.391,  39872.346,  28019.288,  42081.007,\n",
              "        34290.118,  14728.106,  57770.836,  21484.089,  13353.825,\n",
              "        21459.217,  25435.22 ,   4190.844,  63784.695,  30062.148,\n",
              "        29351.749,  35277.708,  29584.721,  25023.009,  39436.792,\n",
              "        26320.95 ,  19475.726,   3618.117,  21336.601,  32697.399,\n",
              "        25009.499,  21565.795,   4434.702,  19650.559,  18560.213,\n",
              "        19579.991,   5159.25 ,  25046.522,  28850.887,  24421.653,\n",
              "        30357.05 ,  28026.982,  20574.836,  10980.09 , 109424.13 ,\n",
              "        63105.327,   9829.334, 105403.084,  20954.009,  39440.769,\n",
              "        40833.476,  13694.183,  24755.273, 110038.255,  27719.706,\n",
              "        24785.682,  27348.289,  31040.54 ,  24306.369,  26375.097,\n",
              "        14225.953,  17108.145,  27487.961,  14924.034,  19602.655,\n",
              "        21215.329,  19211.46 ,  11608.227,  11414.88 ,  44158.119,\n",
              "        30291.1  ,  39023.715,  21393.215,  26991.971,  12227.166,\n",
              "        22372.63 ,  20106.669,  18428.276,   5105.588,   4533.798,\n",
              "        22171.023,  13002.952,  25764.11 ,  24340.268,  26482.483,\n",
              "        26243.051,  17987.501,  14624.93 ,  25846.546,  23271.855,\n",
              "        28629.735,  14118.63 ,  34488.013,  33064.546,  30755.324,\n",
              "        16871.871,  18595.747,  24183.378,  12587.857,  28816.303,\n",
              "        17832.99 ,  22046.01 ,  16353.109,  21943.716,  23767.059,\n",
              "        20148.505,  16552.594,  26678.481,  34784.449,  25324.031,\n",
              "        29806.603,  20550.412,  20759.499,  38586.895,   7405.66 ,\n",
              "        24569.559,  28955.637,  20527.428,  15739.487,  24480.778,\n",
              "        43945.556,  25904.305,  25694.155,  13051.679,  13575.965,\n",
              "        26449.433,  21443.812,  15779.294,  28012.537,  23631.581,\n",
              "        18271.716,  28659.947,  11569.405,  30353.581,   3788.582,\n",
              "        29563.784,  13819.66 ,  24052.402,  10858.695,  36705.002,\n",
              "        26281.464,  16193.815,  25159.883,  66974.775,  18496.891,\n",
              "        19196.235,  41739.861,  20772.985,  15358.298,  35841.946,\n",
              "        16451.716,  41864.771, 109094.638,  11389.823,  19654.581,\n",
              "         6875.277,  14151.495,  28653.344,  17646.606,  13073.938,\n",
              "        26470.338,  23740.718,  13734.564,  26232.009,  92261.522,\n",
              "        19537.755,  21450.071,  58769.657,  24037.627,  29217.479,\n",
              "        32969.354,  66720.328,  15833.143,  16346.03 ,   7483.694,\n",
              "        16022.09 ,  40255.829,  12375.377,  39387.233,  23315.789,\n",
              "        29021.225,  23508.598,  44721.071,  26760.912,  67326.151,\n",
              "        14376.583,  25299.525,  21963.98 ,   9746.752,  15072.619,\n",
              "        11776.606,  18360.784,  21489.793,   3605.371,  20121.454,\n",
              "        18867.491,  24478.875,  23471.728,  24935.212,  27511.084,\n",
              "        12212.863,  15227.841,  30758.725,  13382.106,  11294.127,\n",
              "        10116.798,  10093.512,  16572.179,  74919.622,  18509.686,\n",
              "        16156.187,  17132.3  ,  25850.976,   4308.08 ,  25780.883,\n",
              "        44372.363,  16082.491,  12846.985,  12990.654,  21338.378,\n",
              "         4595.815,  24933.479,  10871.351,  12805.171,   7366.   ,\n",
              "        21363.983,  26845.945,  15160.094,  25577.339,  23190.803,\n",
              "        21844.364,  18385.634,  17893.331,  29603.897,  29526.039,\n",
              "        20432.643,  33641.982,  32699.871,  22630.146,  40106.956,\n",
              "        15525.149,  95593.939,  42140.561,  12275.139,   4645.731,\n",
              "        21468.533,  27921.226,   4511.753,  28940.487,  22442.124,\n",
              "         5501.086,  21096.05 ,  13115.582,  10876.39 ,  25621.177,\n",
              "         4479.1  ,  20188.995,  15738.596,  28206.754,  25648.992,\n",
              "        16028.535,  16070.292,  18539.712,  12876.365,  13225.07 ,\n",
              "        12834.037,  72510.411])"
            ]
          },
          "metadata": {
            "tags": []
          },
          "execution_count": 40
        }
      ]
    },
    {
      "cell_type": "code",
      "metadata": {
        "id": "V8O1AD_2RHlY"
      },
      "source": [
        ""
      ],
      "execution_count": null,
      "outputs": []
    },
    {
      "cell_type": "code",
      "metadata": {
        "id": "d8FWautJRbc9",
        "colab": {
          "base_uri": "https://localhost:8080/",
          "height": 206
        },
        "outputId": "434a3991-0306-4358-d4db-d9091791109a"
      },
      "source": [
        ""
      ],
      "execution_count": null,
      "outputs": [
        {
          "output_type": "execute_result",
          "data": {
            "text/html": [
              "<div>\n",
              "<style scoped>\n",
              "    .dataframe tbody tr th:only-of-type {\n",
              "        vertical-align: middle;\n",
              "    }\n",
              "\n",
              "    .dataframe tbody tr th {\n",
              "        vertical-align: top;\n",
              "    }\n",
              "\n",
              "    .dataframe thead th {\n",
              "        text-align: right;\n",
              "    }\n",
              "</style>\n",
              "<table border=\"1\" class=\"dataframe\">\n",
              "  <thead>\n",
              "    <tr style=\"text-align: right;\">\n",
              "      <th></th>\n",
              "      <th>0</th>\n",
              "    </tr>\n",
              "  </thead>\n",
              "  <tbody>\n",
              "    <tr>\n",
              "      <th>0</th>\n",
              "      <td>14396.578</td>\n",
              "    </tr>\n",
              "    <tr>\n",
              "      <th>1</th>\n",
              "      <td>35195.762</td>\n",
              "    </tr>\n",
              "    <tr>\n",
              "      <th>2</th>\n",
              "      <td>64074.213</td>\n",
              "    </tr>\n",
              "    <tr>\n",
              "      <th>3</th>\n",
              "      <td>22152.111</td>\n",
              "    </tr>\n",
              "    <tr>\n",
              "      <th>4</th>\n",
              "      <td>19864.698</td>\n",
              "    </tr>\n",
              "  </tbody>\n",
              "</table>\n",
              "</div>"
            ],
            "text/plain": [
              "           0\n",
              "0  14396.578\n",
              "1  35195.762\n",
              "2  64074.213\n",
              "3  22152.111\n",
              "4  19864.698"
            ]
          },
          "metadata": {
            "tags": []
          },
          "execution_count": 42
        }
      ]
    },
    {
      "cell_type": "code",
      "metadata": {
        "id": "2MTjsB2NRdMo",
        "colab": {
          "base_uri": "https://localhost:8080/",
          "height": 35
        },
        "outputId": "87012024-e777-4933-f837-67c9ca668e2f"
      },
      "source": [
        ""
      ],
      "execution_count": null,
      "outputs": [
        {
          "output_type": "stream",
          "text": [
            "Drive already mounted at drive; to attempt to forcibly remount, call drive.mount(\"drive\", force_remount=True).\n"
          ],
          "name": "stdout"
        }
      ]
    },
    {
      "cell_type": "code",
      "metadata": {
        "id": "TnuEF7igRzJd"
      },
      "source": [
        ""
      ],
      "execution_count": null,
      "outputs": []
    },
    {
      "cell_type": "code",
      "metadata": {
        "id": "pSlR9cdESc5q",
        "colab": {
          "base_uri": "https://localhost:8080/",
          "height": 206
        },
        "outputId": "f0210aa6-42fe-469c-c7f3-c8dde594caab"
      },
      "source": [
        "df.head()"
      ],
      "execution_count": null,
      "outputs": [
        {
          "output_type": "execute_result",
          "data": {
            "text/html": [
              "<div>\n",
              "<style scoped>\n",
              "    .dataframe tbody tr th:only-of-type {\n",
              "        vertical-align: middle;\n",
              "    }\n",
              "\n",
              "    .dataframe tbody tr th {\n",
              "        vertical-align: top;\n",
              "    }\n",
              "\n",
              "    .dataframe thead th {\n",
              "        text-align: right;\n",
              "    }\n",
              "</style>\n",
              "<table border=\"1\" class=\"dataframe\">\n",
              "  <thead>\n",
              "    <tr style=\"text-align: right;\">\n",
              "      <th></th>\n",
              "      <th>Brand</th>\n",
              "      <th>Model_Info</th>\n",
              "      <th>Additional_Description</th>\n",
              "      <th>Locality</th>\n",
              "      <th>City</th>\n",
              "      <th>State</th>\n",
              "      <th>Price</th>\n",
              "    </tr>\n",
              "  </thead>\n",
              "  <tbody>\n",
              "    <tr>\n",
              "      <th>0</th>\n",
              "      <td>1</td>\n",
              "      <td>992</td>\n",
              "      <td>987</td>\n",
              "      <td>878</td>\n",
              "      <td>8</td>\n",
              "      <td>2</td>\n",
              "      <td>15000</td>\n",
              "    </tr>\n",
              "    <tr>\n",
              "      <th>1</th>\n",
              "      <td>1</td>\n",
              "      <td>1892</td>\n",
              "      <td>521</td>\n",
              "      <td>1081</td>\n",
              "      <td>4</td>\n",
              "      <td>0</td>\n",
              "      <td>18800</td>\n",
              "    </tr>\n",
              "    <tr>\n",
              "      <th>2</th>\n",
              "      <td>1</td>\n",
              "      <td>1045</td>\n",
              "      <td>232</td>\n",
              "      <td>495</td>\n",
              "      <td>11</td>\n",
              "      <td>4</td>\n",
              "      <td>50000</td>\n",
              "    </tr>\n",
              "    <tr>\n",
              "      <th>3</th>\n",
              "      <td>1</td>\n",
              "      <td>695</td>\n",
              "      <td>2075</td>\n",
              "      <td>287</td>\n",
              "      <td>10</td>\n",
              "      <td>7</td>\n",
              "      <td>16500</td>\n",
              "    </tr>\n",
              "    <tr>\n",
              "      <th>4</th>\n",
              "      <td>1</td>\n",
              "      <td>1901</td>\n",
              "      <td>901</td>\n",
              "      <td>342</td>\n",
              "      <td>4</td>\n",
              "      <td>0</td>\n",
              "      <td>26499</td>\n",
              "    </tr>\n",
              "  </tbody>\n",
              "</table>\n",
              "</div>"
            ],
            "text/plain": [
              "   Brand  Model_Info  Additional_Description  Locality  City  State  Price\n",
              "0      1         992                     987       878     8      2  15000\n",
              "1      1        1892                     521      1081     4      0  18800\n",
              "2      1        1045                     232       495    11      4  50000\n",
              "3      1         695                    2075       287    10      7  16500\n",
              "4      1        1901                     901       342     4      0  26499"
            ]
          },
          "metadata": {
            "tags": []
          },
          "execution_count": 33
        }
      ]
    },
    {
      "cell_type": "code",
      "metadata": {
        "id": "DpumWmxpXGrz"
      },
      "source": [
        "def unique_items(list1, list2):\n",
        "  a = list1\n",
        "  b = list2\n",
        "  a.extend(b)\n",
        "  return list(set(a))"
      ],
      "execution_count": null,
      "outputs": []
    },
    {
      "cell_type": "code",
      "metadata": {
        "id": "rxq7-sItqsyZ"
      },
      "source": [
        "y_train=df['Price']\n",
        "X_train=df.drop('Price',axis=1)\n",
        "X_test=dft"
      ],
      "execution_count": null,
      "outputs": []
    },
    {
      "cell_type": "code",
      "metadata": {
        "id": "2TRthTiIqd6n",
        "colab": {
          "base_uri": "https://localhost:8080/",
          "height": 35
        },
        "outputId": "63a03fd0-6fcb-48f8-dbe0-dc3e8b1e9e94"
      },
      "source": [
        "from sklearn.preprocessing import LabelEncoder\n",
        "\n",
        "le_modelinf = LabelEncoder()\n",
        "all_titles = unique_items(list(X_train['Model_Info']),list(X_test['Model_Info']))\n",
        "le_modelinf.fit(all_titles)\n",
        "\n",
        "le_AdditionalDescription= LabelEncoder()\n",
        "all_etypes = unique_items(list(X_train['Additional_Description']),list(X_test['Additional_Description']))\n",
        "le_AdditionalDescription.fit(all_etypes)\n"
      ],
      "execution_count": null,
      "outputs": [
        {
          "output_type": "execute_result",
          "data": {
            "text/plain": [
              "LabelEncoder()"
            ]
          },
          "metadata": {
            "tags": []
          },
          "execution_count": 18
        }
      ]
    },
    {
      "cell_type": "code",
      "metadata": {
        "id": "zYtPqQuFr9_W"
      },
      "source": [
        "X_train['Model_Info'] = le_modelinf.transform(X_train['Model_Info'])\n",
        "\n",
        "X_train['Additional_Description'] = le_AdditionalDescription.transform(X_train['Additional_Description'])"
      ],
      "execution_count": null,
      "outputs": []
    },
    {
      "cell_type": "code",
      "metadata": {
        "id": "BFmegPI3tP-d",
        "colab": {
          "base_uri": "https://localhost:8080/",
          "height": 206
        },
        "outputId": "751debb7-620a-43d4-81a2-e4e12cfd1ba2"
      },
      "source": [
        "X_train.head()"
      ],
      "execution_count": null,
      "outputs": [
        {
          "output_type": "execute_result",
          "data": {
            "text/html": [
              "<div>\n",
              "<style scoped>\n",
              "    .dataframe tbody tr th:only-of-type {\n",
              "        vertical-align: middle;\n",
              "    }\n",
              "\n",
              "    .dataframe tbody tr th {\n",
              "        vertical-align: top;\n",
              "    }\n",
              "\n",
              "    .dataframe thead th {\n",
              "        text-align: right;\n",
              "    }\n",
              "</style>\n",
              "<table border=\"1\" class=\"dataframe\">\n",
              "  <thead>\n",
              "    <tr style=\"text-align: right;\">\n",
              "      <th></th>\n",
              "      <th>Brand</th>\n",
              "      <th>Model_Info</th>\n",
              "      <th>Additional_Description</th>\n",
              "      <th>Locality</th>\n",
              "      <th>City</th>\n",
              "      <th>State</th>\n",
              "    </tr>\n",
              "  </thead>\n",
              "  <tbody>\n",
              "    <tr>\n",
              "      <th>0</th>\n",
              "      <td>1</td>\n",
              "      <td>1358</td>\n",
              "      <td>1378</td>\n",
              "      <td>878</td>\n",
              "      <td>8</td>\n",
              "      <td>2</td>\n",
              "    </tr>\n",
              "    <tr>\n",
              "      <th>1</th>\n",
              "      <td>1</td>\n",
              "      <td>2611</td>\n",
              "      <td>738</td>\n",
              "      <td>1081</td>\n",
              "      <td>4</td>\n",
              "      <td>0</td>\n",
              "    </tr>\n",
              "    <tr>\n",
              "      <th>2</th>\n",
              "      <td>1</td>\n",
              "      <td>1443</td>\n",
              "      <td>339</td>\n",
              "      <td>495</td>\n",
              "      <td>11</td>\n",
              "      <td>4</td>\n",
              "    </tr>\n",
              "    <tr>\n",
              "      <th>3</th>\n",
              "      <td>1</td>\n",
              "      <td>945</td>\n",
              "      <td>2941</td>\n",
              "      <td>287</td>\n",
              "      <td>10</td>\n",
              "      <td>7</td>\n",
              "    </tr>\n",
              "    <tr>\n",
              "      <th>4</th>\n",
              "      <td>1</td>\n",
              "      <td>2626</td>\n",
              "      <td>1263</td>\n",
              "      <td>342</td>\n",
              "      <td>4</td>\n",
              "      <td>0</td>\n",
              "    </tr>\n",
              "  </tbody>\n",
              "</table>\n",
              "</div>"
            ],
            "text/plain": [
              "   Brand  Model_Info  Additional_Description  Locality  City  State\n",
              "0      1        1358                    1378       878     8      2\n",
              "1      1        2611                     738      1081     4      0\n",
              "2      1        1443                     339       495    11      4\n",
              "3      1         945                    2941       287    10      7\n",
              "4      1        2626                    1263       342     4      0"
            ]
          },
          "metadata": {
            "tags": []
          },
          "execution_count": 20
        }
      ]
    },
    {
      "cell_type": "code",
      "metadata": {
        "id": "GJmhDAeqtToQ"
      },
      "source": [
        "X_test['Model_Info'] = le_modelinf.transform(X_test['Model_Info'])\n",
        "\n",
        "X_test['Additional_Description'] = le_AdditionalDescription.transform(X_test['Additional_Description'])"
      ],
      "execution_count": null,
      "outputs": []
    },
    {
      "cell_type": "code",
      "metadata": {
        "id": "94_kTqu4tj3m",
        "colab": {
          "base_uri": "https://localhost:8080/",
          "height": 206
        },
        "outputId": "9c053b51-f765-487b-8ada-88c47c0dcdfb"
      },
      "source": [
        "X_test.head()"
      ],
      "execution_count": null,
      "outputs": [
        {
          "output_type": "execute_result",
          "data": {
            "text/html": [
              "<div>\n",
              "<style scoped>\n",
              "    .dataframe tbody tr th:only-of-type {\n",
              "        vertical-align: middle;\n",
              "    }\n",
              "\n",
              "    .dataframe tbody tr th {\n",
              "        vertical-align: top;\n",
              "    }\n",
              "\n",
              "    .dataframe thead th {\n",
              "        text-align: right;\n",
              "    }\n",
              "</style>\n",
              "<table border=\"1\" class=\"dataframe\">\n",
              "  <thead>\n",
              "    <tr style=\"text-align: right;\">\n",
              "      <th></th>\n",
              "      <th>Brand</th>\n",
              "      <th>Model_Info</th>\n",
              "      <th>Additional_Description</th>\n",
              "      <th>Locality</th>\n",
              "      <th>City</th>\n",
              "      <th>State</th>\n",
              "    </tr>\n",
              "  </thead>\n",
              "  <tbody>\n",
              "    <tr>\n",
              "      <th>0</th>\n",
              "      <td>1</td>\n",
              "      <td>696</td>\n",
              "      <td>1935</td>\n",
              "      <td>570</td>\n",
              "      <td>11</td>\n",
              "      <td>4</td>\n",
              "    </tr>\n",
              "    <tr>\n",
              "      <th>1</th>\n",
              "      <td>1</td>\n",
              "      <td>2749</td>\n",
              "      <td>1270</td>\n",
              "      <td>762</td>\n",
              "      <td>8</td>\n",
              "      <td>2</td>\n",
              "    </tr>\n",
              "    <tr>\n",
              "      <th>2</th>\n",
              "      <td>1</td>\n",
              "      <td>1426</td>\n",
              "      <td>484</td>\n",
              "      <td>60</td>\n",
              "      <td>13</td>\n",
              "      <td>5</td>\n",
              "    </tr>\n",
              "    <tr>\n",
              "      <th>3</th>\n",
              "      <td>1</td>\n",
              "      <td>2369</td>\n",
              "      <td>2458</td>\n",
              "      <td>640</td>\n",
              "      <td>15</td>\n",
              "      <td>5</td>\n",
              "    </tr>\n",
              "    <tr>\n",
              "      <th>4</th>\n",
              "      <td>1</td>\n",
              "      <td>721</td>\n",
              "      <td>1885</td>\n",
              "      <td>816</td>\n",
              "      <td>2</td>\n",
              "      <td>6</td>\n",
              "    </tr>\n",
              "  </tbody>\n",
              "</table>\n",
              "</div>"
            ],
            "text/plain": [
              "   Brand  Model_Info  Additional_Description  Locality  City  State\n",
              "0      1         696                    1935       570    11      4\n",
              "1      1        2749                    1270       762     8      2\n",
              "2      1        1426                     484        60    13      5\n",
              "3      1        2369                    2458       640    15      5\n",
              "4      1         721                    1885       816     2      6"
            ]
          },
          "metadata": {
            "tags": []
          },
          "execution_count": 22
        }
      ]
    },
    {
      "cell_type": "code",
      "metadata": {
        "id": "35I7YCrltm10"
      },
      "source": [
        "from sklearn.preprocessing import MinMaxScaler\n",
        "scaler=MinMaxScaler()"
      ],
      "execution_count": null,
      "outputs": []
    },
    {
      "cell_type": "code",
      "metadata": {
        "id": "DLmFe92PuidQ"
      },
      "source": [
        "X_train_scaled=scaler.fit_transform(X_train)\n",
        "X_test_scaled=scaler.transform(X_test)"
      ],
      "execution_count": null,
      "outputs": []
    },
    {
      "cell_type": "code",
      "metadata": {
        "id": "kZk1IBGXu5wf"
      },
      "source": [
        "from sklearn.ensemble import RandomForestRegressor"
      ],
      "execution_count": null,
      "outputs": []
    },
    {
      "cell_type": "code",
      "metadata": {
        "id": "udySEePEvBzJ"
      },
      "source": [
        "clf=RandomForestRegressor(n_estimators=1000)"
      ],
      "execution_count": null,
      "outputs": []
    },
    {
      "cell_type": "code",
      "metadata": {
        "id": "eITnntzovGUI",
        "colab": {
          "base_uri": "https://localhost:8080/",
          "height": 144
        },
        "outputId": "6e467012-79bd-4369-ef00-0bca45b82fb6"
      },
      "source": [
        "clf.fit(X_train,y_train)"
      ],
      "execution_count": null,
      "outputs": [
        {
          "output_type": "execute_result",
          "data": {
            "text/plain": [
              "RandomForestRegressor(bootstrap=True, ccp_alpha=0.0, criterion='mse',\n",
              "                      max_depth=None, max_features='auto', max_leaf_nodes=None,\n",
              "                      max_samples=None, min_impurity_decrease=0.0,\n",
              "                      min_impurity_split=None, min_samples_leaf=1,\n",
              "                      min_samples_split=2, min_weight_fraction_leaf=0.0,\n",
              "                      n_estimators=1000, n_jobs=None, oob_score=False,\n",
              "                      random_state=None, verbose=0, warm_start=False)"
            ]
          },
          "metadata": {
            "tags": []
          },
          "execution_count": 35
        }
      ]
    },
    {
      "cell_type": "code",
      "metadata": {
        "id": "fJMEJN-pvNpa"
      },
      "source": [
        "y_test=clf.predict(X_test)"
      ],
      "execution_count": null,
      "outputs": []
    },
    {
      "cell_type": "code",
      "metadata": {
        "id": "IFwpjYYwvWmP"
      },
      "source": [
        "answer=pd.DataFrame([y_test]).transpose()"
      ],
      "execution_count": null,
      "outputs": []
    },
    {
      "cell_type": "code",
      "metadata": {
        "id": "3TlbnOkhvd9u",
        "colab": {
          "base_uri": "https://localhost:8080/",
          "height": 206
        },
        "outputId": "12fcb8c2-cb59-46d4-aeb3-b166ab163c17"
      },
      "source": [
        "answer.head()"
      ],
      "execution_count": null,
      "outputs": [
        {
          "output_type": "execute_result",
          "data": {
            "text/html": [
              "<div>\n",
              "<style scoped>\n",
              "    .dataframe tbody tr th:only-of-type {\n",
              "        vertical-align: middle;\n",
              "    }\n",
              "\n",
              "    .dataframe tbody tr th {\n",
              "        vertical-align: top;\n",
              "    }\n",
              "\n",
              "    .dataframe thead th {\n",
              "        text-align: right;\n",
              "    }\n",
              "</style>\n",
              "<table border=\"1\" class=\"dataframe\">\n",
              "  <thead>\n",
              "    <tr style=\"text-align: right;\">\n",
              "      <th></th>\n",
              "      <th>0</th>\n",
              "    </tr>\n",
              "  </thead>\n",
              "  <tbody>\n",
              "    <tr>\n",
              "      <th>0</th>\n",
              "      <td>7108.197</td>\n",
              "    </tr>\n",
              "    <tr>\n",
              "      <th>1</th>\n",
              "      <td>18512.669</td>\n",
              "    </tr>\n",
              "    <tr>\n",
              "      <th>2</th>\n",
              "      <td>12690.995</td>\n",
              "    </tr>\n",
              "    <tr>\n",
              "      <th>3</th>\n",
              "      <td>27420.426</td>\n",
              "    </tr>\n",
              "    <tr>\n",
              "      <th>4</th>\n",
              "      <td>8034.664</td>\n",
              "    </tr>\n",
              "  </tbody>\n",
              "</table>\n",
              "</div>"
            ],
            "text/plain": [
              "           0\n",
              "0   7108.197\n",
              "1  18512.669\n",
              "2  12690.995\n",
              "3  27420.426\n",
              "4   8034.664"
            ]
          },
          "metadata": {
            "tags": []
          },
          "execution_count": 38
        }
      ]
    },
    {
      "cell_type": "code",
      "metadata": {
        "id": "X4bQBUXhvf1G",
        "colab": {
          "base_uri": "https://localhost:8080/",
          "height": 424
        },
        "outputId": "15874dfb-2ab2-4322-b42c-28ab28284c8f"
      },
      "source": [
        "answer"
      ],
      "execution_count": null,
      "outputs": [
        {
          "output_type": "execute_result",
          "data": {
            "text/html": [
              "<div>\n",
              "<style scoped>\n",
              "    .dataframe tbody tr th:only-of-type {\n",
              "        vertical-align: middle;\n",
              "    }\n",
              "\n",
              "    .dataframe tbody tr th {\n",
              "        vertical-align: top;\n",
              "    }\n",
              "\n",
              "    .dataframe thead th {\n",
              "        text-align: right;\n",
              "    }\n",
              "</style>\n",
              "<table border=\"1\" class=\"dataframe\">\n",
              "  <thead>\n",
              "    <tr style=\"text-align: right;\">\n",
              "      <th></th>\n",
              "      <th>0</th>\n",
              "    </tr>\n",
              "  </thead>\n",
              "  <tbody>\n",
              "    <tr>\n",
              "      <th>0</th>\n",
              "      <td>7108.197</td>\n",
              "    </tr>\n",
              "    <tr>\n",
              "      <th>1</th>\n",
              "      <td>18512.669</td>\n",
              "    </tr>\n",
              "    <tr>\n",
              "      <th>2</th>\n",
              "      <td>12690.995</td>\n",
              "    </tr>\n",
              "    <tr>\n",
              "      <th>3</th>\n",
              "      <td>27420.426</td>\n",
              "    </tr>\n",
              "    <tr>\n",
              "      <th>4</th>\n",
              "      <td>8034.664</td>\n",
              "    </tr>\n",
              "    <tr>\n",
              "      <th>...</th>\n",
              "      <td>...</td>\n",
              "    </tr>\n",
              "    <tr>\n",
              "      <th>992</th>\n",
              "      <td>23252.637</td>\n",
              "    </tr>\n",
              "    <tr>\n",
              "      <th>993</th>\n",
              "      <td>38543.540</td>\n",
              "    </tr>\n",
              "    <tr>\n",
              "      <th>994</th>\n",
              "      <td>11118.444</td>\n",
              "    </tr>\n",
              "    <tr>\n",
              "      <th>995</th>\n",
              "      <td>16361.499</td>\n",
              "    </tr>\n",
              "    <tr>\n",
              "      <th>996</th>\n",
              "      <td>24634.776</td>\n",
              "    </tr>\n",
              "  </tbody>\n",
              "</table>\n",
              "<p>997 rows × 1 columns</p>\n",
              "</div>"
            ],
            "text/plain": [
              "             0\n",
              "0     7108.197\n",
              "1    18512.669\n",
              "2    12690.995\n",
              "3    27420.426\n",
              "4     8034.664\n",
              "..         ...\n",
              "992  23252.637\n",
              "993  38543.540\n",
              "994  11118.444\n",
              "995  16361.499\n",
              "996  24634.776\n",
              "\n",
              "[997 rows x 1 columns]"
            ]
          },
          "metadata": {
            "tags": []
          },
          "execution_count": 39
        }
      ]
    },
    {
      "cell_type": "code",
      "metadata": {
        "id": "wdPb-zQtvjyS"
      },
      "source": [
        "answer.to_csv('electronics.csv',index=False)\n",
        "!cp electronics.csv \"drive/My Drive/\""
      ],
      "execution_count": null,
      "outputs": []
    },
    {
      "cell_type": "code",
      "metadata": {
        "id": "Vo4OS2SbwXOh"
      },
      "source": [
        "def rf_feat_importance(m, df):\n",
        "    return pd.DataFrame({'cols':df.columns, 'imp':m.feature_importances_}\n",
        "                       ).sort_values('imp', ascending=False)\n",
        "fi = rf_feat_importance(clf, X_train); "
      ],
      "execution_count": null,
      "outputs": []
    },
    {
      "cell_type": "code",
      "metadata": {
        "id": "8AgkiSDS0TzJ",
        "colab": {
          "base_uri": "https://localhost:8080/",
          "height": 237
        },
        "outputId": "26860193-0c85-45ac-80b1-7f594ad3ebab"
      },
      "source": [
        "fi"
      ],
      "execution_count": null,
      "outputs": [
        {
          "output_type": "execute_result",
          "data": {
            "text/html": [
              "<div>\n",
              "<style scoped>\n",
              "    .dataframe tbody tr th:only-of-type {\n",
              "        vertical-align: middle;\n",
              "    }\n",
              "\n",
              "    .dataframe tbody tr th {\n",
              "        vertical-align: top;\n",
              "    }\n",
              "\n",
              "    .dataframe thead th {\n",
              "        text-align: right;\n",
              "    }\n",
              "</style>\n",
              "<table border=\"1\" class=\"dataframe\">\n",
              "  <thead>\n",
              "    <tr style=\"text-align: right;\">\n",
              "      <th></th>\n",
              "      <th>cols</th>\n",
              "      <th>imp</th>\n",
              "    </tr>\n",
              "  </thead>\n",
              "  <tbody>\n",
              "    <tr>\n",
              "      <th>1</th>\n",
              "      <td>Model_Info</td>\n",
              "      <td>0.675824</td>\n",
              "    </tr>\n",
              "    <tr>\n",
              "      <th>3</th>\n",
              "      <td>Locality</td>\n",
              "      <td>0.096220</td>\n",
              "    </tr>\n",
              "    <tr>\n",
              "      <th>2</th>\n",
              "      <td>Additional_Description</td>\n",
              "      <td>0.093717</td>\n",
              "    </tr>\n",
              "    <tr>\n",
              "      <th>0</th>\n",
              "      <td>Brand</td>\n",
              "      <td>0.072915</td>\n",
              "    </tr>\n",
              "    <tr>\n",
              "      <th>4</th>\n",
              "      <td>City</td>\n",
              "      <td>0.032186</td>\n",
              "    </tr>\n",
              "    <tr>\n",
              "      <th>5</th>\n",
              "      <td>State</td>\n",
              "      <td>0.029138</td>\n",
              "    </tr>\n",
              "  </tbody>\n",
              "</table>\n",
              "</div>"
            ],
            "text/plain": [
              "                     cols       imp\n",
              "1              Model_Info  0.675824\n",
              "3                Locality  0.096220\n",
              "2  Additional_Description  0.093717\n",
              "0                   Brand  0.072915\n",
              "4                    City  0.032186\n",
              "5                   State  0.029138"
            ]
          },
          "metadata": {
            "tags": []
          },
          "execution_count": 42
        }
      ]
    },
    {
      "cell_type": "code",
      "metadata": {
        "id": "LwWLfV-u0Vkg"
      },
      "source": [
        "to_keep = fi[fi.imp>0.08].cols;"
      ],
      "execution_count": null,
      "outputs": []
    },
    {
      "cell_type": "code",
      "metadata": {
        "id": "xs5GgYIg1l1q",
        "colab": {
          "base_uri": "https://localhost:8080/",
          "height": 90
        },
        "outputId": "b3608dd5-cf4a-4f21-82f8-bac07547de41"
      },
      "source": [
        "to_keep"
      ],
      "execution_count": null,
      "outputs": [
        {
          "output_type": "execute_result",
          "data": {
            "text/plain": [
              "1                Model_Info\n",
              "3                  Locality\n",
              "2    Additional_Description\n",
              "Name: cols, dtype: object"
            ]
          },
          "metadata": {
            "tags": []
          },
          "execution_count": 55
        }
      ]
    },
    {
      "cell_type": "code",
      "metadata": {
        "id": "oPs52jgH1n0z"
      },
      "source": [
        "X_train=X_train[to_keep]"
      ],
      "execution_count": null,
      "outputs": []
    },
    {
      "cell_type": "code",
      "metadata": {
        "id": "MjHRamhy16il",
        "colab": {
          "base_uri": "https://localhost:8080/",
          "height": 206
        },
        "outputId": "6f295001-218b-4c77-c695-3e2426cc61e6"
      },
      "source": [
        "X_train.head()"
      ],
      "execution_count": null,
      "outputs": [
        {
          "output_type": "execute_result",
          "data": {
            "text/html": [
              "<div>\n",
              "<style scoped>\n",
              "    .dataframe tbody tr th:only-of-type {\n",
              "        vertical-align: middle;\n",
              "    }\n",
              "\n",
              "    .dataframe tbody tr th {\n",
              "        vertical-align: top;\n",
              "    }\n",
              "\n",
              "    .dataframe thead th {\n",
              "        text-align: right;\n",
              "    }\n",
              "</style>\n",
              "<table border=\"1\" class=\"dataframe\">\n",
              "  <thead>\n",
              "    <tr style=\"text-align: right;\">\n",
              "      <th></th>\n",
              "      <th>Model_Info</th>\n",
              "      <th>Locality</th>\n",
              "      <th>Additional_Description</th>\n",
              "    </tr>\n",
              "  </thead>\n",
              "  <tbody>\n",
              "    <tr>\n",
              "      <th>0</th>\n",
              "      <td>1358</td>\n",
              "      <td>878</td>\n",
              "      <td>1378</td>\n",
              "    </tr>\n",
              "    <tr>\n",
              "      <th>1</th>\n",
              "      <td>2611</td>\n",
              "      <td>1081</td>\n",
              "      <td>738</td>\n",
              "    </tr>\n",
              "    <tr>\n",
              "      <th>2</th>\n",
              "      <td>1443</td>\n",
              "      <td>495</td>\n",
              "      <td>339</td>\n",
              "    </tr>\n",
              "    <tr>\n",
              "      <th>3</th>\n",
              "      <td>945</td>\n",
              "      <td>287</td>\n",
              "      <td>2941</td>\n",
              "    </tr>\n",
              "    <tr>\n",
              "      <th>4</th>\n",
              "      <td>2626</td>\n",
              "      <td>342</td>\n",
              "      <td>1263</td>\n",
              "    </tr>\n",
              "  </tbody>\n",
              "</table>\n",
              "</div>"
            ],
            "text/plain": [
              "   Model_Info  Locality  Additional_Description\n",
              "0        1358       878                    1378\n",
              "1        2611      1081                     738\n",
              "2        1443       495                     339\n",
              "3         945       287                    2941\n",
              "4        2626       342                    1263"
            ]
          },
          "metadata": {
            "tags": []
          },
          "execution_count": 57
        }
      ]
    },
    {
      "cell_type": "code",
      "metadata": {
        "id": "FgfGvGHL18ui"
      },
      "source": [
        "X_test=X_test[to_keep]"
      ],
      "execution_count": null,
      "outputs": []
    },
    {
      "cell_type": "code",
      "metadata": {
        "id": "HiJYSqVC2Ncb"
      },
      "source": [
        "clfd=RandomForestRegressor(n_estimators=2000)"
      ],
      "execution_count": null,
      "outputs": []
    },
    {
      "cell_type": "code",
      "metadata": {
        "id": "VfmKR4EZ2Xdb",
        "colab": {
          "base_uri": "https://localhost:8080/",
          "height": 144
        },
        "outputId": "60ded617-a964-4678-f0d6-6900ad5607ec"
      },
      "source": [
        "clfd.fit(X_train,y_train)"
      ],
      "execution_count": null,
      "outputs": [
        {
          "output_type": "execute_result",
          "data": {
            "text/plain": [
              "RandomForestRegressor(bootstrap=True, ccp_alpha=0.0, criterion='mse',\n",
              "                      max_depth=None, max_features='auto', max_leaf_nodes=None,\n",
              "                      max_samples=None, min_impurity_decrease=0.0,\n",
              "                      min_impurity_split=None, min_samples_leaf=1,\n",
              "                      min_samples_split=2, min_weight_fraction_leaf=0.0,\n",
              "                      n_estimators=2000, n_jobs=None, oob_score=False,\n",
              "                      random_state=None, verbose=0, warm_start=False)"
            ]
          },
          "metadata": {
            "tags": []
          },
          "execution_count": 60
        }
      ]
    },
    {
      "cell_type": "code",
      "metadata": {
        "id": "wlLN_L452cmz"
      },
      "source": [
        "y_test = clfd.predict(X_test)"
      ],
      "execution_count": null,
      "outputs": []
    },
    {
      "cell_type": "code",
      "metadata": {
        "id": "MVtSmOMd2sqo",
        "colab": {
          "base_uri": "https://localhost:8080/",
          "height": 206
        },
        "outputId": "4f363cea-bd68-4eab-c41c-3d8ce341a370"
      },
      "source": [
        "answer=pd.DataFrame([y_test]).transpose()\n",
        "answer.head()"
      ],
      "execution_count": null,
      "outputs": [
        {
          "output_type": "execute_result",
          "data": {
            "text/html": [
              "<div>\n",
              "<style scoped>\n",
              "    .dataframe tbody tr th:only-of-type {\n",
              "        vertical-align: middle;\n",
              "    }\n",
              "\n",
              "    .dataframe tbody tr th {\n",
              "        vertical-align: top;\n",
              "    }\n",
              "\n",
              "    .dataframe thead th {\n",
              "        text-align: right;\n",
              "    }\n",
              "</style>\n",
              "<table border=\"1\" class=\"dataframe\">\n",
              "  <thead>\n",
              "    <tr style=\"text-align: right;\">\n",
              "      <th></th>\n",
              "      <th>0</th>\n",
              "    </tr>\n",
              "  </thead>\n",
              "  <tbody>\n",
              "    <tr>\n",
              "      <th>0</th>\n",
              "      <td>7840.9495</td>\n",
              "    </tr>\n",
              "    <tr>\n",
              "      <th>1</th>\n",
              "      <td>17595.1715</td>\n",
              "    </tr>\n",
              "    <tr>\n",
              "      <th>2</th>\n",
              "      <td>13694.2465</td>\n",
              "    </tr>\n",
              "    <tr>\n",
              "      <th>3</th>\n",
              "      <td>35502.7840</td>\n",
              "    </tr>\n",
              "    <tr>\n",
              "      <th>4</th>\n",
              "      <td>7641.6230</td>\n",
              "    </tr>\n",
              "  </tbody>\n",
              "</table>\n",
              "</div>"
            ],
            "text/plain": [
              "            0\n",
              "0   7840.9495\n",
              "1  17595.1715\n",
              "2  13694.2465\n",
              "3  35502.7840\n",
              "4   7641.6230"
            ]
          },
          "metadata": {
            "tags": []
          },
          "execution_count": 62
        }
      ]
    },
    {
      "cell_type": "code",
      "metadata": {
        "id": "PhXr4r2T26la"
      },
      "source": [
        "answer.to_csv('electronics.csv',index=False)\n",
        "!cp electronics.csv \"drive/My Drive/\""
      ],
      "execution_count": null,
      "outputs": []
    },
    {
      "cell_type": "code",
      "metadata": {
        "id": "59dRK7FX3GBk",
        "colab": {
          "base_uri": "https://localhost:8080/",
          "height": 389
        },
        "outputId": "ffd6f75a-d500-4fba-95c2-ff3c852458b2"
      },
      "source": [
        "\n",
        "\n",
        "fi.plot('cols', 'imp', figsize=(10,6), legend=False);\n",
        "\n"
      ],
      "execution_count": null,
      "outputs": [
        {
          "output_type": "display_data",
          "data": {
            "image/png": "[encoded data removed]",
            "text/plain": [
              "<Figure size 720x432 with 1 Axes>"
            ]
          },
          "metadata": {
            "tags": [],
            "needs_background": "light"
          }
        }
      ]
    },
    {
      "cell_type": "code",
      "metadata": {
        "id": "64jnDJb06c7s"
      },
      "source": [
        ""
      ],
      "execution_count": null,
      "outputs": []
    }
  ]
}