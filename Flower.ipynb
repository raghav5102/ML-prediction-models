{
  "nbformat": 4,
  "nbformat_minor": 0,
  "metadata": {
    "colab": {
      "name": "Flower.ipynb",
      "provenance": [],
      "mount_file_id": "1RKJJ8LzhBX_JxXGmVOt5Lz_s5VEvCa-t",
      "authorship_tag": "ABX9TyOGfmfRBl0d2DrCilUxUYav",
      "include_colab_link": true
    },
    "kernelspec": {
      "name": "python3",
      "display_name": "Python 3"
    }
  },
  "cells": [
    {
      "cell_type": "markdown",
      "metadata": {
        "id": "view-in-github",
        "colab_type": "text"
      },
      "source": [
        "<a href=\"https://colab.research.google.com/github/raghav5102/ML-prediction-models/blob/main/Flower.ipynb\" target=\"_parent\"><img src=\"https://colab.research.google.com/assets/colab-badge.svg\" alt=\"Open In Colab\"/></a>"
      ]
    },
    {
      "cell_type": "markdown",
      "metadata": {
        "id": "0NVLFdQEAHzR"
      },
      "source": [
        "FLOWER SPECIES PREDICTION USING GRADIENT BOOSTING CLASSIFIER"
      ]
    },
    {
      "cell_type": "code",
      "metadata": {
        "id": "zBq7BP5J5MOm"
      },
      "source": [
        "import numpy as np\n",
        "import pandas as pd\n"
      ],
      "execution_count": null,
      "outputs": []
    },
    {
      "cell_type": "code",
      "metadata": {
        "id": "q3dNQXsQ5hrK",
        "colab": {
          "base_uri": "https://localhost:8080/",
          "height": 206
        },
        "outputId": "2ca643e9-1dd0-4c31-ca97-0342a3d70513"
      },
      "source": [
        "df=pd.read_csv('Train.csv')\n",
        "df.head()"
      ],
      "execution_count": null,
      "outputs": [
        {
          "output_type": "execute_result",
          "data": {
            "text/html": [
              "<div>\n",
              "<style scoped>\n",
              "    .dataframe tbody tr th:only-of-type {\n",
              "        vertical-align: middle;\n",
              "    }\n",
              "\n",
              "    .dataframe tbody tr th {\n",
              "        vertical-align: top;\n",
              "    }\n",
              "\n",
              "    .dataframe thead th {\n",
              "        text-align: right;\n",
              "    }\n",
              "</style>\n",
              "<table border=\"1\" class=\"dataframe\">\n",
              "  <thead>\n",
              "    <tr style=\"text-align: right;\">\n",
              "      <th></th>\n",
              "      <th>Area_Code</th>\n",
              "      <th>Locality_Code</th>\n",
              "      <th>Region_Code</th>\n",
              "      <th>Height</th>\n",
              "      <th>Diameter</th>\n",
              "      <th>Class</th>\n",
              "      <th>Species</th>\n",
              "    </tr>\n",
              "  </thead>\n",
              "  <tbody>\n",
              "    <tr>\n",
              "      <th>0</th>\n",
              "      <td>4694</td>\n",
              "      <td>17</td>\n",
              "      <td>1609</td>\n",
              "      <td>3.0</td>\n",
              "      <td>5.0</td>\n",
              "      <td>7</td>\n",
              "      <td>48</td>\n",
              "    </tr>\n",
              "    <tr>\n",
              "      <th>1</th>\n",
              "      <td>781</td>\n",
              "      <td>7</td>\n",
              "      <td>1380</td>\n",
              "      <td>4.0</td>\n",
              "      <td>17.0</td>\n",
              "      <td>2</td>\n",
              "      <td>54</td>\n",
              "    </tr>\n",
              "    <tr>\n",
              "      <th>2</th>\n",
              "      <td>21014</td>\n",
              "      <td>6</td>\n",
              "      <td>1122</td>\n",
              "      <td>3.0</td>\n",
              "      <td>11.0</td>\n",
              "      <td>1</td>\n",
              "      <td>22</td>\n",
              "    </tr>\n",
              "    <tr>\n",
              "      <th>3</th>\n",
              "      <td>7326</td>\n",
              "      <td>6</td>\n",
              "      <td>556</td>\n",
              "      <td>3.0</td>\n",
              "      <td>34.0</td>\n",
              "      <td>7</td>\n",
              "      <td>25</td>\n",
              "    </tr>\n",
              "    <tr>\n",
              "      <th>4</th>\n",
              "      <td>13122</td>\n",
              "      <td>17</td>\n",
              "      <td>1752</td>\n",
              "      <td>5.0</td>\n",
              "      <td>16.0</td>\n",
              "      <td>2</td>\n",
              "      <td>128</td>\n",
              "    </tr>\n",
              "  </tbody>\n",
              "</table>\n",
              "</div>"
            ],
            "text/plain": [
              "   Area_Code  Locality_Code  Region_Code  Height  Diameter  Class  Species\n",
              "0       4694             17         1609     3.0       5.0      7       48\n",
              "1        781              7         1380     4.0      17.0      2       54\n",
              "2      21014              6         1122     3.0      11.0      1       22\n",
              "3       7326              6          556     3.0      34.0      7       25\n",
              "4      13122             17         1752     5.0      16.0      2      128"
            ]
          },
          "metadata": {
            "tags": []
          },
          "execution_count": 47
        }
      ]
    },
    {
      "cell_type": "code",
      "metadata": {
        "id": "I5OvJW2Q5nGw",
        "colab": {
          "base_uri": "https://localhost:8080/",
          "height": 206
        },
        "outputId": "83a15687-7560-4152-ef46-728c282649db"
      },
      "source": [
        "dft=pd.read_csv('Test.csv')\n",
        "dft.head()"
      ],
      "execution_count": null,
      "outputs": [
        {
          "output_type": "execute_result",
          "data": {
            "text/html": [
              "<div>\n",
              "<style scoped>\n",
              "    .dataframe tbody tr th:only-of-type {\n",
              "        vertical-align: middle;\n",
              "    }\n",
              "\n",
              "    .dataframe tbody tr th {\n",
              "        vertical-align: top;\n",
              "    }\n",
              "\n",
              "    .dataframe thead th {\n",
              "        text-align: right;\n",
              "    }\n",
              "</style>\n",
              "<table border=\"1\" class=\"dataframe\">\n",
              "  <thead>\n",
              "    <tr style=\"text-align: right;\">\n",
              "      <th></th>\n",
              "      <th>Area_Code</th>\n",
              "      <th>Locality_Code</th>\n",
              "      <th>Region_Code</th>\n",
              "      <th>Height</th>\n",
              "      <th>Diameter</th>\n",
              "      <th>Species</th>\n",
              "    </tr>\n",
              "  </thead>\n",
              "  <tbody>\n",
              "    <tr>\n",
              "      <th>0</th>\n",
              "      <td>25836</td>\n",
              "      <td>4</td>\n",
              "      <td>903</td>\n",
              "      <td>7.5</td>\n",
              "      <td>8.0</td>\n",
              "      <td>14</td>\n",
              "    </tr>\n",
              "    <tr>\n",
              "      <th>1</th>\n",
              "      <td>28544</td>\n",
              "      <td>14</td>\n",
              "      <td>1576</td>\n",
              "      <td>3.0</td>\n",
              "      <td>7.0</td>\n",
              "      <td>48</td>\n",
              "    </tr>\n",
              "    <tr>\n",
              "      <th>2</th>\n",
              "      <td>7037</td>\n",
              "      <td>11</td>\n",
              "      <td>350</td>\n",
              "      <td>15.0</td>\n",
              "      <td>57.0</td>\n",
              "      <td>56</td>\n",
              "    </tr>\n",
              "    <tr>\n",
              "      <th>3</th>\n",
              "      <td>20460</td>\n",
              "      <td>17</td>\n",
              "      <td>1208</td>\n",
              "      <td>3.0</td>\n",
              "      <td>6.0</td>\n",
              "      <td>180</td>\n",
              "    </tr>\n",
              "    <tr>\n",
              "      <th>4</th>\n",
              "      <td>17555</td>\n",
              "      <td>14</td>\n",
              "      <td>994</td>\n",
              "      <td>4.5</td>\n",
              "      <td>22.0</td>\n",
              "      <td>225</td>\n",
              "    </tr>\n",
              "  </tbody>\n",
              "</table>\n",
              "</div>"
            ],
            "text/plain": [
              "   Area_Code  Locality_Code  Region_Code  Height  Diameter  Species\n",
              "0      25836              4          903     7.5       8.0       14\n",
              "1      28544             14         1576     3.0       7.0       48\n",
              "2       7037             11          350    15.0      57.0       56\n",
              "3      20460             17         1208     3.0       6.0      180\n",
              "4      17555             14          994     4.5      22.0      225"
            ]
          },
          "metadata": {
            "tags": []
          },
          "execution_count": 48
        }
      ]
    },
    {
      "cell_type": "code",
      "metadata": {
        "id": "qUjFjwI05yvg",
        "colab": {
          "base_uri": "https://localhost:8080/",
          "height": 35
        },
        "outputId": "ade08c0f-4112-46aa-c8f7-0f6e406a574d"
      },
      "source": [
        "df.shape"
      ],
      "execution_count": null,
      "outputs": [
        {
          "output_type": "execute_result",
          "data": {
            "text/plain": [
              "(12666, 7)"
            ]
          },
          "metadata": {
            "tags": []
          },
          "execution_count": 49
        }
      ]
    },
    {
      "cell_type": "code",
      "metadata": {
        "id": "SUdLSBBf00UC",
        "colab": {
          "base_uri": "https://localhost:8080/",
          "height": 35
        },
        "outputId": "54799729-027b-4b9f-8d90-6af894003763"
      },
      "source": [
        "dft.shape"
      ],
      "execution_count": null,
      "outputs": [
        {
          "output_type": "execute_result",
          "data": {
            "text/plain": [
              "(29555, 6)"
            ]
          },
          "metadata": {
            "tags": []
          },
          "execution_count": 50
        }
      ]
    },
    {
      "cell_type": "code",
      "metadata": {
        "id": "aOw6GUJj03qB"
      },
      "source": [
        "y_train = df['Class']\n",
        "X_train = df.drop('Class',axis=1)"
      ],
      "execution_count": null,
      "outputs": []
    },
    {
      "cell_type": "code",
      "metadata": {
        "id": "pI4HwdJN1IKY"
      },
      "source": [
        "from sklearn.ensemble import GradientBoostingClassifier"
      ],
      "execution_count": null,
      "outputs": []
    },
    {
      "cell_type": "code",
      "metadata": {
        "id": "rr-LHlTU1Qo5"
      },
      "source": [
        "clf=RandomForestClassifier(n_estimators = 5000)"
      ],
      "execution_count": null,
      "outputs": []
    },
    {
      "cell_type": "code",
      "metadata": {
        "id": "sfa68Szc1VDX"
      },
      "source": [
        "X_test = dft"
      ],
      "execution_count": null,
      "outputs": []
    },
    {
      "cell_type": "code",
      "metadata": {
        "id": "KjAX17bU1XUk",
        "colab": {
          "base_uri": "https://localhost:8080/",
          "height": 162
        },
        "outputId": "898b7be1-b46b-4b57-a876-30c5f38124c7"
      },
      "source": [
        "clf.fit(X_train,y_train)"
      ],
      "execution_count": null,
      "outputs": [
        {
          "output_type": "execute_result",
          "data": {
            "text/plain": [
              "RandomForestClassifier(bootstrap=True, ccp_alpha=0.0, class_weight=None,\n",
              "                       criterion='gini', max_depth=None, max_features='auto',\n",
              "                       max_leaf_nodes=None, max_samples=None,\n",
              "                       min_impurity_decrease=0.0, min_impurity_split=None,\n",
              "                       min_samples_leaf=1, min_samples_split=2,\n",
              "                       min_weight_fraction_leaf=0.0, n_estimators=5000,\n",
              "                       n_jobs=None, oob_score=False, random_state=None,\n",
              "                       verbose=0, warm_start=False)"
            ]
          },
          "metadata": {
            "tags": []
          },
          "execution_count": 55
        }
      ]
    },
    {
      "cell_type": "code",
      "metadata": {
        "id": "r2Pp5pkk1gdJ"
      },
      "source": [
        "y_test = clf.predict_proba(X_test)"
      ],
      "execution_count": null,
      "outputs": []
    },
    {
      "cell_type": "code",
      "metadata": {
        "id": "STtMy7x42Wmz"
      },
      "source": [
        "res = pd.DataFrame(y_test)"
      ],
      "execution_count": null,
      "outputs": []
    },
    {
      "cell_type": "code",
      "metadata": {
        "id": "rxz8L_e42b90",
        "colab": {
          "base_uri": "https://localhost:8080/",
          "height": 424
        },
        "outputId": "971c71fc-2829-4d5b-de7a-733ba1e05f13"
      },
      "source": [
        "res"
      ],
      "execution_count": null,
      "outputs": [
        {
          "output_type": "execute_result",
          "data": {
            "text/html": [
              "<div>\n",
              "<style scoped>\n",
              "    .dataframe tbody tr th:only-of-type {\n",
              "        vertical-align: middle;\n",
              "    }\n",
              "\n",
              "    .dataframe tbody tr th {\n",
              "        vertical-align: top;\n",
              "    }\n",
              "\n",
              "    .dataframe thead th {\n",
              "        text-align: right;\n",
              "    }\n",
              "</style>\n",
              "<table border=\"1\" class=\"dataframe\">\n",
              "  <thead>\n",
              "    <tr style=\"text-align: right;\">\n",
              "      <th></th>\n",
              "      <th>0</th>\n",
              "      <th>1</th>\n",
              "      <th>2</th>\n",
              "      <th>3</th>\n",
              "      <th>4</th>\n",
              "      <th>5</th>\n",
              "      <th>6</th>\n",
              "      <th>7</th>\n",
              "    </tr>\n",
              "  </thead>\n",
              "  <tbody>\n",
              "    <tr>\n",
              "      <th>0</th>\n",
              "      <td>0.001000</td>\n",
              "      <td>0.0012</td>\n",
              "      <td>0.138493</td>\n",
              "      <td>0.004200</td>\n",
              "      <td>0.0000</td>\n",
              "      <td>0.0000</td>\n",
              "      <td>0.855107</td>\n",
              "      <td>0.000000</td>\n",
              "    </tr>\n",
              "    <tr>\n",
              "      <th>1</th>\n",
              "      <td>0.001540</td>\n",
              "      <td>0.0156</td>\n",
              "      <td>0.001400</td>\n",
              "      <td>0.000200</td>\n",
              "      <td>0.0000</td>\n",
              "      <td>0.0000</td>\n",
              "      <td>0.003400</td>\n",
              "      <td>0.977860</td>\n",
              "    </tr>\n",
              "    <tr>\n",
              "      <th>2</th>\n",
              "      <td>0.008400</td>\n",
              "      <td>0.0000</td>\n",
              "      <td>0.006200</td>\n",
              "      <td>0.832600</td>\n",
              "      <td>0.0000</td>\n",
              "      <td>0.0106</td>\n",
              "      <td>0.142200</td>\n",
              "      <td>0.000000</td>\n",
              "    </tr>\n",
              "    <tr>\n",
              "      <th>3</th>\n",
              "      <td>0.007200</td>\n",
              "      <td>0.0552</td>\n",
              "      <td>0.005600</td>\n",
              "      <td>0.000000</td>\n",
              "      <td>0.0008</td>\n",
              "      <td>0.0012</td>\n",
              "      <td>0.001000</td>\n",
              "      <td>0.929000</td>\n",
              "    </tr>\n",
              "    <tr>\n",
              "      <th>4</th>\n",
              "      <td>0.000000</td>\n",
              "      <td>0.0112</td>\n",
              "      <td>0.355800</td>\n",
              "      <td>0.013800</td>\n",
              "      <td>0.0000</td>\n",
              "      <td>0.0000</td>\n",
              "      <td>0.619200</td>\n",
              "      <td>0.000000</td>\n",
              "    </tr>\n",
              "    <tr>\n",
              "      <th>...</th>\n",
              "      <td>...</td>\n",
              "      <td>...</td>\n",
              "      <td>...</td>\n",
              "      <td>...</td>\n",
              "      <td>...</td>\n",
              "      <td>...</td>\n",
              "      <td>...</td>\n",
              "      <td>...</td>\n",
              "    </tr>\n",
              "    <tr>\n",
              "      <th>29550</th>\n",
              "      <td>0.000200</td>\n",
              "      <td>0.3060</td>\n",
              "      <td>0.466467</td>\n",
              "      <td>0.036400</td>\n",
              "      <td>0.0000</td>\n",
              "      <td>0.0000</td>\n",
              "      <td>0.138133</td>\n",
              "      <td>0.052800</td>\n",
              "    </tr>\n",
              "    <tr>\n",
              "      <th>29551</th>\n",
              "      <td>0.003333</td>\n",
              "      <td>0.8176</td>\n",
              "      <td>0.015200</td>\n",
              "      <td>0.000600</td>\n",
              "      <td>0.0000</td>\n",
              "      <td>0.0000</td>\n",
              "      <td>0.002000</td>\n",
              "      <td>0.161267</td>\n",
              "    </tr>\n",
              "    <tr>\n",
              "      <th>29552</th>\n",
              "      <td>0.000200</td>\n",
              "      <td>0.0140</td>\n",
              "      <td>0.127076</td>\n",
              "      <td>0.386724</td>\n",
              "      <td>0.0000</td>\n",
              "      <td>0.0022</td>\n",
              "      <td>0.468800</td>\n",
              "      <td>0.001000</td>\n",
              "    </tr>\n",
              "    <tr>\n",
              "      <th>29553</th>\n",
              "      <td>0.004200</td>\n",
              "      <td>0.0014</td>\n",
              "      <td>0.051600</td>\n",
              "      <td>0.639200</td>\n",
              "      <td>0.0000</td>\n",
              "      <td>0.0024</td>\n",
              "      <td>0.301200</td>\n",
              "      <td>0.000000</td>\n",
              "    </tr>\n",
              "    <tr>\n",
              "      <th>29554</th>\n",
              "      <td>0.004200</td>\n",
              "      <td>0.0000</td>\n",
              "      <td>0.020400</td>\n",
              "      <td>0.893600</td>\n",
              "      <td>0.0000</td>\n",
              "      <td>0.0018</td>\n",
              "      <td>0.080000</td>\n",
              "      <td>0.000000</td>\n",
              "    </tr>\n",
              "  </tbody>\n",
              "</table>\n",
              "<p>29555 rows × 8 columns</p>\n",
              "</div>"
            ],
            "text/plain": [
              "              0       1         2         3       4       5         6         7\n",
              "0      0.001000  0.0012  0.138493  0.004200  0.0000  0.0000  0.855107  0.000000\n",
              "1      0.001540  0.0156  0.001400  0.000200  0.0000  0.0000  0.003400  0.977860\n",
              "2      0.008400  0.0000  0.006200  0.832600  0.0000  0.0106  0.142200  0.000000\n",
              "3      0.007200  0.0552  0.005600  0.000000  0.0008  0.0012  0.001000  0.929000\n",
              "4      0.000000  0.0112  0.355800  0.013800  0.0000  0.0000  0.619200  0.000000\n",
              "...         ...     ...       ...       ...     ...     ...       ...       ...\n",
              "29550  0.000200  0.3060  0.466467  0.036400  0.0000  0.0000  0.138133  0.052800\n",
              "29551  0.003333  0.8176  0.015200  0.000600  0.0000  0.0000  0.002000  0.161267\n",
              "29552  0.000200  0.0140  0.127076  0.386724  0.0000  0.0022  0.468800  0.001000\n",
              "29553  0.004200  0.0014  0.051600  0.639200  0.0000  0.0024  0.301200  0.000000\n",
              "29554  0.004200  0.0000  0.020400  0.893600  0.0000  0.0018  0.080000  0.000000\n",
              "\n",
              "[29555 rows x 8 columns]"
            ]
          },
          "metadata": {
            "tags": []
          },
          "execution_count": 58
        }
      ]
    },
    {
      "cell_type": "code",
      "metadata": {
        "id": "plH_-nSS2ef6"
      },
      "source": [
        "res.to_csv('Flower.csv',index=False)\n",
        "!cp Flower.csv \"drive/My Drive/\""
      ],
      "execution_count": null,
      "outputs": []
    },
    {
      "cell_type": "code",
      "metadata": {
        "id": "q0xeVJxG29VG",
        "colab": {
          "base_uri": "https://localhost:8080/",
          "height": 237
        },
        "outputId": "79447730-45b7-4416-f1cf-cd5372d9bc7f"
      },
      "source": [
        "def rf_feat_importance(m, df):\n",
        "    return pd.DataFrame({'cols':df.columns, 'imp':m.feature_importances_}\n",
        "                       ).sort_values('imp', ascending=False)\n",
        "fi = rf_feat_importance(clf, X_train); \n",
        "fi"
      ],
      "execution_count": null,
      "outputs": [
        {
          "output_type": "execute_result",
          "data": {
            "text/html": [
              "<div>\n",
              "<style scoped>\n",
              "    .dataframe tbody tr th:only-of-type {\n",
              "        vertical-align: middle;\n",
              "    }\n",
              "\n",
              "    .dataframe tbody tr th {\n",
              "        vertical-align: top;\n",
              "    }\n",
              "\n",
              "    .dataframe thead th {\n",
              "        text-align: right;\n",
              "    }\n",
              "</style>\n",
              "<table border=\"1\" class=\"dataframe\">\n",
              "  <thead>\n",
              "    <tr style=\"text-align: right;\">\n",
              "      <th></th>\n",
              "      <th>cols</th>\n",
              "      <th>imp</th>\n",
              "    </tr>\n",
              "  </thead>\n",
              "  <tbody>\n",
              "    <tr>\n",
              "      <th>4</th>\n",
              "      <td>Diameter</td>\n",
              "      <td>0.314303</td>\n",
              "    </tr>\n",
              "    <tr>\n",
              "      <th>5</th>\n",
              "      <td>Species</td>\n",
              "      <td>0.161619</td>\n",
              "    </tr>\n",
              "    <tr>\n",
              "      <th>0</th>\n",
              "      <td>Area_Code</td>\n",
              "      <td>0.151330</td>\n",
              "    </tr>\n",
              "    <tr>\n",
              "      <th>2</th>\n",
              "      <td>Region_Code</td>\n",
              "      <td>0.140508</td>\n",
              "    </tr>\n",
              "    <tr>\n",
              "      <th>3</th>\n",
              "      <td>Height</td>\n",
              "      <td>0.124681</td>\n",
              "    </tr>\n",
              "    <tr>\n",
              "      <th>1</th>\n",
              "      <td>Locality_Code</td>\n",
              "      <td>0.107561</td>\n",
              "    </tr>\n",
              "  </tbody>\n",
              "</table>\n",
              "</div>"
            ],
            "text/plain": [
              "            cols       imp\n",
              "4       Diameter  0.314303\n",
              "5        Species  0.161619\n",
              "0      Area_Code  0.151330\n",
              "2    Region_Code  0.140508\n",
              "3         Height  0.124681\n",
              "1  Locality_Code  0.107561"
            ]
          },
          "metadata": {
            "tags": []
          },
          "execution_count": 60
        }
      ]
    },
    {
      "cell_type": "code",
      "metadata": {
        "id": "A03Uo0V56az9"
      },
      "source": [
        "to_d=['Locality_Code']\n",
        "X_train=X_train.drop(to_d,axis=1)\n",
        "X_test = X_test.drop(to_d,axis=1)"
      ],
      "execution_count": null,
      "outputs": []
    },
    {
      "cell_type": "code",
      "metadata": {
        "id": "6eI4QDsm6vBZ",
        "colab": {
          "base_uri": "https://localhost:8080/",
          "height": 162
        },
        "outputId": "a699a3a9-ea35-4729-cf08-f99f7d5187c0"
      },
      "source": [
        "clf.fit(X_train,y_train)"
      ],
      "execution_count": null,
      "outputs": [
        {
          "output_type": "execute_result",
          "data": {
            "text/plain": [
              "RandomForestClassifier(bootstrap=True, ccp_alpha=0.0, class_weight=None,\n",
              "                       criterion='gini', max_depth=None, max_features='auto',\n",
              "                       max_leaf_nodes=None, max_samples=None,\n",
              "                       min_impurity_decrease=0.0, min_impurity_split=None,\n",
              "                       min_samples_leaf=1, min_samples_split=2,\n",
              "                       min_weight_fraction_leaf=0.0, n_estimators=5000,\n",
              "                       n_jobs=None, oob_score=False, random_state=None,\n",
              "                       verbose=0, warm_start=False)"
            ]
          },
          "metadata": {
            "tags": []
          },
          "execution_count": 11
        }
      ]
    },
    {
      "cell_type": "code",
      "metadata": {
        "id": "ED-KgUun7DAr"
      },
      "source": [
        "y_test = clf.predict_proba(X_test)"
      ],
      "execution_count": null,
      "outputs": []
    },
    {
      "cell_type": "code",
      "metadata": {
        "id": "2_NadHCc7Jrg"
      },
      "source": [
        "res=pd.DataFrame(y_test)"
      ],
      "execution_count": null,
      "outputs": []
    },
    {
      "cell_type": "code",
      "metadata": {
        "id": "23TlVuUr7SMc",
        "colab": {
          "base_uri": "https://localhost:8080/",
          "height": 424
        },
        "outputId": "b9dcb0b1-5405-4b09-d4ed-5461f832f448"
      },
      "source": [
        "res"
      ],
      "execution_count": null,
      "outputs": [
        {
          "output_type": "execute_result",
          "data": {
            "text/html": [
              "<div>\n",
              "<style scoped>\n",
              "    .dataframe tbody tr th:only-of-type {\n",
              "        vertical-align: middle;\n",
              "    }\n",
              "\n",
              "    .dataframe tbody tr th {\n",
              "        vertical-align: top;\n",
              "    }\n",
              "\n",
              "    .dataframe thead th {\n",
              "        text-align: right;\n",
              "    }\n",
              "</style>\n",
              "<table border=\"1\" class=\"dataframe\">\n",
              "  <thead>\n",
              "    <tr style=\"text-align: right;\">\n",
              "      <th></th>\n",
              "      <th>0</th>\n",
              "      <th>1</th>\n",
              "      <th>2</th>\n",
              "      <th>3</th>\n",
              "      <th>4</th>\n",
              "      <th>5</th>\n",
              "      <th>6</th>\n",
              "      <th>7</th>\n",
              "    </tr>\n",
              "  </thead>\n",
              "  <tbody>\n",
              "    <tr>\n",
              "      <th>0</th>\n",
              "      <td>0.001800</td>\n",
              "      <td>0.0022</td>\n",
              "      <td>0.135365</td>\n",
              "      <td>0.00560</td>\n",
              "      <td>0.0000</td>\n",
              "      <td>0.0000</td>\n",
              "      <td>0.854435</td>\n",
              "      <td>0.000600</td>\n",
              "    </tr>\n",
              "    <tr>\n",
              "      <th>1</th>\n",
              "      <td>0.001400</td>\n",
              "      <td>0.0324</td>\n",
              "      <td>0.002800</td>\n",
              "      <td>0.00020</td>\n",
              "      <td>0.0002</td>\n",
              "      <td>0.0000</td>\n",
              "      <td>0.001600</td>\n",
              "      <td>0.961400</td>\n",
              "    </tr>\n",
              "    <tr>\n",
              "      <th>2</th>\n",
              "      <td>0.007400</td>\n",
              "      <td>0.0000</td>\n",
              "      <td>0.003400</td>\n",
              "      <td>0.81900</td>\n",
              "      <td>0.0000</td>\n",
              "      <td>0.0086</td>\n",
              "      <td>0.161600</td>\n",
              "      <td>0.000000</td>\n",
              "    </tr>\n",
              "    <tr>\n",
              "      <th>3</th>\n",
              "      <td>0.019800</td>\n",
              "      <td>0.0814</td>\n",
              "      <td>0.034600</td>\n",
              "      <td>0.00000</td>\n",
              "      <td>0.0008</td>\n",
              "      <td>0.0012</td>\n",
              "      <td>0.000200</td>\n",
              "      <td>0.862000</td>\n",
              "    </tr>\n",
              "    <tr>\n",
              "      <th>4</th>\n",
              "      <td>0.000200</td>\n",
              "      <td>0.0064</td>\n",
              "      <td>0.387800</td>\n",
              "      <td>0.01580</td>\n",
              "      <td>0.0000</td>\n",
              "      <td>0.0000</td>\n",
              "      <td>0.589800</td>\n",
              "      <td>0.000000</td>\n",
              "    </tr>\n",
              "    <tr>\n",
              "      <th>...</th>\n",
              "      <td>...</td>\n",
              "      <td>...</td>\n",
              "      <td>...</td>\n",
              "      <td>...</td>\n",
              "      <td>...</td>\n",
              "      <td>...</td>\n",
              "      <td>...</td>\n",
              "      <td>...</td>\n",
              "    </tr>\n",
              "    <tr>\n",
              "      <th>29550</th>\n",
              "      <td>0.001400</td>\n",
              "      <td>0.4770</td>\n",
              "      <td>0.349600</td>\n",
              "      <td>0.00260</td>\n",
              "      <td>0.0000</td>\n",
              "      <td>0.0000</td>\n",
              "      <td>0.116200</td>\n",
              "      <td>0.053200</td>\n",
              "    </tr>\n",
              "    <tr>\n",
              "      <th>29551</th>\n",
              "      <td>0.004533</td>\n",
              "      <td>0.8298</td>\n",
              "      <td>0.014950</td>\n",
              "      <td>0.00020</td>\n",
              "      <td>0.0002</td>\n",
              "      <td>0.0000</td>\n",
              "      <td>0.005400</td>\n",
              "      <td>0.144917</td>\n",
              "    </tr>\n",
              "    <tr>\n",
              "      <th>29552</th>\n",
              "      <td>0.000000</td>\n",
              "      <td>0.0006</td>\n",
              "      <td>0.074460</td>\n",
              "      <td>0.46294</td>\n",
              "      <td>0.0000</td>\n",
              "      <td>0.0000</td>\n",
              "      <td>0.460800</td>\n",
              "      <td>0.001200</td>\n",
              "    </tr>\n",
              "    <tr>\n",
              "      <th>29553</th>\n",
              "      <td>0.010800</td>\n",
              "      <td>0.0030</td>\n",
              "      <td>0.118400</td>\n",
              "      <td>0.32020</td>\n",
              "      <td>0.0000</td>\n",
              "      <td>0.0006</td>\n",
              "      <td>0.547000</td>\n",
              "      <td>0.000000</td>\n",
              "    </tr>\n",
              "    <tr>\n",
              "      <th>29554</th>\n",
              "      <td>0.002400</td>\n",
              "      <td>0.0000</td>\n",
              "      <td>0.021400</td>\n",
              "      <td>0.79075</td>\n",
              "      <td>0.0000</td>\n",
              "      <td>0.0016</td>\n",
              "      <td>0.183850</td>\n",
              "      <td>0.000000</td>\n",
              "    </tr>\n",
              "  </tbody>\n",
              "</table>\n",
              "<p>29555 rows × 8 columns</p>\n",
              "</div>"
            ],
            "text/plain": [
              "              0       1         2        3       4       5         6         7\n",
              "0      0.001800  0.0022  0.135365  0.00560  0.0000  0.0000  0.854435  0.000600\n",
              "1      0.001400  0.0324  0.002800  0.00020  0.0002  0.0000  0.001600  0.961400\n",
              "2      0.007400  0.0000  0.003400  0.81900  0.0000  0.0086  0.161600  0.000000\n",
              "3      0.019800  0.0814  0.034600  0.00000  0.0008  0.0012  0.000200  0.862000\n",
              "4      0.000200  0.0064  0.387800  0.01580  0.0000  0.0000  0.589800  0.000000\n",
              "...         ...     ...       ...      ...     ...     ...       ...       ...\n",
              "29550  0.001400  0.4770  0.349600  0.00260  0.0000  0.0000  0.116200  0.053200\n",
              "29551  0.004533  0.8298  0.014950  0.00020  0.0002  0.0000  0.005400  0.144917\n",
              "29552  0.000000  0.0006  0.074460  0.46294  0.0000  0.0000  0.460800  0.001200\n",
              "29553  0.010800  0.0030  0.118400  0.32020  0.0000  0.0006  0.547000  0.000000\n",
              "29554  0.002400  0.0000  0.021400  0.79075  0.0000  0.0016  0.183850  0.000000\n",
              "\n",
              "[29555 rows x 8 columns]"
            ]
          },
          "metadata": {
            "tags": []
          },
          "execution_count": 14
        }
      ]
    },
    {
      "cell_type": "code",
      "metadata": {
        "id": "3jBGmHYS7S_4"
      },
      "source": [
        "res.to_csv('Flower.csv',index=False)\n",
        "!cp Flower.csv \"drive/My Drive/\""
      ],
      "execution_count": null,
      "outputs": []
    },
    {
      "cell_type": "code",
      "metadata": {
        "id": "ZeAZ4OrO7V5T"
      },
      "source": [
        ""
      ],
      "execution_count": null,
      "outputs": []
    }
  ]
}