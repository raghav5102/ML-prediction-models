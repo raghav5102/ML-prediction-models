{
  "nbformat": 4,
  "nbformat_minor": 0,
  "metadata": {
    "colab": {
      "name": "Ecomerce.ipynb",
      "provenance": [],
      "mount_file_id": "18vtCtwnBSQKLs8RgmFB1N1uuZ0PrFoV9",
      "authorship_tag": "ABX9TyNEX//ZhrAzEvzGHOJ6frM5",
      "include_colab_link": true
    },
    "kernelspec": {
      "name": "python3",
      "display_name": "Python 3"
    }
  },
  "cells": [
    {
      "cell_type": "markdown",
      "metadata": {
        "id": "view-in-github",
        "colab_type": "text"
      },
      "source": [
        "<a href=\"https://colab.research.google.com/github/raghav5102/ML-prediction-models/blob/main/Ecomerce.ipynb\" target=\"_parent\"><img src=\"https://colab.research.google.com/assets/colab-badge.svg\" alt=\"Open In Colab\"/></a>"
      ]
    },
    {
      "cell_type": "markdown",
      "metadata": {
        "id": "wbw5pVT39uEo"
      },
      "source": [
        "SELLING PRICE OF PRODUCTS USING RANDOM FOREST REGRESSOR,FEATURE IMPORTANCE,LABEL ENCODING"
      ]
    },
    {
      "cell_type": "code",
      "metadata": {
        "id": "rubaWN-rHIaz"
      },
      "source": [
        "import numpy as np \n",
        "import pandas as pd"
      ],
      "execution_count": null,
      "outputs": []
    },
    {
      "cell_type": "code",
      "metadata": {
        "id": "CXHXMHAMHs7D",
        "colab": {
          "base_uri": "https://localhost:8080/",
          "height": 206
        },
        "outputId": "0b3b482e-b3ee-4fe2-b77c-65c303e61dc2"
      },
      "source": [
        "df=pd.read_csv('Train.csv')\n",
        "df.head()"
      ],
      "execution_count": null,
      "outputs": [
        {
          "output_type": "execute_result",
          "data": {
            "text/html": [
              "<div>\n",
              "<style scoped>\n",
              "    .dataframe tbody tr th:only-of-type {\n",
              "        vertical-align: middle;\n",
              "    }\n",
              "\n",
              "    .dataframe tbody tr th {\n",
              "        vertical-align: top;\n",
              "    }\n",
              "\n",
              "    .dataframe thead th {\n",
              "        text-align: right;\n",
              "    }\n",
              "</style>\n",
              "<table border=\"1\" class=\"dataframe\">\n",
              "  <thead>\n",
              "    <tr style=\"text-align: right;\">\n",
              "      <th></th>\n",
              "      <th>Product</th>\n",
              "      <th>Product_Brand</th>\n",
              "      <th>Item_Category</th>\n",
              "      <th>Subcategory_1</th>\n",
              "      <th>Subcategory_2</th>\n",
              "      <th>Item_Rating</th>\n",
              "      <th>Date</th>\n",
              "      <th>Selling_Price</th>\n",
              "    </tr>\n",
              "  </thead>\n",
              "  <tbody>\n",
              "    <tr>\n",
              "      <th>0</th>\n",
              "      <td>P-2610</td>\n",
              "      <td>B-659</td>\n",
              "      <td>bags wallets belts</td>\n",
              "      <td>bags</td>\n",
              "      <td>hand bags</td>\n",
              "      <td>4.3</td>\n",
              "      <td>2/3/2017</td>\n",
              "      <td>291.0</td>\n",
              "    </tr>\n",
              "    <tr>\n",
              "      <th>1</th>\n",
              "      <td>P-2453</td>\n",
              "      <td>B-3078</td>\n",
              "      <td>clothing</td>\n",
              "      <td>women s clothing</td>\n",
              "      <td>western wear</td>\n",
              "      <td>3.1</td>\n",
              "      <td>7/1/2015</td>\n",
              "      <td>897.0</td>\n",
              "    </tr>\n",
              "    <tr>\n",
              "      <th>2</th>\n",
              "      <td>P-6802</td>\n",
              "      <td>B-1810</td>\n",
              "      <td>home decor festive needs</td>\n",
              "      <td>showpieces</td>\n",
              "      <td>ethnic</td>\n",
              "      <td>3.5</td>\n",
              "      <td>1/12/2019</td>\n",
              "      <td>792.0</td>\n",
              "    </tr>\n",
              "    <tr>\n",
              "      <th>3</th>\n",
              "      <td>P-4452</td>\n",
              "      <td>B-3078</td>\n",
              "      <td>beauty and personal care</td>\n",
              "      <td>eye care</td>\n",
              "      <td>h2o plus eye care</td>\n",
              "      <td>4.0</td>\n",
              "      <td>12/12/2014</td>\n",
              "      <td>837.0</td>\n",
              "    </tr>\n",
              "    <tr>\n",
              "      <th>4</th>\n",
              "      <td>P-8454</td>\n",
              "      <td>B-3078</td>\n",
              "      <td>clothing</td>\n",
              "      <td>men s clothing</td>\n",
              "      <td>t shirts</td>\n",
              "      <td>4.3</td>\n",
              "      <td>12/12/2013</td>\n",
              "      <td>470.0</td>\n",
              "    </tr>\n",
              "  </tbody>\n",
              "</table>\n",
              "</div>"
            ],
            "text/plain": [
              "  Product Product_Brand  ...        Date Selling_Price\n",
              "0  P-2610         B-659  ...    2/3/2017         291.0\n",
              "1  P-2453        B-3078  ...    7/1/2015         897.0\n",
              "2  P-6802        B-1810  ...   1/12/2019         792.0\n",
              "3  P-4452        B-3078  ...  12/12/2014         837.0\n",
              "4  P-8454        B-3078  ...  12/12/2013         470.0\n",
              "\n",
              "[5 rows x 8 columns]"
            ]
          },
          "metadata": {
            "tags": []
          },
          "execution_count": 32
        }
      ]
    },
    {
      "cell_type": "code",
      "metadata": {
        "id": "zzJHaC4-H39P",
        "colab": {
          "base_uri": "https://localhost:8080/",
          "height": 206
        },
        "outputId": "f862c585-84ad-40ec-c6a2-037d4fef88bf"
      },
      "source": [
        "dft=pd.read_csv('Test.csv')\n",
        "dft.head()"
      ],
      "execution_count": null,
      "outputs": [
        {
          "output_type": "execute_result",
          "data": {
            "text/html": [
              "<div>\n",
              "<style scoped>\n",
              "    .dataframe tbody tr th:only-of-type {\n",
              "        vertical-align: middle;\n",
              "    }\n",
              "\n",
              "    .dataframe tbody tr th {\n",
              "        vertical-align: top;\n",
              "    }\n",
              "\n",
              "    .dataframe thead th {\n",
              "        text-align: right;\n",
              "    }\n",
              "</style>\n",
              "<table border=\"1\" class=\"dataframe\">\n",
              "  <thead>\n",
              "    <tr style=\"text-align: right;\">\n",
              "      <th></th>\n",
              "      <th>Product</th>\n",
              "      <th>Product_Brand</th>\n",
              "      <th>Item_Category</th>\n",
              "      <th>Subcategory_1</th>\n",
              "      <th>Subcategory_2</th>\n",
              "      <th>Item_Rating</th>\n",
              "      <th>Date</th>\n",
              "    </tr>\n",
              "  </thead>\n",
              "  <tbody>\n",
              "    <tr>\n",
              "      <th>0</th>\n",
              "      <td>P-11284</td>\n",
              "      <td>B-2984</td>\n",
              "      <td>computers</td>\n",
              "      <td>network components</td>\n",
              "      <td>routers</td>\n",
              "      <td>4.3</td>\n",
              "      <td>1/12/2018</td>\n",
              "    </tr>\n",
              "    <tr>\n",
              "      <th>1</th>\n",
              "      <td>P-6580</td>\n",
              "      <td>B-1732</td>\n",
              "      <td>jewellery</td>\n",
              "      <td>bangles bracelets armlets</td>\n",
              "      <td>bracelets</td>\n",
              "      <td>3.0</td>\n",
              "      <td>20/12/2012</td>\n",
              "    </tr>\n",
              "    <tr>\n",
              "      <th>2</th>\n",
              "      <td>P-5843</td>\n",
              "      <td>B-3078</td>\n",
              "      <td>clothing</td>\n",
              "      <td>women s clothing</td>\n",
              "      <td>western wear</td>\n",
              "      <td>1.5</td>\n",
              "      <td>1/12/2014</td>\n",
              "    </tr>\n",
              "    <tr>\n",
              "      <th>3</th>\n",
              "      <td>P-5334</td>\n",
              "      <td>B-1421</td>\n",
              "      <td>jewellery</td>\n",
              "      <td>necklaces chains</td>\n",
              "      <td>necklaces</td>\n",
              "      <td>3.9</td>\n",
              "      <td>1/12/2019</td>\n",
              "    </tr>\n",
              "    <tr>\n",
              "      <th>4</th>\n",
              "      <td>P-5586</td>\n",
              "      <td>B-3078</td>\n",
              "      <td>clothing</td>\n",
              "      <td>women s clothing</td>\n",
              "      <td>western wear</td>\n",
              "      <td>1.4</td>\n",
              "      <td>1/12/2017</td>\n",
              "    </tr>\n",
              "  </tbody>\n",
              "</table>\n",
              "</div>"
            ],
            "text/plain": [
              "   Product Product_Brand Item_Category  ... Subcategory_2 Item_Rating        Date\n",
              "0  P-11284        B-2984     computers  ...       routers         4.3   1/12/2018\n",
              "1   P-6580        B-1732     jewellery  ...     bracelets         3.0  20/12/2012\n",
              "2   P-5843        B-3078      clothing  ...  western wear         1.5   1/12/2014\n",
              "3   P-5334        B-1421     jewellery  ...     necklaces         3.9   1/12/2019\n",
              "4   P-5586        B-3078      clothing  ...  western wear         1.4   1/12/2017\n",
              "\n",
              "[5 rows x 7 columns]"
            ]
          },
          "metadata": {
            "tags": []
          },
          "execution_count": 33
        }
      ]
    },
    {
      "cell_type": "code",
      "metadata": {
        "id": "Svt2Ho4sIaxF",
        "colab": {
          "base_uri": "https://localhost:8080/",
          "height": 181
        },
        "outputId": "637f3386-c818-4dbf-a068-345cd7f8b6c6"
      },
      "source": [
        "df.dtypes"
      ],
      "execution_count": null,
      "outputs": [
        {
          "output_type": "execute_result",
          "data": {
            "text/plain": [
              "Product           object\n",
              "Product_Brand     object\n",
              "Item_Category     object\n",
              "Subcategory_1     object\n",
              "Subcategory_2     object\n",
              "Item_Rating      float64\n",
              "Date              object\n",
              "Selling_Price    float64\n",
              "dtype: object"
            ]
          },
          "metadata": {
            "tags": []
          },
          "execution_count": 34
        }
      ]
    },
    {
      "cell_type": "code",
      "metadata": {
        "id": "bpec3d8sIc5I"
      },
      "source": [
        "df['Date']=df['Date'].str.replace(\"/\",\"\").astype(int)"
      ],
      "execution_count": null,
      "outputs": []
    },
    {
      "cell_type": "code",
      "metadata": {
        "id": "uLHg5w5aKoot",
        "colab": {
          "base_uri": "https://localhost:8080/",
          "height": 206
        },
        "outputId": "284993e0-75cd-423d-be89-d6f38d7d3c6f"
      },
      "source": [
        "df.head()"
      ],
      "execution_count": null,
      "outputs": [
        {
          "output_type": "execute_result",
          "data": {
            "text/html": [
              "<div>\n",
              "<style scoped>\n",
              "    .dataframe tbody tr th:only-of-type {\n",
              "        vertical-align: middle;\n",
              "    }\n",
              "\n",
              "    .dataframe tbody tr th {\n",
              "        vertical-align: top;\n",
              "    }\n",
              "\n",
              "    .dataframe thead th {\n",
              "        text-align: right;\n",
              "    }\n",
              "</style>\n",
              "<table border=\"1\" class=\"dataframe\">\n",
              "  <thead>\n",
              "    <tr style=\"text-align: right;\">\n",
              "      <th></th>\n",
              "      <th>Product</th>\n",
              "      <th>Product_Brand</th>\n",
              "      <th>Item_Category</th>\n",
              "      <th>Subcategory_1</th>\n",
              "      <th>Subcategory_2</th>\n",
              "      <th>Item_Rating</th>\n",
              "      <th>Date</th>\n",
              "      <th>Selling_Price</th>\n",
              "    </tr>\n",
              "  </thead>\n",
              "  <tbody>\n",
              "    <tr>\n",
              "      <th>0</th>\n",
              "      <td>P-2610</td>\n",
              "      <td>B-659</td>\n",
              "      <td>bags wallets belts</td>\n",
              "      <td>bags</td>\n",
              "      <td>hand bags</td>\n",
              "      <td>4.3</td>\n",
              "      <td>232017</td>\n",
              "      <td>291.0</td>\n",
              "    </tr>\n",
              "    <tr>\n",
              "      <th>1</th>\n",
              "      <td>P-2453</td>\n",
              "      <td>B-3078</td>\n",
              "      <td>clothing</td>\n",
              "      <td>women s clothing</td>\n",
              "      <td>western wear</td>\n",
              "      <td>3.1</td>\n",
              "      <td>712015</td>\n",
              "      <td>897.0</td>\n",
              "    </tr>\n",
              "    <tr>\n",
              "      <th>2</th>\n",
              "      <td>P-6802</td>\n",
              "      <td>B-1810</td>\n",
              "      <td>home decor festive needs</td>\n",
              "      <td>showpieces</td>\n",
              "      <td>ethnic</td>\n",
              "      <td>3.5</td>\n",
              "      <td>1122019</td>\n",
              "      <td>792.0</td>\n",
              "    </tr>\n",
              "    <tr>\n",
              "      <th>3</th>\n",
              "      <td>P-4452</td>\n",
              "      <td>B-3078</td>\n",
              "      <td>beauty and personal care</td>\n",
              "      <td>eye care</td>\n",
              "      <td>h2o plus eye care</td>\n",
              "      <td>4.0</td>\n",
              "      <td>12122014</td>\n",
              "      <td>837.0</td>\n",
              "    </tr>\n",
              "    <tr>\n",
              "      <th>4</th>\n",
              "      <td>P-8454</td>\n",
              "      <td>B-3078</td>\n",
              "      <td>clothing</td>\n",
              "      <td>men s clothing</td>\n",
              "      <td>t shirts</td>\n",
              "      <td>4.3</td>\n",
              "      <td>12122013</td>\n",
              "      <td>470.0</td>\n",
              "    </tr>\n",
              "  </tbody>\n",
              "</table>\n",
              "</div>"
            ],
            "text/plain": [
              "  Product Product_Brand  ...      Date Selling_Price\n",
              "0  P-2610         B-659  ...    232017         291.0\n",
              "1  P-2453        B-3078  ...    712015         897.0\n",
              "2  P-6802        B-1810  ...   1122019         792.0\n",
              "3  P-4452        B-3078  ...  12122014         837.0\n",
              "4  P-8454        B-3078  ...  12122013         470.0\n",
              "\n",
              "[5 rows x 8 columns]"
            ]
          },
          "metadata": {
            "tags": []
          },
          "execution_count": 36
        }
      ]
    },
    {
      "cell_type": "code",
      "metadata": {
        "id": "3RQ2BDvgKuPv",
        "colab": {
          "base_uri": "https://localhost:8080/",
          "height": 206
        },
        "outputId": "c6dd40ae-6125-4afa-e2ea-5d22e996301c"
      },
      "source": [
        "dft['Date']=dft['Date'].str.replace(\"/\",\"\").astype(int)\n",
        "dft.head()"
      ],
      "execution_count": null,
      "outputs": [
        {
          "output_type": "execute_result",
          "data": {
            "text/html": [
              "<div>\n",
              "<style scoped>\n",
              "    .dataframe tbody tr th:only-of-type {\n",
              "        vertical-align: middle;\n",
              "    }\n",
              "\n",
              "    .dataframe tbody tr th {\n",
              "        vertical-align: top;\n",
              "    }\n",
              "\n",
              "    .dataframe thead th {\n",
              "        text-align: right;\n",
              "    }\n",
              "</style>\n",
              "<table border=\"1\" class=\"dataframe\">\n",
              "  <thead>\n",
              "    <tr style=\"text-align: right;\">\n",
              "      <th></th>\n",
              "      <th>Product</th>\n",
              "      <th>Product_Brand</th>\n",
              "      <th>Item_Category</th>\n",
              "      <th>Subcategory_1</th>\n",
              "      <th>Subcategory_2</th>\n",
              "      <th>Item_Rating</th>\n",
              "      <th>Date</th>\n",
              "    </tr>\n",
              "  </thead>\n",
              "  <tbody>\n",
              "    <tr>\n",
              "      <th>0</th>\n",
              "      <td>P-11284</td>\n",
              "      <td>B-2984</td>\n",
              "      <td>computers</td>\n",
              "      <td>network components</td>\n",
              "      <td>routers</td>\n",
              "      <td>4.3</td>\n",
              "      <td>1122018</td>\n",
              "    </tr>\n",
              "    <tr>\n",
              "      <th>1</th>\n",
              "      <td>P-6580</td>\n",
              "      <td>B-1732</td>\n",
              "      <td>jewellery</td>\n",
              "      <td>bangles bracelets armlets</td>\n",
              "      <td>bracelets</td>\n",
              "      <td>3.0</td>\n",
              "      <td>20122012</td>\n",
              "    </tr>\n",
              "    <tr>\n",
              "      <th>2</th>\n",
              "      <td>P-5843</td>\n",
              "      <td>B-3078</td>\n",
              "      <td>clothing</td>\n",
              "      <td>women s clothing</td>\n",
              "      <td>western wear</td>\n",
              "      <td>1.5</td>\n",
              "      <td>1122014</td>\n",
              "    </tr>\n",
              "    <tr>\n",
              "      <th>3</th>\n",
              "      <td>P-5334</td>\n",
              "      <td>B-1421</td>\n",
              "      <td>jewellery</td>\n",
              "      <td>necklaces chains</td>\n",
              "      <td>necklaces</td>\n",
              "      <td>3.9</td>\n",
              "      <td>1122019</td>\n",
              "    </tr>\n",
              "    <tr>\n",
              "      <th>4</th>\n",
              "      <td>P-5586</td>\n",
              "      <td>B-3078</td>\n",
              "      <td>clothing</td>\n",
              "      <td>women s clothing</td>\n",
              "      <td>western wear</td>\n",
              "      <td>1.4</td>\n",
              "      <td>1122017</td>\n",
              "    </tr>\n",
              "  </tbody>\n",
              "</table>\n",
              "</div>"
            ],
            "text/plain": [
              "   Product Product_Brand Item_Category  ... Subcategory_2 Item_Rating      Date\n",
              "0  P-11284        B-2984     computers  ...       routers         4.3   1122018\n",
              "1   P-6580        B-1732     jewellery  ...     bracelets         3.0  20122012\n",
              "2   P-5843        B-3078      clothing  ...  western wear         1.5   1122014\n",
              "3   P-5334        B-1421     jewellery  ...     necklaces         3.9   1122019\n",
              "4   P-5586        B-3078      clothing  ...  western wear         1.4   1122017\n",
              "\n",
              "[5 rows x 7 columns]"
            ]
          },
          "metadata": {
            "tags": []
          },
          "execution_count": 37
        }
      ]
    },
    {
      "cell_type": "code",
      "metadata": {
        "id": "jYlWaEVzLLij"
      },
      "source": [
        "y_train=df['Selling_Price']\n",
        "X_train=df.drop('Selling_Price',axis=1)"
      ],
      "execution_count": null,
      "outputs": []
    },
    {
      "cell_type": "code",
      "metadata": {
        "id": "Vxtdha2CRfOQ"
      },
      "source": [
        "X_test=dft.drop('Product',axis=1)\n",
        "X_train=X_train.drop('Product',axis=1)"
      ],
      "execution_count": null,
      "outputs": []
    },
    {
      "cell_type": "code",
      "metadata": {
        "id": "5f90T6lPRyH8",
        "colab": {
          "base_uri": "https://localhost:8080/",
          "height": 206
        },
        "outputId": "8603111b-f523-4f64-8d48-5eb889f403dd"
      },
      "source": [
        "X_train.head()"
      ],
      "execution_count": null,
      "outputs": [
        {
          "output_type": "execute_result",
          "data": {
            "text/html": [
              "<div>\n",
              "<style scoped>\n",
              "    .dataframe tbody tr th:only-of-type {\n",
              "        vertical-align: middle;\n",
              "    }\n",
              "\n",
              "    .dataframe tbody tr th {\n",
              "        vertical-align: top;\n",
              "    }\n",
              "\n",
              "    .dataframe thead th {\n",
              "        text-align: right;\n",
              "    }\n",
              "</style>\n",
              "<table border=\"1\" class=\"dataframe\">\n",
              "  <thead>\n",
              "    <tr style=\"text-align: right;\">\n",
              "      <th></th>\n",
              "      <th>Product_Brand</th>\n",
              "      <th>Item_Category</th>\n",
              "      <th>Subcategory_1</th>\n",
              "      <th>Subcategory_2</th>\n",
              "      <th>Item_Rating</th>\n",
              "      <th>Date</th>\n",
              "    </tr>\n",
              "  </thead>\n",
              "  <tbody>\n",
              "    <tr>\n",
              "      <th>0</th>\n",
              "      <td>B-659</td>\n",
              "      <td>bags wallets belts</td>\n",
              "      <td>bags</td>\n",
              "      <td>hand bags</td>\n",
              "      <td>4.3</td>\n",
              "      <td>232017</td>\n",
              "    </tr>\n",
              "    <tr>\n",
              "      <th>1</th>\n",
              "      <td>B-3078</td>\n",
              "      <td>clothing</td>\n",
              "      <td>women s clothing</td>\n",
              "      <td>western wear</td>\n",
              "      <td>3.1</td>\n",
              "      <td>712015</td>\n",
              "    </tr>\n",
              "    <tr>\n",
              "      <th>2</th>\n",
              "      <td>B-1810</td>\n",
              "      <td>home decor festive needs</td>\n",
              "      <td>showpieces</td>\n",
              "      <td>ethnic</td>\n",
              "      <td>3.5</td>\n",
              "      <td>1122019</td>\n",
              "    </tr>\n",
              "    <tr>\n",
              "      <th>3</th>\n",
              "      <td>B-3078</td>\n",
              "      <td>beauty and personal care</td>\n",
              "      <td>eye care</td>\n",
              "      <td>h2o plus eye care</td>\n",
              "      <td>4.0</td>\n",
              "      <td>12122014</td>\n",
              "    </tr>\n",
              "    <tr>\n",
              "      <th>4</th>\n",
              "      <td>B-3078</td>\n",
              "      <td>clothing</td>\n",
              "      <td>men s clothing</td>\n",
              "      <td>t shirts</td>\n",
              "      <td>4.3</td>\n",
              "      <td>12122013</td>\n",
              "    </tr>\n",
              "  </tbody>\n",
              "</table>\n",
              "</div>"
            ],
            "text/plain": [
              "  Product_Brand             Item_Category  ... Item_Rating      Date\n",
              "0         B-659        bags wallets belts  ...         4.3    232017\n",
              "1        B-3078                  clothing  ...         3.1    712015\n",
              "2        B-1810  home decor festive needs  ...         3.5   1122019\n",
              "3        B-3078  beauty and personal care  ...         4.0  12122014\n",
              "4        B-3078                  clothing  ...         4.3  12122013\n",
              "\n",
              "[5 rows x 6 columns]"
            ]
          },
          "metadata": {
            "tags": []
          },
          "execution_count": 40
        }
      ]
    },
    {
      "cell_type": "code",
      "metadata": {
        "id": "UEdtMg0mR2VO",
        "colab": {
          "base_uri": "https://localhost:8080/",
          "height": 206
        },
        "outputId": "f1753c7c-730d-40a9-e8c6-03a607dec9b7"
      },
      "source": [
        "X_test.head()"
      ],
      "execution_count": null,
      "outputs": [
        {
          "output_type": "execute_result",
          "data": {
            "text/html": [
              "<div>\n",
              "<style scoped>\n",
              "    .dataframe tbody tr th:only-of-type {\n",
              "        vertical-align: middle;\n",
              "    }\n",
              "\n",
              "    .dataframe tbody tr th {\n",
              "        vertical-align: top;\n",
              "    }\n",
              "\n",
              "    .dataframe thead th {\n",
              "        text-align: right;\n",
              "    }\n",
              "</style>\n",
              "<table border=\"1\" class=\"dataframe\">\n",
              "  <thead>\n",
              "    <tr style=\"text-align: right;\">\n",
              "      <th></th>\n",
              "      <th>Product_Brand</th>\n",
              "      <th>Item_Category</th>\n",
              "      <th>Subcategory_1</th>\n",
              "      <th>Subcategory_2</th>\n",
              "      <th>Item_Rating</th>\n",
              "      <th>Date</th>\n",
              "    </tr>\n",
              "  </thead>\n",
              "  <tbody>\n",
              "    <tr>\n",
              "      <th>0</th>\n",
              "      <td>B-2984</td>\n",
              "      <td>computers</td>\n",
              "      <td>network components</td>\n",
              "      <td>routers</td>\n",
              "      <td>4.3</td>\n",
              "      <td>1122018</td>\n",
              "    </tr>\n",
              "    <tr>\n",
              "      <th>1</th>\n",
              "      <td>B-1732</td>\n",
              "      <td>jewellery</td>\n",
              "      <td>bangles bracelets armlets</td>\n",
              "      <td>bracelets</td>\n",
              "      <td>3.0</td>\n",
              "      <td>20122012</td>\n",
              "    </tr>\n",
              "    <tr>\n",
              "      <th>2</th>\n",
              "      <td>B-3078</td>\n",
              "      <td>clothing</td>\n",
              "      <td>women s clothing</td>\n",
              "      <td>western wear</td>\n",
              "      <td>1.5</td>\n",
              "      <td>1122014</td>\n",
              "    </tr>\n",
              "    <tr>\n",
              "      <th>3</th>\n",
              "      <td>B-1421</td>\n",
              "      <td>jewellery</td>\n",
              "      <td>necklaces chains</td>\n",
              "      <td>necklaces</td>\n",
              "      <td>3.9</td>\n",
              "      <td>1122019</td>\n",
              "    </tr>\n",
              "    <tr>\n",
              "      <th>4</th>\n",
              "      <td>B-3078</td>\n",
              "      <td>clothing</td>\n",
              "      <td>women s clothing</td>\n",
              "      <td>western wear</td>\n",
              "      <td>1.4</td>\n",
              "      <td>1122017</td>\n",
              "    </tr>\n",
              "  </tbody>\n",
              "</table>\n",
              "</div>"
            ],
            "text/plain": [
              "  Product_Brand Item_Category  ... Item_Rating      Date\n",
              "0        B-2984     computers  ...         4.3   1122018\n",
              "1        B-1732     jewellery  ...         3.0  20122012\n",
              "2        B-3078      clothing  ...         1.5   1122014\n",
              "3        B-1421     jewellery  ...         3.9   1122019\n",
              "4        B-3078      clothing  ...         1.4   1122017\n",
              "\n",
              "[5 rows x 6 columns]"
            ]
          },
          "metadata": {
            "tags": []
          },
          "execution_count": 41
        }
      ]
    },
    {
      "cell_type": "code",
      "metadata": {
        "id": "NEbXCy2CSN-K"
      },
      "source": [
        "X_train=X_train.fillna(method='pad')\n",
        "X_test=X_test.fillna(method='pad')"
      ],
      "execution_count": null,
      "outputs": []
    },
    {
      "cell_type": "code",
      "metadata": {
        "id": "1gRXOkP5R_oF"
      },
      "source": [
        "def unique_items(list1, list2):\n",
        "  a = list1\n",
        "  b = list2\n",
        "  a.extend(b)\n",
        "  return list(set(a))"
      ],
      "execution_count": null,
      "outputs": []
    },
    {
      "cell_type": "code",
      "metadata": {
        "id": "4v3RUNJHSX9L",
        "colab": {
          "base_uri": "https://localhost:8080/",
          "height": 35
        },
        "outputId": "3086d1d0-0c8e-4a23-c6a6-a08d7ea64062"
      },
      "source": [
        "from sklearn.preprocessing import LabelEncoder\n",
        "from sklearn.exceptions import NotFittedError\n",
        "\n",
        "le_brand = LabelEncoder()\n",
        "all_brand = unique_items(list(X_train['Product_Brand']),list(X_test['Product_Brand']))\n",
        "le_brand.fit(all_brand)\n",
        "\n",
        "le_item= LabelEncoder()\n",
        "all_item = unique_items(list(X_train['Item_Category']),list(X_test['Item_Category']))\n",
        "le_item.fit(all_item)\n",
        "\n",
        "le_sub1 = LabelEncoder()\n",
        "all_sub1 = unique_items(list(X_train['Subcategory_1']),list(X_test['Subcategory_1']))\n",
        "le_sub1.fit(all_sub1)\n",
        "\n",
        "le_sub2 = LabelEncoder()\n",
        "all_sub2 = unique_items(list(X_train['Subcategory_2']),list(X_test['Subcategory_2']))\n",
        "le_sub2.fit(all_sub2)"
      ],
      "execution_count": null,
      "outputs": [
        {
          "output_type": "execute_result",
          "data": {
            "text/plain": [
              "LabelEncoder()"
            ]
          },
          "metadata": {
            "tags": []
          },
          "execution_count": 44
        }
      ]
    },
    {
      "cell_type": "code",
      "metadata": {
        "id": "5K2COBq0TYYb"
      },
      "source": [
        "X_train['Product_Brand'] = le_brand.transform(X_train['Product_Brand'])\n",
        "\n",
        "X_train['Item_Category'] = le_item.transform(X_train['Item_Category'])\n",
        "\n",
        "X_train['Subcategory_1'] = le_sub1.transform(X_train['Subcategory_1'])\n",
        "\n",
        "X_train['Subcategory_2'] = le_sub2.transform(X_train['Subcategory_2'])\n"
      ],
      "execution_count": null,
      "outputs": []
    },
    {
      "cell_type": "code",
      "metadata": {
        "id": "gW5TotmHUWDI",
        "colab": {
          "base_uri": "https://localhost:8080/",
          "height": 206
        },
        "outputId": "89294979-6a46-45c5-ec3c-4a36ec1d7326"
      },
      "source": [
        "X_train.head()"
      ],
      "execution_count": null,
      "outputs": [
        {
          "output_type": "execute_result",
          "data": {
            "text/html": [
              "<div>\n",
              "<style scoped>\n",
              "    .dataframe tbody tr th:only-of-type {\n",
              "        vertical-align: middle;\n",
              "    }\n",
              "\n",
              "    .dataframe tbody tr th {\n",
              "        vertical-align: top;\n",
              "    }\n",
              "\n",
              "    .dataframe thead th {\n",
              "        text-align: right;\n",
              "    }\n",
              "</style>\n",
              "<table border=\"1\" class=\"dataframe\">\n",
              "  <thead>\n",
              "    <tr style=\"text-align: right;\">\n",
              "      <th></th>\n",
              "      <th>Product_Brand</th>\n",
              "      <th>Item_Category</th>\n",
              "      <th>Subcategory_1</th>\n",
              "      <th>Subcategory_2</th>\n",
              "      <th>Item_Rating</th>\n",
              "      <th>Date</th>\n",
              "    </tr>\n",
              "  </thead>\n",
              "  <tbody>\n",
              "    <tr>\n",
              "      <th>0</th>\n",
              "      <td>1130</td>\n",
              "      <td>9</td>\n",
              "      <td>11</td>\n",
              "      <td>159</td>\n",
              "      <td>4.3</td>\n",
              "      <td>232017</td>\n",
              "    </tr>\n",
              "    <tr>\n",
              "      <th>1</th>\n",
              "      <td>877</td>\n",
              "      <td>17</td>\n",
              "      <td>139</td>\n",
              "      <td>387</td>\n",
              "      <td>3.1</td>\n",
              "      <td>712015</td>\n",
              "    </tr>\n",
              "    <tr>\n",
              "      <th>2</th>\n",
              "      <td>369</td>\n",
              "      <td>38</td>\n",
              "      <td>119</td>\n",
              "      <td>118</td>\n",
              "      <td>3.5</td>\n",
              "      <td>1122019</td>\n",
              "    </tr>\n",
              "    <tr>\n",
              "      <th>3</th>\n",
              "      <td>877</td>\n",
              "      <td>12</td>\n",
              "      <td>40</td>\n",
              "      <td>155</td>\n",
              "      <td>4.0</td>\n",
              "      <td>12122014</td>\n",
              "    </tr>\n",
              "    <tr>\n",
              "      <th>4</th>\n",
              "      <td>877</td>\n",
              "      <td>17</td>\n",
              "      <td>86</td>\n",
              "      <td>344</td>\n",
              "      <td>4.3</td>\n",
              "      <td>12122013</td>\n",
              "    </tr>\n",
              "  </tbody>\n",
              "</table>\n",
              "</div>"
            ],
            "text/plain": [
              "   Product_Brand  Item_Category  ...  Item_Rating      Date\n",
              "0           1130              9  ...          4.3    232017\n",
              "1            877             17  ...          3.1    712015\n",
              "2            369             38  ...          3.5   1122019\n",
              "3            877             12  ...          4.0  12122014\n",
              "4            877             17  ...          4.3  12122013\n",
              "\n",
              "[5 rows x 6 columns]"
            ]
          },
          "metadata": {
            "tags": []
          },
          "execution_count": 46
        }
      ]
    },
    {
      "cell_type": "code",
      "metadata": {
        "id": "prheitceUZfs"
      },
      "source": [
        "X_test['Product_Brand'] = le_brand.transform(X_test['Product_Brand'])\n",
        "\n",
        "X_test['Item_Category'] = le_item.transform(X_test['Item_Category'])\n",
        "\n",
        "X_test['Subcategory_1'] = le_sub1.transform(X_test['Subcategory_1'])\n",
        "\n",
        "X_test['Subcategory_2'] = le_sub2.transform(X_test['Subcategory_2'])"
      ],
      "execution_count": null,
      "outputs": []
    },
    {
      "cell_type": "code",
      "metadata": {
        "id": "fNLdcn7xVBps",
        "colab": {
          "base_uri": "https://localhost:8080/",
          "height": 206
        },
        "outputId": "267e7733-3ecf-4987-a974-ebdd164cc63c"
      },
      "source": [
        "X_test.head()"
      ],
      "execution_count": null,
      "outputs": [
        {
          "output_type": "execute_result",
          "data": {
            "text/html": [
              "<div>\n",
              "<style scoped>\n",
              "    .dataframe tbody tr th:only-of-type {\n",
              "        vertical-align: middle;\n",
              "    }\n",
              "\n",
              "    .dataframe tbody tr th {\n",
              "        vertical-align: top;\n",
              "    }\n",
              "\n",
              "    .dataframe thead th {\n",
              "        text-align: right;\n",
              "    }\n",
              "</style>\n",
              "<table border=\"1\" class=\"dataframe\">\n",
              "  <thead>\n",
              "    <tr style=\"text-align: right;\">\n",
              "      <th></th>\n",
              "      <th>Product_Brand</th>\n",
              "      <th>Item_Category</th>\n",
              "      <th>Subcategory_1</th>\n",
              "      <th>Subcategory_2</th>\n",
              "      <th>Item_Rating</th>\n",
              "      <th>Date</th>\n",
              "    </tr>\n",
              "  </thead>\n",
              "  <tbody>\n",
              "    <tr>\n",
              "      <th>0</th>\n",
              "      <td>842</td>\n",
              "      <td>20</td>\n",
              "      <td>94</td>\n",
              "      <td>298</td>\n",
              "      <td>4.3</td>\n",
              "      <td>1122018</td>\n",
              "    </tr>\n",
              "    <tr>\n",
              "      <th>1</th>\n",
              "      <td>335</td>\n",
              "      <td>44</td>\n",
              "      <td>12</td>\n",
              "      <td>53</td>\n",
              "      <td>3.0</td>\n",
              "      <td>20122012</td>\n",
              "    </tr>\n",
              "    <tr>\n",
              "      <th>2</th>\n",
              "      <td>877</td>\n",
              "      <td>17</td>\n",
              "      <td>139</td>\n",
              "      <td>387</td>\n",
              "      <td>1.5</td>\n",
              "      <td>1122014</td>\n",
              "    </tr>\n",
              "    <tr>\n",
              "      <th>3</th>\n",
              "      <td>203</td>\n",
              "      <td>44</td>\n",
              "      <td>93</td>\n",
              "      <td>243</td>\n",
              "      <td>3.9</td>\n",
              "      <td>1122019</td>\n",
              "    </tr>\n",
              "    <tr>\n",
              "      <th>4</th>\n",
              "      <td>877</td>\n",
              "      <td>17</td>\n",
              "      <td>139</td>\n",
              "      <td>387</td>\n",
              "      <td>1.4</td>\n",
              "      <td>1122017</td>\n",
              "    </tr>\n",
              "  </tbody>\n",
              "</table>\n",
              "</div>"
            ],
            "text/plain": [
              "   Product_Brand  Item_Category  ...  Item_Rating      Date\n",
              "0            842             20  ...          4.3   1122018\n",
              "1            335             44  ...          3.0  20122012\n",
              "2            877             17  ...          1.5   1122014\n",
              "3            203             44  ...          3.9   1122019\n",
              "4            877             17  ...          1.4   1122017\n",
              "\n",
              "[5 rows x 6 columns]"
            ]
          },
          "metadata": {
            "tags": []
          },
          "execution_count": 48
        }
      ]
    },
    {
      "cell_type": "code",
      "metadata": {
        "id": "gpTftVrPVDsH"
      },
      "source": [
        "from sklearn.ensemble import RandomForestRegressor"
      ],
      "execution_count": null,
      "outputs": []
    },
    {
      "cell_type": "code",
      "metadata": {
        "id": "eGp5hTwqVPOB"
      },
      "source": [
        "clf=RandomForestRegressor(n_estimators=3000)"
      ],
      "execution_count": null,
      "outputs": []
    },
    {
      "cell_type": "code",
      "metadata": {
        "id": "sQwKHUVyVUoE",
        "colab": {
          "base_uri": "https://localhost:8080/",
          "height": 144
        },
        "outputId": "6f31481b-b488-4c56-f548-05b41610221a"
      },
      "source": [
        "clf.fit(X_train,y_train)"
      ],
      "execution_count": null,
      "outputs": [
        {
          "output_type": "execute_result",
          "data": {
            "text/plain": [
              "RandomForestRegressor(bootstrap=True, ccp_alpha=0.0, criterion='mse',\n",
              "                      max_depth=None, max_features='auto', max_leaf_nodes=None,\n",
              "                      max_samples=None, min_impurity_decrease=0.0,\n",
              "                      min_impurity_split=None, min_samples_leaf=1,\n",
              "                      min_samples_split=2, min_weight_fraction_leaf=0.0,\n",
              "                      n_estimators=5000, n_jobs=None, oob_score=False,\n",
              "                      random_state=None, verbose=0, warm_start=False)"
            ]
          },
          "metadata": {
            "tags": []
          },
          "execution_count": 85
        }
      ]
    },
    {
      "cell_type": "code",
      "metadata": {
        "id": "_s26y5mHVc0l",
        "colab": {
          "base_uri": "https://localhost:8080/",
          "height": 53
        },
        "outputId": "eee8e5c2-9f6f-49ff-b188-491903d4b747"
      },
      "source": [
        "clf.feature_importances_"
      ],
      "execution_count": null,
      "outputs": [
        {
          "output_type": "execute_result",
          "data": {
            "text/plain": [
              "array([0.20162675, 0.05150686, 0.04701475, 0.3022056 , 0.04427455,\n",
              "       0.35337149])"
            ]
          },
          "metadata": {
            "tags": []
          },
          "execution_count": 86
        }
      ]
    },
    {
      "cell_type": "code",
      "metadata": {
        "id": "QCgrfz7bVnaQ"
      },
      "source": [
        "y_test=clf.predict(X_test)"
      ],
      "execution_count": null,
      "outputs": []
    },
    {
      "cell_type": "code",
      "metadata": {
        "id": "VizesCqiVx4W"
      },
      "source": [
        "dft['Selling_Price']=y_test"
      ],
      "execution_count": null,
      "outputs": []
    },
    {
      "cell_type": "code",
      "metadata": {
        "id": "D3zZkoNyV7ow",
        "colab": {
          "base_uri": "https://localhost:8080/",
          "height": 206
        },
        "outputId": "93794f19-a044-4ae8-e719-31aada00acd8"
      },
      "source": [
        "dft.head()"
      ],
      "execution_count": null,
      "outputs": [
        {
          "output_type": "execute_result",
          "data": {
            "text/html": [
              "<div>\n",
              "<style scoped>\n",
              "    .dataframe tbody tr th:only-of-type {\n",
              "        vertical-align: middle;\n",
              "    }\n",
              "\n",
              "    .dataframe tbody tr th {\n",
              "        vertical-align: top;\n",
              "    }\n",
              "\n",
              "    .dataframe thead th {\n",
              "        text-align: right;\n",
              "    }\n",
              "</style>\n",
              "<table border=\"1\" class=\"dataframe\">\n",
              "  <thead>\n",
              "    <tr style=\"text-align: right;\">\n",
              "      <th></th>\n",
              "      <th>Product</th>\n",
              "      <th>Product_Brand</th>\n",
              "      <th>Item_Category</th>\n",
              "      <th>Subcategory_1</th>\n",
              "      <th>Subcategory_2</th>\n",
              "      <th>Item_Rating</th>\n",
              "      <th>Date</th>\n",
              "      <th>Selling_Price</th>\n",
              "    </tr>\n",
              "  </thead>\n",
              "  <tbody>\n",
              "    <tr>\n",
              "      <th>0</th>\n",
              "      <td>P-11284</td>\n",
              "      <td>B-2984</td>\n",
              "      <td>computers</td>\n",
              "      <td>network components</td>\n",
              "      <td>routers</td>\n",
              "      <td>4.3</td>\n",
              "      <td>1122018</td>\n",
              "      <td>3491.270701</td>\n",
              "    </tr>\n",
              "    <tr>\n",
              "      <th>1</th>\n",
              "      <td>P-6580</td>\n",
              "      <td>B-1732</td>\n",
              "      <td>jewellery</td>\n",
              "      <td>bangles bracelets armlets</td>\n",
              "      <td>bracelets</td>\n",
              "      <td>3.0</td>\n",
              "      <td>20122012</td>\n",
              "      <td>423.392600</td>\n",
              "    </tr>\n",
              "    <tr>\n",
              "      <th>2</th>\n",
              "      <td>P-5843</td>\n",
              "      <td>B-3078</td>\n",
              "      <td>clothing</td>\n",
              "      <td>women s clothing</td>\n",
              "      <td>western wear</td>\n",
              "      <td>1.5</td>\n",
              "      <td>1122014</td>\n",
              "      <td>896.324864</td>\n",
              "    </tr>\n",
              "    <tr>\n",
              "      <th>3</th>\n",
              "      <td>P-5334</td>\n",
              "      <td>B-1421</td>\n",
              "      <td>jewellery</td>\n",
              "      <td>necklaces chains</td>\n",
              "      <td>necklaces</td>\n",
              "      <td>3.9</td>\n",
              "      <td>1122019</td>\n",
              "      <td>384.676600</td>\n",
              "    </tr>\n",
              "    <tr>\n",
              "      <th>4</th>\n",
              "      <td>P-5586</td>\n",
              "      <td>B-3078</td>\n",
              "      <td>clothing</td>\n",
              "      <td>women s clothing</td>\n",
              "      <td>western wear</td>\n",
              "      <td>1.4</td>\n",
              "      <td>1122017</td>\n",
              "      <td>785.503820</td>\n",
              "    </tr>\n",
              "  </tbody>\n",
              "</table>\n",
              "</div>"
            ],
            "text/plain": [
              "   Product Product_Brand Item_Category  ... Item_Rating      Date  Selling_Price\n",
              "0  P-11284        B-2984     computers  ...         4.3   1122018    3491.270701\n",
              "1   P-6580        B-1732     jewellery  ...         3.0  20122012     423.392600\n",
              "2   P-5843        B-3078      clothing  ...         1.5   1122014     896.324864\n",
              "3   P-5334        B-1421     jewellery  ...         3.9   1122019     384.676600\n",
              "4   P-5586        B-3078      clothing  ...         1.4   1122017     785.503820\n",
              "\n",
              "[5 rows x 8 columns]"
            ]
          },
          "metadata": {
            "tags": []
          },
          "execution_count": 89
        }
      ]
    },
    {
      "cell_type": "code",
      "metadata": {
        "id": "DvleMrwTV8tA"
      },
      "source": [
        "res=pd.DataFrame(y_test)"
      ],
      "execution_count": null,
      "outputs": []
    },
    {
      "cell_type": "code",
      "metadata": {
        "id": "wTnmr4N7WRR6",
        "colab": {
          "base_uri": "https://localhost:8080/",
          "height": 424
        },
        "outputId": "02607944-cd42-44a5-f28a-c5a91f36af6a"
      },
      "source": [
        "res"
      ],
      "execution_count": null,
      "outputs": [
        {
          "output_type": "execute_result",
          "data": {
            "text/html": [
              "<div>\n",
              "<style scoped>\n",
              "    .dataframe tbody tr th:only-of-type {\n",
              "        vertical-align: middle;\n",
              "    }\n",
              "\n",
              "    .dataframe tbody tr th {\n",
              "        vertical-align: top;\n",
              "    }\n",
              "\n",
              "    .dataframe thead th {\n",
              "        text-align: right;\n",
              "    }\n",
              "</style>\n",
              "<table border=\"1\" class=\"dataframe\">\n",
              "  <thead>\n",
              "    <tr style=\"text-align: right;\">\n",
              "      <th></th>\n",
              "      <th>0</th>\n",
              "    </tr>\n",
              "  </thead>\n",
              "  <tbody>\n",
              "    <tr>\n",
              "      <th>0</th>\n",
              "      <td>3491.270701</td>\n",
              "    </tr>\n",
              "    <tr>\n",
              "      <th>1</th>\n",
              "      <td>423.392600</td>\n",
              "    </tr>\n",
              "    <tr>\n",
              "      <th>2</th>\n",
              "      <td>896.324864</td>\n",
              "    </tr>\n",
              "    <tr>\n",
              "      <th>3</th>\n",
              "      <td>384.676600</td>\n",
              "    </tr>\n",
              "    <tr>\n",
              "      <th>4</th>\n",
              "      <td>785.503820</td>\n",
              "    </tr>\n",
              "    <tr>\n",
              "      <th>...</th>\n",
              "      <td>...</td>\n",
              "    </tr>\n",
              "    <tr>\n",
              "      <th>1046</th>\n",
              "      <td>1855.865800</td>\n",
              "    </tr>\n",
              "    <tr>\n",
              "      <th>1047</th>\n",
              "      <td>252.538600</td>\n",
              "    </tr>\n",
              "    <tr>\n",
              "      <th>1048</th>\n",
              "      <td>1530.859190</td>\n",
              "    </tr>\n",
              "    <tr>\n",
              "      <th>1049</th>\n",
              "      <td>998.473400</td>\n",
              "    </tr>\n",
              "    <tr>\n",
              "      <th>1050</th>\n",
              "      <td>1492.703857</td>\n",
              "    </tr>\n",
              "  </tbody>\n",
              "</table>\n",
              "<p>1051 rows × 1 columns</p>\n",
              "</div>"
            ],
            "text/plain": [
              "                0\n",
              "0     3491.270701\n",
              "1      423.392600\n",
              "2      896.324864\n",
              "3      384.676600\n",
              "4      785.503820\n",
              "...           ...\n",
              "1046  1855.865800\n",
              "1047   252.538600\n",
              "1048  1530.859190\n",
              "1049   998.473400\n",
              "1050  1492.703857\n",
              "\n",
              "[1051 rows x 1 columns]"
            ]
          },
          "metadata": {
            "tags": []
          },
          "execution_count": 91
        }
      ]
    },
    {
      "cell_type": "code",
      "metadata": {
        "id": "LUyS_r5KWSDH"
      },
      "source": [
        "res.to_csv('Ecom.csv',index=False)\n",
        "!cp Ecom.csv \"drive/My Drive/\""
      ],
      "execution_count": null,
      "outputs": []
    },
    {
      "cell_type": "code",
      "metadata": {
        "id": "K2rLaGZ6WfmQ",
        "colab": {
          "base_uri": "https://localhost:8080/",
          "height": 143
        },
        "outputId": "5cf06561-7e36-4e7a-cd61-2bbedbf62f2c"
      },
      "source": [
        "def rf_feat_importance(m, df):\n",
        "    return pd.DataFrame({'cols':df.columns, 'imp':m.feature_importances_}\n",
        "                       ).sort_values('imp', ascending=False)\n",
        "fi = rf_feat_importance(clf, X_train); \n",
        "fi"
      ],
      "execution_count": null,
      "outputs": [
        {
          "output_type": "execute_result",
          "data": {
            "text/html": [
              "<div>\n",
              "<style scoped>\n",
              "    .dataframe tbody tr th:only-of-type {\n",
              "        vertical-align: middle;\n",
              "    }\n",
              "\n",
              "    .dataframe tbody tr th {\n",
              "        vertical-align: top;\n",
              "    }\n",
              "\n",
              "    .dataframe thead th {\n",
              "        text-align: right;\n",
              "    }\n",
              "</style>\n",
              "<table border=\"1\" class=\"dataframe\">\n",
              "  <thead>\n",
              "    <tr style=\"text-align: right;\">\n",
              "      <th></th>\n",
              "      <th>cols</th>\n",
              "      <th>imp</th>\n",
              "    </tr>\n",
              "  </thead>\n",
              "  <tbody>\n",
              "    <tr>\n",
              "      <th>1</th>\n",
              "      <td>Subcategory_2</td>\n",
              "      <td>0.371450</td>\n",
              "    </tr>\n",
              "    <tr>\n",
              "      <th>2</th>\n",
              "      <td>Date</td>\n",
              "      <td>0.334913</td>\n",
              "    </tr>\n",
              "    <tr>\n",
              "      <th>0</th>\n",
              "      <td>Product_Brand</td>\n",
              "      <td>0.293637</td>\n",
              "    </tr>\n",
              "  </tbody>\n",
              "</table>\n",
              "</div>"
            ],
            "text/plain": [
              "            cols       imp\n",
              "1  Subcategory_2  0.371450\n",
              "2           Date  0.334913\n",
              "0  Product_Brand  0.293637"
            ]
          },
          "metadata": {
            "tags": []
          },
          "execution_count": 140
        }
      ]
    },
    {
      "cell_type": "code",
      "metadata": {
        "id": "IEOY-cJaZdPt",
        "colab": {
          "base_uri": "https://localhost:8080/",
          "height": 206
        },
        "outputId": "41b0241c-a999-4ab5-f34f-638a7a2a217f"
      },
      "source": [
        "X_train.head()"
      ],
      "execution_count": null,
      "outputs": [
        {
          "output_type": "execute_result",
          "data": {
            "text/html": [
              "<div>\n",
              "<style scoped>\n",
              "    .dataframe tbody tr th:only-of-type {\n",
              "        vertical-align: middle;\n",
              "    }\n",
              "\n",
              "    .dataframe tbody tr th {\n",
              "        vertical-align: top;\n",
              "    }\n",
              "\n",
              "    .dataframe thead th {\n",
              "        text-align: right;\n",
              "    }\n",
              "</style>\n",
              "<table border=\"1\" class=\"dataframe\">\n",
              "  <thead>\n",
              "    <tr style=\"text-align: right;\">\n",
              "      <th></th>\n",
              "      <th>Product_Brand</th>\n",
              "      <th>Item_Category</th>\n",
              "      <th>Subcategory_1</th>\n",
              "      <th>Subcategory_2</th>\n",
              "      <th>Item_Rating</th>\n",
              "      <th>Date</th>\n",
              "    </tr>\n",
              "  </thead>\n",
              "  <tbody>\n",
              "    <tr>\n",
              "      <th>0</th>\n",
              "      <td>1130</td>\n",
              "      <td>9</td>\n",
              "      <td>11</td>\n",
              "      <td>159</td>\n",
              "      <td>4.3</td>\n",
              "      <td>232017</td>\n",
              "    </tr>\n",
              "    <tr>\n",
              "      <th>1</th>\n",
              "      <td>877</td>\n",
              "      <td>17</td>\n",
              "      <td>139</td>\n",
              "      <td>387</td>\n",
              "      <td>3.1</td>\n",
              "      <td>712015</td>\n",
              "    </tr>\n",
              "    <tr>\n",
              "      <th>2</th>\n",
              "      <td>369</td>\n",
              "      <td>38</td>\n",
              "      <td>119</td>\n",
              "      <td>118</td>\n",
              "      <td>3.5</td>\n",
              "      <td>1122019</td>\n",
              "    </tr>\n",
              "    <tr>\n",
              "      <th>3</th>\n",
              "      <td>877</td>\n",
              "      <td>12</td>\n",
              "      <td>40</td>\n",
              "      <td>155</td>\n",
              "      <td>4.0</td>\n",
              "      <td>12122014</td>\n",
              "    </tr>\n",
              "    <tr>\n",
              "      <th>4</th>\n",
              "      <td>877</td>\n",
              "      <td>17</td>\n",
              "      <td>86</td>\n",
              "      <td>344</td>\n",
              "      <td>4.3</td>\n",
              "      <td>12122013</td>\n",
              "    </tr>\n",
              "  </tbody>\n",
              "</table>\n",
              "</div>"
            ],
            "text/plain": [
              "   Product_Brand  Item_Category  ...  Item_Rating      Date\n",
              "0           1130              9  ...          4.3    232017\n",
              "1            877             17  ...          3.1    712015\n",
              "2            369             38  ...          3.5   1122019\n",
              "3            877             12  ...          4.0  12122014\n",
              "4            877             17  ...          4.3  12122013\n",
              "\n",
              "[5 rows x 6 columns]"
            ]
          },
          "metadata": {
            "tags": []
          },
          "execution_count": 132
        }
      ]
    },
    {
      "cell_type": "code",
      "metadata": {
        "id": "aeJ-tdBlZj-S",
        "colab": {
          "base_uri": "https://localhost:8080/",
          "height": 206
        },
        "outputId": "b9db98b0-8b82-4245-de13-1ed5d34ec6bd"
      },
      "source": [
        "X_test.head()"
      ],
      "execution_count": null,
      "outputs": [
        {
          "output_type": "execute_result",
          "data": {
            "text/html": [
              "<div>\n",
              "<style scoped>\n",
              "    .dataframe tbody tr th:only-of-type {\n",
              "        vertical-align: middle;\n",
              "    }\n",
              "\n",
              "    .dataframe tbody tr th {\n",
              "        vertical-align: top;\n",
              "    }\n",
              "\n",
              "    .dataframe thead th {\n",
              "        text-align: right;\n",
              "    }\n",
              "</style>\n",
              "<table border=\"1\" class=\"dataframe\">\n",
              "  <thead>\n",
              "    <tr style=\"text-align: right;\">\n",
              "      <th></th>\n",
              "      <th>Product_Brand</th>\n",
              "      <th>Item_Category</th>\n",
              "      <th>Subcategory_1</th>\n",
              "      <th>Subcategory_2</th>\n",
              "      <th>Item_Rating</th>\n",
              "      <th>Date</th>\n",
              "    </tr>\n",
              "  </thead>\n",
              "  <tbody>\n",
              "    <tr>\n",
              "      <th>0</th>\n",
              "      <td>842</td>\n",
              "      <td>20</td>\n",
              "      <td>94</td>\n",
              "      <td>298</td>\n",
              "      <td>4.3</td>\n",
              "      <td>1122018</td>\n",
              "    </tr>\n",
              "    <tr>\n",
              "      <th>1</th>\n",
              "      <td>335</td>\n",
              "      <td>44</td>\n",
              "      <td>12</td>\n",
              "      <td>53</td>\n",
              "      <td>3.0</td>\n",
              "      <td>20122012</td>\n",
              "    </tr>\n",
              "    <tr>\n",
              "      <th>2</th>\n",
              "      <td>877</td>\n",
              "      <td>17</td>\n",
              "      <td>139</td>\n",
              "      <td>387</td>\n",
              "      <td>1.5</td>\n",
              "      <td>1122014</td>\n",
              "    </tr>\n",
              "    <tr>\n",
              "      <th>3</th>\n",
              "      <td>203</td>\n",
              "      <td>44</td>\n",
              "      <td>93</td>\n",
              "      <td>243</td>\n",
              "      <td>3.9</td>\n",
              "      <td>1122019</td>\n",
              "    </tr>\n",
              "    <tr>\n",
              "      <th>4</th>\n",
              "      <td>877</td>\n",
              "      <td>17</td>\n",
              "      <td>139</td>\n",
              "      <td>387</td>\n",
              "      <td>1.4</td>\n",
              "      <td>1122017</td>\n",
              "    </tr>\n",
              "  </tbody>\n",
              "</table>\n",
              "</div>"
            ],
            "text/plain": [
              "   Product_Brand  Item_Category  ...  Item_Rating      Date\n",
              "0            842             20  ...          4.3   1122018\n",
              "1            335             44  ...          3.0  20122012\n",
              "2            877             17  ...          1.5   1122014\n",
              "3            203             44  ...          3.9   1122019\n",
              "4            877             17  ...          1.4   1122017\n",
              "\n",
              "[5 rows x 6 columns]"
            ]
          },
          "metadata": {
            "tags": []
          },
          "execution_count": 133
        }
      ]
    },
    {
      "cell_type": "code",
      "metadata": {
        "id": "QHpcB7GXZnyx",
        "colab": {
          "base_uri": "https://localhost:8080/",
          "height": 235
        },
        "outputId": "54d6da46-ea89-4258-9074-5cd65c9d9505"
      },
      "source": [
        "y_train"
      ],
      "execution_count": null,
      "outputs": [
        {
          "output_type": "execute_result",
          "data": {
            "text/plain": [
              "0        291.0\n",
              "1        897.0\n",
              "2        792.0\n",
              "3        837.0\n",
              "4        470.0\n",
              "         ...  \n",
              "2447     741.0\n",
              "2448    1590.0\n",
              "2449     995.0\n",
              "2450    1598.0\n",
              "2451     397.0\n",
              "Name: Selling_Price, Length: 2452, dtype: float64"
            ]
          },
          "metadata": {
            "tags": []
          },
          "execution_count": 134
        }
      ]
    },
    {
      "cell_type": "code",
      "metadata": {
        "id": "RMzex6eNZpNr"
      },
      "source": [
        "to_drop=['Item_Category','Subcategory_1','Item_Rating']"
      ],
      "execution_count": null,
      "outputs": []
    },
    {
      "cell_type": "code",
      "metadata": {
        "id": "bcRI4LWCZ98x"
      },
      "source": [
        "X_train=X_train.drop(to_drop,axis=1)\n",
        "X_test=X_test.drop(to_drop,axis=1)"
      ],
      "execution_count": null,
      "outputs": []
    },
    {
      "cell_type": "code",
      "metadata": {
        "id": "Jo5krPySaKAb",
        "colab": {
          "base_uri": "https://localhost:8080/",
          "height": 206
        },
        "outputId": "58412dcf-cc94-40a9-fd97-d089756d8038"
      },
      "source": [
        "X_train.head()"
      ],
      "execution_count": null,
      "outputs": [
        {
          "output_type": "execute_result",
          "data": {
            "text/html": [
              "<div>\n",
              "<style scoped>\n",
              "    .dataframe tbody tr th:only-of-type {\n",
              "        vertical-align: middle;\n",
              "    }\n",
              "\n",
              "    .dataframe tbody tr th {\n",
              "        vertical-align: top;\n",
              "    }\n",
              "\n",
              "    .dataframe thead th {\n",
              "        text-align: right;\n",
              "    }\n",
              "</style>\n",
              "<table border=\"1\" class=\"dataframe\">\n",
              "  <thead>\n",
              "    <tr style=\"text-align: right;\">\n",
              "      <th></th>\n",
              "      <th>Product_Brand</th>\n",
              "      <th>Subcategory_2</th>\n",
              "      <th>Date</th>\n",
              "    </tr>\n",
              "  </thead>\n",
              "  <tbody>\n",
              "    <tr>\n",
              "      <th>0</th>\n",
              "      <td>1130</td>\n",
              "      <td>159</td>\n",
              "      <td>232017</td>\n",
              "    </tr>\n",
              "    <tr>\n",
              "      <th>1</th>\n",
              "      <td>877</td>\n",
              "      <td>387</td>\n",
              "      <td>712015</td>\n",
              "    </tr>\n",
              "    <tr>\n",
              "      <th>2</th>\n",
              "      <td>369</td>\n",
              "      <td>118</td>\n",
              "      <td>1122019</td>\n",
              "    </tr>\n",
              "    <tr>\n",
              "      <th>3</th>\n",
              "      <td>877</td>\n",
              "      <td>155</td>\n",
              "      <td>12122014</td>\n",
              "    </tr>\n",
              "    <tr>\n",
              "      <th>4</th>\n",
              "      <td>877</td>\n",
              "      <td>344</td>\n",
              "      <td>12122013</td>\n",
              "    </tr>\n",
              "  </tbody>\n",
              "</table>\n",
              "</div>"
            ],
            "text/plain": [
              "   Product_Brand  Subcategory_2      Date\n",
              "0           1130            159    232017\n",
              "1            877            387    712015\n",
              "2            369            118   1122019\n",
              "3            877            155  12122014\n",
              "4            877            344  12122013"
            ]
          },
          "metadata": {
            "tags": []
          },
          "execution_count": 137
        }
      ]
    },
    {
      "cell_type": "code",
      "metadata": {
        "id": "Ns5RYQaPaMA7",
        "colab": {
          "base_uri": "https://localhost:8080/",
          "height": 206
        },
        "outputId": "6d8aa083-11e2-41c8-ace4-cad9bbba2fbe"
      },
      "source": [
        "X_test.head()"
      ],
      "execution_count": null,
      "outputs": [
        {
          "output_type": "execute_result",
          "data": {
            "text/html": [
              "<div>\n",
              "<style scoped>\n",
              "    .dataframe tbody tr th:only-of-type {\n",
              "        vertical-align: middle;\n",
              "    }\n",
              "\n",
              "    .dataframe tbody tr th {\n",
              "        vertical-align: top;\n",
              "    }\n",
              "\n",
              "    .dataframe thead th {\n",
              "        text-align: right;\n",
              "    }\n",
              "</style>\n",
              "<table border=\"1\" class=\"dataframe\">\n",
              "  <thead>\n",
              "    <tr style=\"text-align: right;\">\n",
              "      <th></th>\n",
              "      <th>Product_Brand</th>\n",
              "      <th>Subcategory_2</th>\n",
              "      <th>Date</th>\n",
              "    </tr>\n",
              "  </thead>\n",
              "  <tbody>\n",
              "    <tr>\n",
              "      <th>0</th>\n",
              "      <td>842</td>\n",
              "      <td>298</td>\n",
              "      <td>1122018</td>\n",
              "    </tr>\n",
              "    <tr>\n",
              "      <th>1</th>\n",
              "      <td>335</td>\n",
              "      <td>53</td>\n",
              "      <td>20122012</td>\n",
              "    </tr>\n",
              "    <tr>\n",
              "      <th>2</th>\n",
              "      <td>877</td>\n",
              "      <td>387</td>\n",
              "      <td>1122014</td>\n",
              "    </tr>\n",
              "    <tr>\n",
              "      <th>3</th>\n",
              "      <td>203</td>\n",
              "      <td>243</td>\n",
              "      <td>1122019</td>\n",
              "    </tr>\n",
              "    <tr>\n",
              "      <th>4</th>\n",
              "      <td>877</td>\n",
              "      <td>387</td>\n",
              "      <td>1122017</td>\n",
              "    </tr>\n",
              "  </tbody>\n",
              "</table>\n",
              "</div>"
            ],
            "text/plain": [
              "   Product_Brand  Subcategory_2      Date\n",
              "0            842            298   1122018\n",
              "1            335             53  20122012\n",
              "2            877            387   1122014\n",
              "3            203            243   1122019\n",
              "4            877            387   1122017"
            ]
          },
          "metadata": {
            "tags": []
          },
          "execution_count": 138
        }
      ]
    },
    {
      "cell_type": "code",
      "metadata": {
        "id": "3_we03NFaPVs",
        "colab": {
          "base_uri": "https://localhost:8080/",
          "height": 144
        },
        "outputId": "1fac0473-3cb3-489c-aff5-647d1ccb4d83"
      },
      "source": [
        "clf.fit(X_train,y_train)"
      ],
      "execution_count": null,
      "outputs": [
        {
          "output_type": "execute_result",
          "data": {
            "text/plain": [
              "RandomForestRegressor(bootstrap=True, ccp_alpha=0.0, criterion='mse',\n",
              "                      max_depth=None, max_features='auto', max_leaf_nodes=None,\n",
              "                      max_samples=None, min_impurity_decrease=0.0,\n",
              "                      min_impurity_split=None, min_samples_leaf=1,\n",
              "                      min_samples_split=2, min_weight_fraction_leaf=0.0,\n",
              "                      n_estimators=3000, n_jobs=None, oob_score=False,\n",
              "                      random_state=None, verbose=0, warm_start=False)"
            ]
          },
          "metadata": {
            "tags": []
          },
          "execution_count": 139
        }
      ]
    },
    {
      "cell_type": "code",
      "metadata": {
        "id": "4pd5OhijaVpc"
      },
      "source": [
        "y_test=clf.predict(X_test)"
      ],
      "execution_count": null,
      "outputs": []
    },
    {
      "cell_type": "code",
      "metadata": {
        "id": "5rZJ4LrIarJd",
        "colab": {
          "base_uri": "https://localhost:8080/",
          "height": 206
        },
        "outputId": "85db4e17-5f95-4d3c-bb59-4f6c267b7037"
      },
      "source": [
        "dft.head()"
      ],
      "execution_count": null,
      "outputs": [
        {
          "output_type": "execute_result",
          "data": {
            "text/html": [
              "<div>\n",
              "<style scoped>\n",
              "    .dataframe tbody tr th:only-of-type {\n",
              "        vertical-align: middle;\n",
              "    }\n",
              "\n",
              "    .dataframe tbody tr th {\n",
              "        vertical-align: top;\n",
              "    }\n",
              "\n",
              "    .dataframe thead th {\n",
              "        text-align: right;\n",
              "    }\n",
              "</style>\n",
              "<table border=\"1\" class=\"dataframe\">\n",
              "  <thead>\n",
              "    <tr style=\"text-align: right;\">\n",
              "      <th></th>\n",
              "      <th>Product</th>\n",
              "      <th>Product_Brand</th>\n",
              "      <th>Item_Category</th>\n",
              "      <th>Subcategory_1</th>\n",
              "      <th>Subcategory_2</th>\n",
              "      <th>Item_Rating</th>\n",
              "      <th>Date</th>\n",
              "    </tr>\n",
              "  </thead>\n",
              "  <tbody>\n",
              "    <tr>\n",
              "      <th>0</th>\n",
              "      <td>P-11284</td>\n",
              "      <td>B-2984</td>\n",
              "      <td>computers</td>\n",
              "      <td>network components</td>\n",
              "      <td>routers</td>\n",
              "      <td>4.3</td>\n",
              "      <td>1122018</td>\n",
              "    </tr>\n",
              "    <tr>\n",
              "      <th>1</th>\n",
              "      <td>P-6580</td>\n",
              "      <td>B-1732</td>\n",
              "      <td>jewellery</td>\n",
              "      <td>bangles bracelets armlets</td>\n",
              "      <td>bracelets</td>\n",
              "      <td>3.0</td>\n",
              "      <td>20122012</td>\n",
              "    </tr>\n",
              "    <tr>\n",
              "      <th>2</th>\n",
              "      <td>P-5843</td>\n",
              "      <td>B-3078</td>\n",
              "      <td>clothing</td>\n",
              "      <td>women s clothing</td>\n",
              "      <td>western wear</td>\n",
              "      <td>1.5</td>\n",
              "      <td>1122014</td>\n",
              "    </tr>\n",
              "    <tr>\n",
              "      <th>3</th>\n",
              "      <td>P-5334</td>\n",
              "      <td>B-1421</td>\n",
              "      <td>jewellery</td>\n",
              "      <td>necklaces chains</td>\n",
              "      <td>necklaces</td>\n",
              "      <td>3.9</td>\n",
              "      <td>1122019</td>\n",
              "    </tr>\n",
              "    <tr>\n",
              "      <th>4</th>\n",
              "      <td>P-5586</td>\n",
              "      <td>B-3078</td>\n",
              "      <td>clothing</td>\n",
              "      <td>women s clothing</td>\n",
              "      <td>western wear</td>\n",
              "      <td>1.4</td>\n",
              "      <td>1122017</td>\n",
              "    </tr>\n",
              "  </tbody>\n",
              "</table>\n",
              "</div>"
            ],
            "text/plain": [
              "   Product Product_Brand Item_Category  ... Subcategory_2 Item_Rating      Date\n",
              "0  P-11284        B-2984     computers  ...       routers         4.3   1122018\n",
              "1   P-6580        B-1732     jewellery  ...     bracelets         3.0  20122012\n",
              "2   P-5843        B-3078      clothing  ...  western wear         1.5   1122014\n",
              "3   P-5334        B-1421     jewellery  ...     necklaces         3.9   1122019\n",
              "4   P-5586        B-3078      clothing  ...  western wear         1.4   1122017\n",
              "\n",
              "[5 rows x 7 columns]"
            ]
          },
          "metadata": {
            "tags": []
          },
          "execution_count": 105
        }
      ]
    },
    {
      "cell_type": "code",
      "metadata": {
        "id": "d0Cx7JR7asxJ"
      },
      "source": [
        "dft['Selling_Price']=y_test"
      ],
      "execution_count": null,
      "outputs": []
    },
    {
      "cell_type": "code",
      "metadata": {
        "id": "M6prW5eeay5G",
        "colab": {
          "base_uri": "https://localhost:8080/",
          "height": 206
        },
        "outputId": "7696d6bf-2b44-40dc-c83f-9b380b764d1b"
      },
      "source": [
        "dft.head()"
      ],
      "execution_count": null,
      "outputs": [
        {
          "output_type": "execute_result",
          "data": {
            "text/html": [
              "<div>\n",
              "<style scoped>\n",
              "    .dataframe tbody tr th:only-of-type {\n",
              "        vertical-align: middle;\n",
              "    }\n",
              "\n",
              "    .dataframe tbody tr th {\n",
              "        vertical-align: top;\n",
              "    }\n",
              "\n",
              "    .dataframe thead th {\n",
              "        text-align: right;\n",
              "    }\n",
              "</style>\n",
              "<table border=\"1\" class=\"dataframe\">\n",
              "  <thead>\n",
              "    <tr style=\"text-align: right;\">\n",
              "      <th></th>\n",
              "      <th>Product</th>\n",
              "      <th>Product_Brand</th>\n",
              "      <th>Item_Category</th>\n",
              "      <th>Subcategory_1</th>\n",
              "      <th>Subcategory_2</th>\n",
              "      <th>Item_Rating</th>\n",
              "      <th>Date</th>\n",
              "      <th>Selling_Price</th>\n",
              "    </tr>\n",
              "  </thead>\n",
              "  <tbody>\n",
              "    <tr>\n",
              "      <th>0</th>\n",
              "      <td>P-11284</td>\n",
              "      <td>B-2984</td>\n",
              "      <td>computers</td>\n",
              "      <td>network components</td>\n",
              "      <td>routers</td>\n",
              "      <td>4.3</td>\n",
              "      <td>1122018</td>\n",
              "      <td>2315.752661</td>\n",
              "    </tr>\n",
              "    <tr>\n",
              "      <th>1</th>\n",
              "      <td>P-6580</td>\n",
              "      <td>B-1732</td>\n",
              "      <td>jewellery</td>\n",
              "      <td>bangles bracelets armlets</td>\n",
              "      <td>bracelets</td>\n",
              "      <td>3.0</td>\n",
              "      <td>20122012</td>\n",
              "      <td>439.357000</td>\n",
              "    </tr>\n",
              "    <tr>\n",
              "      <th>2</th>\n",
              "      <td>P-5843</td>\n",
              "      <td>B-3078</td>\n",
              "      <td>clothing</td>\n",
              "      <td>women s clothing</td>\n",
              "      <td>western wear</td>\n",
              "      <td>1.5</td>\n",
              "      <td>1122014</td>\n",
              "      <td>814.728395</td>\n",
              "    </tr>\n",
              "    <tr>\n",
              "      <th>3</th>\n",
              "      <td>P-5334</td>\n",
              "      <td>B-1421</td>\n",
              "      <td>jewellery</td>\n",
              "      <td>necklaces chains</td>\n",
              "      <td>necklaces</td>\n",
              "      <td>3.9</td>\n",
              "      <td>1122019</td>\n",
              "      <td>473.415493</td>\n",
              "    </tr>\n",
              "    <tr>\n",
              "      <th>4</th>\n",
              "      <td>P-5586</td>\n",
              "      <td>B-3078</td>\n",
              "      <td>clothing</td>\n",
              "      <td>women s clothing</td>\n",
              "      <td>western wear</td>\n",
              "      <td>1.4</td>\n",
              "      <td>1122017</td>\n",
              "      <td>802.493360</td>\n",
              "    </tr>\n",
              "  </tbody>\n",
              "</table>\n",
              "</div>"
            ],
            "text/plain": [
              "   Product Product_Brand Item_Category  ... Item_Rating      Date  Selling_Price\n",
              "0  P-11284        B-2984     computers  ...         4.3   1122018    2315.752661\n",
              "1   P-6580        B-1732     jewellery  ...         3.0  20122012     439.357000\n",
              "2   P-5843        B-3078      clothing  ...         1.5   1122014     814.728395\n",
              "3   P-5334        B-1421     jewellery  ...         3.9   1122019     473.415493\n",
              "4   P-5586        B-3078      clothing  ...         1.4   1122017     802.493360\n",
              "\n",
              "[5 rows x 8 columns]"
            ]
          },
          "metadata": {
            "tags": []
          },
          "execution_count": 144
        }
      ]
    },
    {
      "cell_type": "code",
      "metadata": {
        "id": "AOiI45ama0ft"
      },
      "source": [
        "res=pd.DataFrame(y_test)"
      ],
      "execution_count": null,
      "outputs": []
    },
    {
      "cell_type": "code",
      "metadata": {
        "id": "5B4YqXeobB0P",
        "colab": {
          "base_uri": "https://localhost:8080/",
          "height": 424
        },
        "outputId": "cc85668e-b5b5-4aa2-c234-3dfbfb6644b1"
      },
      "source": [
        "res"
      ],
      "execution_count": null,
      "outputs": [
        {
          "output_type": "execute_result",
          "data": {
            "text/html": [
              "<div>\n",
              "<style scoped>\n",
              "    .dataframe tbody tr th:only-of-type {\n",
              "        vertical-align: middle;\n",
              "    }\n",
              "\n",
              "    .dataframe tbody tr th {\n",
              "        vertical-align: top;\n",
              "    }\n",
              "\n",
              "    .dataframe thead th {\n",
              "        text-align: right;\n",
              "    }\n",
              "</style>\n",
              "<table border=\"1\" class=\"dataframe\">\n",
              "  <thead>\n",
              "    <tr style=\"text-align: right;\">\n",
              "      <th></th>\n",
              "      <th>0</th>\n",
              "    </tr>\n",
              "  </thead>\n",
              "  <tbody>\n",
              "    <tr>\n",
              "      <th>0</th>\n",
              "      <td>2315.752661</td>\n",
              "    </tr>\n",
              "    <tr>\n",
              "      <th>1</th>\n",
              "      <td>439.357000</td>\n",
              "    </tr>\n",
              "    <tr>\n",
              "      <th>2</th>\n",
              "      <td>814.728395</td>\n",
              "    </tr>\n",
              "    <tr>\n",
              "      <th>3</th>\n",
              "      <td>473.415493</td>\n",
              "    </tr>\n",
              "    <tr>\n",
              "      <th>4</th>\n",
              "      <td>802.493360</td>\n",
              "    </tr>\n",
              "    <tr>\n",
              "      <th>...</th>\n",
              "      <td>...</td>\n",
              "    </tr>\n",
              "    <tr>\n",
              "      <th>1046</th>\n",
              "      <td>1189.063640</td>\n",
              "    </tr>\n",
              "    <tr>\n",
              "      <th>1047</th>\n",
              "      <td>234.244904</td>\n",
              "    </tr>\n",
              "    <tr>\n",
              "      <th>1048</th>\n",
              "      <td>1480.237659</td>\n",
              "    </tr>\n",
              "    <tr>\n",
              "      <th>1049</th>\n",
              "      <td>1646.372678</td>\n",
              "    </tr>\n",
              "    <tr>\n",
              "      <th>1050</th>\n",
              "      <td>1430.353474</td>\n",
              "    </tr>\n",
              "  </tbody>\n",
              "</table>\n",
              "<p>1051 rows × 1 columns</p>\n",
              "</div>"
            ],
            "text/plain": [
              "                0\n",
              "0     2315.752661\n",
              "1      439.357000\n",
              "2      814.728395\n",
              "3      473.415493\n",
              "4      802.493360\n",
              "...           ...\n",
              "1046  1189.063640\n",
              "1047   234.244904\n",
              "1048  1480.237659\n",
              "1049  1646.372678\n",
              "1050  1430.353474\n",
              "\n",
              "[1051 rows x 1 columns]"
            ]
          },
          "metadata": {
            "tags": []
          },
          "execution_count": 146
        }
      ]
    },
    {
      "cell_type": "code",
      "metadata": {
        "id": "ggmU546tbCxA"
      },
      "source": [
        "res.to_csv('Ecom.csv',index=False)\n",
        "!cp Ecom.csv \"drive/My Drive/\""
      ],
      "execution_count": null,
      "outputs": []
    },
    {
      "cell_type": "code",
      "metadata": {
        "id": "MAw9IazebK9p"
      },
      "source": [
        "from sklearn.ensemble import GradientBoostingRegressor"
      ],
      "execution_count": null,
      "outputs": []
    },
    {
      "cell_type": "code",
      "metadata": {
        "id": "2moo4CMHfLix"
      },
      "source": [
        "clfd=GradientBoostingRegressor(n_estimators=1000)"
      ],
      "execution_count": null,
      "outputs": []
    },
    {
      "cell_type": "code",
      "metadata": {
        "id": "khaVTVy4fkCC",
        "colab": {
          "base_uri": "https://localhost:8080/",
          "height": 181
        },
        "outputId": "295ea123-945a-4433-c510-30f08e388017"
      },
      "source": [
        "clfd.fit(X_train,y_train)"
      ],
      "execution_count": null,
      "outputs": [
        {
          "output_type": "execute_result",
          "data": {
            "text/plain": [
              "GradientBoostingRegressor(alpha=0.9, ccp_alpha=0.0, criterion='friedman_mse',\n",
              "                          init=None, learning_rate=0.1, loss='ls', max_depth=3,\n",
              "                          max_features=None, max_leaf_nodes=None,\n",
              "                          min_impurity_decrease=0.0, min_impurity_split=None,\n",
              "                          min_samples_leaf=1, min_samples_split=2,\n",
              "                          min_weight_fraction_leaf=0.0, n_estimators=1000,\n",
              "                          n_iter_no_change=None, presort='deprecated',\n",
              "                          random_state=None, subsample=1.0, tol=0.0001,\n",
              "                          validation_fraction=0.1, verbose=0, warm_start=False)"
            ]
          },
          "metadata": {
            "tags": []
          },
          "execution_count": 51
        }
      ]
    },
    {
      "cell_type": "code",
      "metadata": {
        "id": "8tYeSMXvfu11"
      },
      "source": [
        "y_test=clfd.predict(X_test)"
      ],
      "execution_count": null,
      "outputs": []
    },
    {
      "cell_type": "code",
      "metadata": {
        "id": "CzOlojb0l-_u"
      },
      "source": [
        "for i in y_test:\n",
        "  if(i<0):\n",
        "    i=i*(-1)\n",
        "  else:\n",
        "    continue"
      ],
      "execution_count": null,
      "outputs": []
    },
    {
      "cell_type": "code",
      "metadata": {
        "id": "mw4BXrUZgdkS"
      },
      "source": [
        "dft['Selling_Price']=y_test"
      ],
      "execution_count": null,
      "outputs": []
    },
    {
      "cell_type": "code",
      "metadata": {
        "id": "vWYFVnDum0cp"
      },
      "source": [
        "for i in dft['Selling_Price']:\n",
        "  if(i<0):\n",
        "    i=i*(-1)\n",
        "  else:\n",
        "    continue"
      ],
      "execution_count": null,
      "outputs": []
    },
    {
      "cell_type": "code",
      "metadata": {
        "id": "R55P92aLgx_E"
      },
      "source": [
        "res=pd.DataFrame(y_test)"
      ],
      "execution_count": null,
      "outputs": []
    },
    {
      "cell_type": "code",
      "metadata": {
        "id": "Ns_kcEtRg_T7",
        "colab": {
          "base_uri": "https://localhost:8080/",
          "height": 424
        },
        "outputId": "5f895731-f2e3-4d6e-cfe4-db6cabb112c4"
      },
      "source": [
        "res"
      ],
      "execution_count": null,
      "outputs": [
        {
          "output_type": "execute_result",
          "data": {
            "text/html": [
              "<div>\n",
              "<style scoped>\n",
              "    .dataframe tbody tr th:only-of-type {\n",
              "        vertical-align: middle;\n",
              "    }\n",
              "\n",
              "    .dataframe tbody tr th {\n",
              "        vertical-align: top;\n",
              "    }\n",
              "\n",
              "    .dataframe thead th {\n",
              "        text-align: right;\n",
              "    }\n",
              "</style>\n",
              "<table border=\"1\" class=\"dataframe\">\n",
              "  <thead>\n",
              "    <tr style=\"text-align: right;\">\n",
              "      <th></th>\n",
              "      <th>0</th>\n",
              "    </tr>\n",
              "  </thead>\n",
              "  <tbody>\n",
              "    <tr>\n",
              "      <th>0</th>\n",
              "      <td>3262.744801</td>\n",
              "    </tr>\n",
              "    <tr>\n",
              "      <th>1</th>\n",
              "      <td>1304.127353</td>\n",
              "    </tr>\n",
              "    <tr>\n",
              "      <th>2</th>\n",
              "      <td>785.056242</td>\n",
              "    </tr>\n",
              "    <tr>\n",
              "      <th>3</th>\n",
              "      <td>66.768900</td>\n",
              "    </tr>\n",
              "    <tr>\n",
              "      <th>4</th>\n",
              "      <td>788.657464</td>\n",
              "    </tr>\n",
              "    <tr>\n",
              "      <th>...</th>\n",
              "      <td>...</td>\n",
              "    </tr>\n",
              "    <tr>\n",
              "      <th>1046</th>\n",
              "      <td>1600.448261</td>\n",
              "    </tr>\n",
              "    <tr>\n",
              "      <th>1047</th>\n",
              "      <td>432.956999</td>\n",
              "    </tr>\n",
              "    <tr>\n",
              "      <th>1048</th>\n",
              "      <td>1311.900664</td>\n",
              "    </tr>\n",
              "    <tr>\n",
              "      <th>1049</th>\n",
              "      <td>173.424397</td>\n",
              "    </tr>\n",
              "    <tr>\n",
              "      <th>1050</th>\n",
              "      <td>1306.986904</td>\n",
              "    </tr>\n",
              "  </tbody>\n",
              "</table>\n",
              "<p>1051 rows × 1 columns</p>\n",
              "</div>"
            ],
            "text/plain": [
              "                0\n",
              "0     3262.744801\n",
              "1     1304.127353\n",
              "2      785.056242\n",
              "3       66.768900\n",
              "4      788.657464\n",
              "...           ...\n",
              "1046  1600.448261\n",
              "1047   432.956999\n",
              "1048  1311.900664\n",
              "1049   173.424397\n",
              "1050  1306.986904\n",
              "\n",
              "[1051 rows x 1 columns]"
            ]
          },
          "metadata": {
            "tags": []
          },
          "execution_count": 67
        }
      ]
    },
    {
      "cell_type": "code",
      "metadata": {
        "id": "n79SRPIYhAf5",
        "colab": {
          "base_uri": "https://localhost:8080/",
          "height": 237
        },
        "outputId": "2348f45c-297f-4749-90c7-b2dddd66399b"
      },
      "source": [
        "def rf_feat_importance(m, df):\n",
        "    return pd.DataFrame({'cols':df.columns, 'imp':m.feature_importances_}\n",
        "                       ).sort_values('imp', ascending=False)\n",
        "fi = rf_feat_importance(clfd, X_train); \n",
        "fi"
      ],
      "execution_count": null,
      "outputs": [
        {
          "output_type": "execute_result",
          "data": {
            "text/html": [
              "<div>\n",
              "<style scoped>\n",
              "    .dataframe tbody tr th:only-of-type {\n",
              "        vertical-align: middle;\n",
              "    }\n",
              "\n",
              "    .dataframe tbody tr th {\n",
              "        vertical-align: top;\n",
              "    }\n",
              "\n",
              "    .dataframe thead th {\n",
              "        text-align: right;\n",
              "    }\n",
              "</style>\n",
              "<table border=\"1\" class=\"dataframe\">\n",
              "  <thead>\n",
              "    <tr style=\"text-align: right;\">\n",
              "      <th></th>\n",
              "      <th>cols</th>\n",
              "      <th>imp</th>\n",
              "    </tr>\n",
              "  </thead>\n",
              "  <tbody>\n",
              "    <tr>\n",
              "      <th>5</th>\n",
              "      <td>Date</td>\n",
              "      <td>0.346881</td>\n",
              "    </tr>\n",
              "    <tr>\n",
              "      <th>3</th>\n",
              "      <td>Subcategory_2</td>\n",
              "      <td>0.271516</td>\n",
              "    </tr>\n",
              "    <tr>\n",
              "      <th>2</th>\n",
              "      <td>Subcategory_1</td>\n",
              "      <td>0.150506</td>\n",
              "    </tr>\n",
              "    <tr>\n",
              "      <th>0</th>\n",
              "      <td>Product_Brand</td>\n",
              "      <td>0.142833</td>\n",
              "    </tr>\n",
              "    <tr>\n",
              "      <th>1</th>\n",
              "      <td>Item_Category</td>\n",
              "      <td>0.068248</td>\n",
              "    </tr>\n",
              "    <tr>\n",
              "      <th>4</th>\n",
              "      <td>Item_Rating</td>\n",
              "      <td>0.020016</td>\n",
              "    </tr>\n",
              "  </tbody>\n",
              "</table>\n",
              "</div>"
            ],
            "text/plain": [
              "            cols       imp\n",
              "5           Date  0.346881\n",
              "3  Subcategory_2  0.271516\n",
              "2  Subcategory_1  0.150506\n",
              "0  Product_Brand  0.142833\n",
              "1  Item_Category  0.068248\n",
              "4    Item_Rating  0.020016"
            ]
          },
          "metadata": {
            "tags": []
          },
          "execution_count": 68
        }
      ]
    },
    {
      "cell_type": "code",
      "metadata": {
        "id": "vvatIAAFhJjX"
      },
      "source": [
        "res.to_csv('Ecom.csv',index=False)\n",
        "!cp Ecom.csv \"drive/My Drive/\""
      ],
      "execution_count": null,
      "outputs": []
    },
    {
      "cell_type": "code",
      "metadata": {
        "id": "Mpwi4fsYhdqS"
      },
      "source": [
        ""
      ],
      "execution_count": null,
      "outputs": []
    }
  ]
}